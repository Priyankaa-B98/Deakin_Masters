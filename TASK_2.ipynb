{
 "cells": [
  {
   "cell_type": "markdown",
   "id": "aa08561e",
   "metadata": {},
   "source": [
    "# TASK 2: BITCOIN ANALYSIS\n",
    "\n",
    "## B PRIYANKAA\n",
    "\n",
    "### s224207694\n",
    "### priyayj2016@gmail.com"
   ]
  },
  {
   "cell_type": "markdown",
   "id": "6454652e",
   "metadata": {},
   "source": [
    "# ABSTRACT:\n",
    "\n",
    "Yahoo Finance gives finance related news on the prices of the Bitcoin with respect to USD exchange. Through the process of mining, users are able to generate BTC. The dataset is downloaded from the dataset using the link: https://finance.yahoo.com/quote/BTC-USD\n",
    "The last price of BTC is 42,485.335. This link gives the data of the prices of BTC with respect to everyday.\n",
    "\n",
    "This dataset must be cleaned based on the need and then descriptive stastical measures like mean and many more should be calculated. The variation in the prices of BTC-USD based on the third quarterly days 182 - 273 should be plotted. Als, to find out the day on which lowest price and highest price of the BTC - USD occured. A boxplot must be created and find the total number of outliers."
   ]
  },
  {
   "cell_type": "markdown",
   "id": "efd33ec4",
   "metadata": {},
   "source": [
    "## STEP 1 & STEP 2:\n",
    "\n",
    "**Purpose of Step-1:**\n",
    "\n",
    "The dataset is downloaded from the above link from 01-01-2023 to today under the 'Historical Data' tab on the site. A spreadsheet application that is, MSExcel is used and the dataset file is opened. The columns like Open, Adj Close, Date, High, Low, Volume are manually deleted. Then the 'Close' column label alone is manually deleted. Now this file contains only the numeric data. These observations are then exported as a CSV file. The name of the file is 'BTC-USD.csv'.\n",
    "\n",
    "**Purpose of Step-2:**\n",
    "\n",
    "To use numpy.loadtxt to read the 'BTC-USD' csv file as a numpy vector with a variable name 'rates'."
   ]
  },
  {
   "cell_type": "code",
   "execution_count": 1,
   "id": "8243090c",
   "metadata": {},
   "outputs": [],
   "source": [
    "# Necessary libraries are imported at the very first step.\n",
    "\n",
    "import numpy as np\n",
    "import matplotlib.pyplot as plt\n",
    "from scipy import stats"
   ]
  },
  {
   "cell_type": "code",
   "execution_count": 2,
   "id": "a6957083",
   "metadata": {},
   "outputs": [],
   "source": [
    "rates = np.loadtxt('BTC-USD.csv')"
   ]
  },
  {
   "cell_type": "markdown",
   "id": "1abe8b72",
   "metadata": {},
   "source": [
    "### Conclusion of Step-2:\n",
    "\n",
    "After downloading the dataset, it had Close, Open, Adj Close, Volume, Date and many more columns. As per the requirement, all the columns and values are manually removed and then removed the column name \"Close\" as mentioned in the task. Now the cleaned dataset containing only the numeric values is saved as a .csv file and it is loaded as a numpy vector with a name \"rates\"."
   ]
  },
  {
   "cell_type": "markdown",
   "id": "cb64239d",
   "metadata": {},
   "source": [
    "## STEP - 3:\n",
    "\n",
    "**Purpose of Step-3:**\n",
    "For the third quarterly Q3, the data of days from 182 to 273 is taken as input. The next step is to calculate:\n",
    "\n",
    "1. Mean, Minimum, Maximum, Median,\n",
    "\n",
    "2. The first quartile Q1, third quartile Q3, Interquartile Range (IQR),\n",
    "\n",
    "3. Standard Deviation\n",
    "\n",
    "These are the various measures of the data, that says how the data is spread."
   ]
  },
  {
   "cell_type": "code",
   "execution_count": 3,
   "id": "9997e994",
   "metadata": {},
   "outputs": [],
   "source": [
    "rates_q3 = rates[181:273] # rates_q3 has the third quarterly data."
   ]
  },
  {
   "cell_type": "code",
   "execution_count": 4,
   "id": "18e9936e",
   "metadata": {},
   "outputs": [],
   "source": [
    "# Calculating the statistical measures:\n",
    "\n",
    "arithmetic_mean = np.mean(rates_q3) # This gives the mean of the third quarterly dataset.\n",
    "\n",
    "median = np.median(rates_q3) # This gives the median of the third quarterly dataset.\n",
    "\n",
    "minimum = np.min(rates_q3) # This gives the minimum value of the third quarterly dataset.\n",
    "\n",
    "maximum = np.max(rates_q3) # This gives the maximum value of the third quarterly dataset.\n",
    "\n",
    "q1 = np.percentile(rates_q3, 25) # This gives the first quartile value (@25%) of the third quarterly dataset.\n",
    "\n",
    "q3 = np.percentile(rates_q3, 75) # This gives the third quartile value (@75%) of the third quarterly dataset.\n",
    "\n",
    "IQR = stats.iqr(rates_q3)  # This gives the interquartile range value of the third quarterly dataset.\n",
    "\n",
    "std_dev = np.std(rates_q3) # This gives the standard deviation value of the third quarterly dataset."
   ]
  },
  {
   "cell_type": "code",
   "execution_count": 5,
   "id": "efc34b13",
   "metadata": {},
   "outputs": [
    {
     "name": "stdout",
     "output_type": "stream",
     "text": [
      "##          arithmetic mean: 28091.33\n",
      "##          minimum: 25162.65\n",
      "##          Q1: 26225.56\n",
      "##          median: 28871.82\n",
      "##          Q3: 29767.07\n",
      "##          maximum: 31476.05\n",
      "##          standard deviation: 1827.04\n",
      "##          IQR: 3541.51\n"
     ]
    }
   ],
   "source": [
    "# Output:\n",
    "\n",
    "measures = {\"arithmetic mean\": round(arithmetic_mean, 2), \"minimum\": round(minimum, 2), \"Q1\": round(q1, 2), \"median\": round(median, 2), \"Q3\": round(q3, 2), \"maximum\": round(maximum, 2), \"standard deviation\": round(std_dev, 2), \"IQR\": round(IQR, 2)}\n",
    "# The 8 measure values are stored to the respective names after rounding the values to 2 places after decimal point.\n",
    "\n",
    "## To print the output:\n",
    "\n",
    "print(\"##          arithmetic mean:\", measures[\"arithmetic mean\"])\n",
    "print(\"##          minimum:\", measures[\"minimum\"])\n",
    "print(\"##          Q1:\", measures[\"Q1\"])\n",
    "print(\"##          median:\", measures[\"median\"])\n",
    "print(\"##          Q3:\", measures[\"Q3\"])\n",
    "print(\"##          maximum:\", measures[\"maximum\"])\n",
    "print(\"##          standard deviation:\", measures[\"standard deviation\"])\n",
    "print(\"##          IQR:\", measures[\"IQR\"])"
   ]
  },
  {
   "cell_type": "markdown",
   "id": "1eb6e0ab",
   "metadata": {},
   "source": [
    "### Conclusion of Step-3: \n",
    "\n",
    "1. From the whole dataset, only the Q3 data is taken as input that is from the day 182 - 273. For which, **Mean Median, Q1, Q3, IQR, Maximum, Minimum and standard deviation values are calculated.**\n",
    "\n",
    "2. Here, **mean** represents the average value of the whole data taken to process. That is the average price of BTC-USD in the days 182 - 273 was around 28091.33 USD.\n",
    "\n",
    "3. **Median** represents the middle value of the whole dataset when its arranged properly, Here it is around 28871.82 USD.\n",
    "\n",
    "4. **Minimum** represents the lowest price of the BTC-USD in the third quarterly days. Here it is around 25162.65 USD. **Maximum** represents the highest price of the BTC-USD in the third quarterly days. Here it is around 31476.05 USD.\n",
    "\n",
    "5. **IQR** which is also called as the midspread is calculated by the difference of the value at 75% - 25%, that is Q3 and Q1 respectively. This gives an idea of how the data is actually spread across. Here IQR is around 3541.51. \n",
    "\n",
    "6. **Standard deviation** is measure of the spreadness of the data with respect to the mean of the dataset. Here it is around\n",
    "   1827.04 USD"
   ]
  },
  {
   "cell_type": "markdown",
   "id": "1f146de4",
   "metadata": {},
   "source": [
    "## STEP - 4:\n",
    "\n",
    "**Purpose of Task 4:**\n",
    "\n",
    "To plot the variation in the prices of BTC-USD based on the third quarterly days 182 - 273.\n",
    "\n",
    "- Here, first a sequence of numbers is taken into variable name \"q3_days\".\n",
    "- Then in the plot function, this q3_days is given as input along with the prices that is rates_q3.\n",
    "- For a proper plot to be printed, xlabel name, ylabel name and title is given."
   ]
  },
  {
   "cell_type": "code",
   "execution_count": 6,
   "id": "3f594faf",
   "metadata": {},
   "outputs": [
    {
     "data": {
      "image/png": "[encoded data removed]",
      "text/plain": [
       "<Figure size 640x480 with 1 Axes>"
      ]
     },
     "metadata": {},
     "output_type": "display_data"
    }
   ],
   "source": [
    "q3_days = np.arange(182, 274) # This q3_days gives the total number of days for the third quarterly.\n",
    "\n",
    "plt.plot(q3_days, rates_q3, 'r-') # This \"r-\" is for the red solid line.\n",
    "plt.title('BTC to USD in Q3 2023')\n",
    "plt.xlabel('Days in Q3')\n",
    "plt.ylabel('BTC-USD exchange rate')\n",
    "plt.show()"
   ]
  },
  {
   "cell_type": "markdown",
   "id": "97ca833e",
   "metadata": {},
   "source": [
    "### Conclusion of Step 4:\n",
    "\n",
    "1. From the above plot, it is clearly evident that highest price for the BTC-USD was peaked **above 31000**, somewhere before the 200th day in the third Quarterly day.\n",
    "\n",
    "2. From the above plot, it is clearly evident that lowest price for the BTC-USD was **below 25500** somewhere before the 260th day in the third Quarterly day.\n",
    "\n",
    "3. Between 223 - 230 days, there was huge fall in the price on y-axis."
   ]
  },
  {
   "cell_type": "markdown",
   "id": "3b8ef482",
   "metadata": {},
   "source": [
    "## STEP - 5:\n",
    "\n",
    "**Purpose of Step-5:**\n",
    "\n",
    " - To find out on which day does the lowest price occured in third quarterly days and on which day does the highest price occured in third quarterly days? "
   ]
  },
  {
   "cell_type": "code",
   "execution_count": 7,
   "id": "6bca0a29",
   "metadata": {},
   "outputs": [],
   "source": [
    "lowestprice_day = q3_days[np.argmin(rates_q3)] # This will give +1, as the array index begins at 0.\n",
    "highestprice_day = q3_days[np.argmax(rates_q3)]"
   ]
  },
  {
   "cell_type": "code",
   "execution_count": 8,
   "id": "8b8caae5",
   "metadata": {},
   "outputs": [
    {
     "name": "stdout",
     "output_type": "stream",
     "text": [
      "##  Lowest price was on day 254   (25162.65).\n",
      "##  Highest price was on day 194   (31476.05).\n"
     ]
    }
   ],
   "source": [
    "# To print the output of the lowest and highest prices of the BTC in Q3 2023 and its respective days.\n",
    "\n",
    "print(f\"##  Lowest price was on day {lowestprice_day}   ({rates_q3[np.argmin(rates_q3)]:.2f}).\")\n",
    "print(f\"##  Highest price was on day {highestprice_day}   ({rates_q3[np.argmax(rates_q3)]:.2f}).\")"
   ]
  },
  {
   "cell_type": "markdown",
   "id": "ae2bd401",
   "metadata": {},
   "source": [
    "### Conclusion of Step 5:\n",
    "\n",
    "1. np.argmin and np.argmax is used on both the days data present in q3_days and also on the prices data stored in rates_q3.\n",
    "\n",
    "2. Lowest price was on day 254, 25162.65 USD. Highest price was on day 194, 31476.05 USD."
   ]
  },
  {
   "cell_type": "markdown",
   "id": "6b5ef0cd",
   "metadata": {},
   "source": [
    "## STEP 6:\n",
    "\n",
    "**Purpose of Step-6:**\n",
    "\n",
    "- To create a box plot based on the prices in the third quarterly days.\n",
    "\n",
    "- This box plot can summarise from various sources and create a box plot that shows the numbers of outliers present and sometimes even where the majority of the data points lie in the \"box\"."
   ]
  },
  {
   "cell_type": "code",
   "execution_count": 9,
   "id": "e50a9d91",
   "metadata": {},
   "outputs": [],
   "source": [
    "# To calculate the daily increase/ decrease price difference using numpy.diff\n",
    "rates_q3_changes = np.diff(rates_q3)"
   ]
  },
  {
   "cell_type": "code",
   "execution_count": 10,
   "id": "cd750025",
   "metadata": {},
   "outputs": [
    {
     "data": {
      "image/png": "[encoded data removed]",
      "text/plain": [
       "<Figure size 640x480 with 1 Axes>"
      ]
     },
     "metadata": {},
     "output_type": "display_data"
    }
   ],
   "source": [
    "# To create a box and whisker plot and drawn conclusions based on the plots\n",
    "\n",
    "plt.boxplot(rates_q3_changes, vert = False)\n",
    "plt.title('Distribution of BTC-to-USD daily price increase in Q3 2023')\n",
    "\n",
    "plt.xlabel('Price Change')\n",
    "plt.ylabel('')\n",
    "\n",
    "# This gives the mean, this is where in box plot it will marked with \"x\" in green color\n",
    "mean = np.mean(rates_q3_changes)\n",
    "plt.plot(mean, 1, 'gx', markersize = 10, label = 'Arithmetic Mean')\n",
    "\n",
    "plt.show()"
   ]
  },
  {
   "cell_type": "markdown",
   "id": "a532b567",
   "metadata": {},
   "source": [
    "### Conclusion of Step 6:\n",
    "\n",
    "1. The above box plot reveals how the changes in price of the BTC-USD is distributed in Q3 2023. This represents the IQR, that is calculated by the difference of Q3 and Q1. Using numpy.diff, the daily increase/ decrease price difference is calculated.\n",
    "\n",
    "2. The orange line represents the median and green \"x\" mark represents the mean. Points beyound the whiskers are called as Outliers.\n",
    "\n",
    "3. Outliers are sometimes considered as errors or exceptions."
   ]
  },
  {
   "cell_type": "markdown",
   "id": "12e42bf4",
   "metadata": {},
   "source": [
    "## STEP 7:\n",
    "\n",
    "**Purpose of Step-7:**\n",
    "\n",
    "To find the total number of outliers present in the change in prices of BTC-USD."
   ]
  },
  {
   "cell_type": "code",
   "execution_count": 11,
   "id": "07b81623",
   "metadata": {},
   "outputs": [],
   "source": [
    "q1_pricechange = np.percentile(rates_q3_changes, 25)\n",
    "q3_pricechange = np.percentile(rates_q3_changes, 75)\n",
    "\n",
    "iqr_pricechange = stats.iqr(rates_q3_changes)"
   ]
  },
  {
   "cell_type": "code",
   "execution_count": 12,
   "id": "9599f110",
   "metadata": {},
   "outputs": [],
   "source": [
    "lower_boundvalue = q1_pricechange - 1.5 * iqr_pricechange\n",
    "\n",
    "upper_boundvalue = q3_pricechange + 1.5 * iqr_pricechange"
   ]
  },
  {
   "cell_type": "code",
   "execution_count": 13,
   "id": "6992e1d4",
   "metadata": {},
   "outputs": [
    {
     "name": "stdout",
     "output_type": "stream",
     "text": [
      "##     There are 16 outliers.\n"
     ]
    }
   ],
   "source": [
    "# In order to identify the outliers, we have to use the Numpy vectorized relational operators\n",
    "\n",
    "outliers = (rates_q3_changes < lower_boundvalue) | (rates_q3_changes > upper_boundvalue)\n",
    "\n",
    "## Counting the number of outliers:\n",
    "n_outliers = np.sum(outliers)\n",
    "\n",
    "print(f\"##     There are {n_outliers} outliers.\")"
   ]
  },
  {
   "cell_type": "markdown",
   "id": "44c80059",
   "metadata": {},
   "source": [
    "### Conclusion of Step-7: \n",
    "\n",
    "1. From the data of difference in prices of the BTC-USD, q1 and q3 are calculated and from which IQR is also calculated.\n",
    "\n",
    "2. Using the Python Bitwise OR Operator |, the data points lying beyond the whiskers are calculated. \n",
    "\n",
    "3. It is found to be total of **16 Outliers** present in data of difference in prices of the BTC-USD in Q3 2023."
   ]
  },
  {
   "cell_type": "code",
   "execution_count": null,
   "id": "7e87896d",
   "metadata": {},
   "outputs": [],
   "source": []
  }
 ],
 "metadata": {
  "kernelspec": {
   "display_name": "Python 3 (ipykernel)",
   "language": "python",
   "name": "python3"
  },
  "language_info": {
   "codemirror_mode": {
    "name": "ipython",
    "version": 3
   },
   "file_extension": ".py",
   "mimetype": "text/x-python",
   "name": "python",
   "nbconvert_exporter": "python",
   "pygments_lexer": "ipython3",
   "version": "3.11.5"
  }
 },
 "nbformat": 4,
 "nbformat_minor": 5
}
