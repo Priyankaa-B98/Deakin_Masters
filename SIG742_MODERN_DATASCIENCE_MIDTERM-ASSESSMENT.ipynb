{
 "cells": [
  {
   "cell_type": "markdown",
   "id": "94182af6",
   "metadata": {},
   "source": [
    "# SIG742 - MODERN DATASCIENCE MODULE\n",
    "\n",
    "# MIDTERM ASSESSMENT"
   ]
  },
  {
   "cell_type": "markdown",
   "id": "e59ef9fe",
   "metadata": {},
   "source": [
    "# PART 1"
   ]
  },
  {
   "cell_type": "markdown",
   "id": "29e9c476",
   "metadata": {},
   "source": [
    "## Question 1.1\n",
    "\n",
    "### Write a method “is_divisible” that takes two integers, m and n. The method returns True if m is divisible  by n, and returns False otherwise. Give three test cases for this function and three test cases should  include cases that return values on True and False. Be sure to test your function well, including at least  three test cases."
   ]
  },
  {
   "cell_type": "markdown",
   "id": "3eda0b4b",
   "metadata": {},
   "source": [
    "### Steps to be followed:\n",
    "\n",
    "1. To write python code for a method, \"is_divisible\". \n",
    "2. Take two integers m and n.\n",
    "3. The method has to return **True** if m is divisible by n and return **False** if otherwise.\n",
    "4. To give 3 cases for this method."
   ]
  },
  {
   "cell_type": "code",
   "execution_count": 1,
   "id": "b80c1045",
   "metadata": {},
   "outputs": [],
   "source": [
    "def is_divisible(m, n):\n",
    "    # Check if m is divisible by n\n",
    "    if n == 0:\n",
    "        return False\n",
    "    return m % n == 0"
   ]
  },
  {
   "cell_type": "markdown",
   "id": "52910a34",
   "metadata": {},
   "source": [
    "### Explanation:\n",
    "\n",
    "- A function/ method is created with a name, \"is_divisible\" where m and n are two input integers.\n",
    "\n",
    "- Returns false if n is equal to zero and returns true if if m is divisible by n"
   ]
  },
  {
   "cell_type": "code",
   "execution_count": 2,
   "id": "e46a4104",
   "metadata": {},
   "outputs": [
    {
     "name": "stdout",
     "output_type": "stream",
     "text": [
      "True\n",
      "False\n",
      "True\n"
     ]
    }
   ],
   "source": [
    "print(is_divisible(10, 2))  \n",
    "print(is_divisible(15, 4))\n",
    "print(is_divisible(7, 1))"
   ]
  },
  {
   "cell_type": "markdown",
   "id": "82cf9f01",
   "metadata": {},
   "source": [
    "### Testcase Explanation:\n",
    "\n",
    "- In the first testcase where m and n is 10 and 2 and the remainder is 0 when 10 is divided by 2. This returns value: True.\n",
    "- In the first testcase where m and n is 15 and 4 and the remainder is not 0 when 15 is divided by 4. This returns value: False.\n",
    "- In the first testcase where m and n is 7 and 1 and the remainder is 0 when 7 is divided by 1. This returns value: True."
   ]
  },
  {
   "cell_type": "markdown",
   "id": "da7905a1",
   "metadata": {},
   "source": [
    "## Question 1.2\n",
    "\n",
    "### Imagine that Python does not have the != operator built in. Write a method “not_equal” that takes two variables(any variable type) and gives the same result as the != operator. Obviously, you cannot use != within your function! Test if your code works by thinking of examples and making sure the output is the same for your new method as != gives you. Be sure to test your function well, including at least 3 test cases."
   ]
  },
  {
   "cell_type": "markdown",
   "id": "edad56ac",
   "metadata": {},
   "source": [
    "### Steps to be followed:\n",
    "\n",
    "1. To write a method for \"not_equal\" - != operator.\n",
    "2. Have to take 2 variables and give the same result as that of != operator.\n",
    "3. Testing the function well, including at least 3 test cases."
   ]
  },
  {
   "cell_type": "code",
   "execution_count": 3,
   "id": "ed668b88",
   "metadata": {},
   "outputs": [
    {
     "name": "stdout",
     "output_type": "stream",
     "text": [
      "False\n",
      "True\n",
      "True\n"
     ]
    }
   ],
   "source": [
    "def not_equal(a, b):\n",
    "    return not (a == b)\n",
    "\n",
    "# Test cases for not_equal\n",
    "print(not_equal(5, 5))  # False\n",
    "print(not_equal(10, 3))  # True\n",
    "print(not_equal('hello', 'world')) # False"
   ]
  },
  {
   "cell_type": "markdown",
   "id": "fb512228",
   "metadata": {},
   "source": [
    "### Explanation:\n",
    "\n",
    "- The != operator returns value **True** if two variables a and b are not equal.\n",
    "- The variables can have numerical or alphabetical values. The operator works the same.\n",
    "- A method named \"not_equal\" is created returns value **True** if two variables a and b are not equal and returns value **False** if two variables a and b are equal.\n",
    "\n",
    "### TestCases:\n",
    "\n",
    "1. In the first testcase where a and b is 5 and 5 and when is checked for equality. They are found to be equal. Since this is a method for != operator, it returns value False.\n",
    "\n",
    "2. In the first testcase where a and b is 10 and 3 and when is checked for equality. They are found to be not equal. Since this is a method for != operator, it returns value True.\n",
    "\n",
    "3. In the first testcase where a and b is Hello and world and when is checked for equality. They are found to be not equal. Since this is a method for != operator, it returns value True."
   ]
  },
  {
   "cell_type": "markdown",
   "id": "45659341",
   "metadata": {},
   "source": [
    "## Question 1.3\n",
    "\n",
    "### List Comprehensions, you will need to perform and understand list comprehensions programming in below two small tasks.\n",
    "\n",
    "### - Write a list comprehension that prints out the possible results of three coin flips (how many results should be there?)\n",
    "\n",
    "### - Run this list comprehension in your notebook: [x+y for x in [10,20,30] for y in [1,2,3]]. Figure out what is going on here, and write a nested for loop that gives you the same result."
   ]
  },
  {
   "cell_type": "markdown",
   "id": "ec2d05c1",
   "metadata": {},
   "source": [
    "### Steps to be followed:\n",
    "\n",
    "#### Task 1:\n",
    "\n",
    "1. To use the list comprehensions in python to create the list in the easiest way.\n",
    "2. To write a list comprehension that prints out the possible results of three coin flips.\n",
    "3. To print the total results.\n",
    "\n",
    "#### Task 2:\n",
    "\n",
    "1. To run this list comprehension, i.e, x+y for x in [10,20,30] for y in [1,2,3] in the notebook.\n",
    "2. To write a nested for loop that gives you the same result."
   ]
  },
  {
   "cell_type": "code",
   "execution_count": 4,
   "id": "0565bf35",
   "metadata": {},
   "outputs": [
    {
     "data": {
      "text/plain": [
       "((8, ['HHH', 'HHT', 'HTH', 'HTT', 'THH', 'THT', 'TTH', 'TTT']),\n",
       " [11, 12, 13, 21, 22, 23, 31, 32, 33],\n",
       " [11, 12, 13, 21, 22, 23, 31, 32, 33])"
      ]
     },
     "execution_count": 4,
     "metadata": {},
     "output_type": "execute_result"
    }
   ],
   "source": [
    "from itertools import product\n",
    "\n",
    "# Task 1: To print out the possible results of three coin flips\n",
    "results = [''.join(coin) for coin in product('HT', repeat=3)]\n",
    "num_results = len(results)\n",
    "\n",
    "# Task 2: List comprehension and equivalent nested loop\n",
    "result_comprehension = [x+y for x in [10, 20, 30] for y in [1, 2, 3]]\n",
    "\n",
    "# Equivalent nested for loop for Task 2:\n",
    "result_nested_loop = []\n",
    "for x in [10, 20, 30]:\n",
    "    for y in [1, 2, 3]:\n",
    "        result_nested_loop.append(x + y)\n",
    "\n",
    "# Outputs\n",
    "(num_results, results), result_comprehension, result_nested_loop"
   ]
  },
  {
   "cell_type": "markdown",
   "id": "fd2054fe",
   "metadata": {},
   "source": [
    "### Explanation:\n",
    "\n",
    "#### Task 1:\n",
    "\n",
    "- By utilizing the product function from itertools module, it carries out all possible combinations by flipping a coin three times. \n",
    "\n",
    "- Every flip can bring ‘H’ which stands for heads and ;T’ which stands for tails. The array of strings of the form ['’. join(coin) for coin in product(‘HT’, repeat=3)] build list of all possible sequences of outcomes. \n",
    "\n",
    "- We check our total by computing the length of the ‘results’ list which must now be 8, and there they are: 2^3 = 8.\n",
    "\n",
    "- The first of which (8, [‘HHH’, ‘HHT’, ‘HTH’, ‘HTT’, ‘THH’, ‘THT’, ‘TTH’, ‘TTT’]) confirms that there are actually 8 possible ways one can get three flips of a coin. \n",
    "\n",
    "#### Task 2: \n",
    "\n",
    "- The list comprehensions of the form [x+y for x in [10, 20, 30] for y in [1, 2, 3]] creates a list by adding elements from the first list to the corresponding elements from the second list. The result is stored in result_comprehension.\n",
    "\n",
    "- The exact same is accomplished by the equivalent nested loop by iterating through both lists and adding the sum of each pair to result_nested_loop. The result is stored in result_nested_loop.\n",
    "\n",
    "- In the Output section, as we can see both result_comprehension and result_nested_loop gives the same output."
   ]
  },
  {
   "cell_type": "markdown",
   "id": "32428ffb",
   "metadata": {},
   "source": [
    "## Question 1.4\n",
    "\n",
    "### Write a function ”find_digits” that takes in a string and uses a list comprehension to return all the int digits in the string if any (assuming string only contain digits from 0 to 9). Be sure to test your function well, including at least 3 test cases."
   ]
  },
  {
   "cell_type": "markdown",
   "id": "1d38a494",
   "metadata": {},
   "source": [
    "### Steps to be followed:\n",
    "\n",
    "1. To extract simplest the digits from the string, to convert these digits from string layout to integers and to collect most of these integers into a list.\n",
    "\n",
    "2. To check if the cutting-edge testcase is a digit the use of the 'isdigit()' approach.\n",
    "\n",
    "3. For each individual that could be a digit, convert it to an integer the use of the 'int()' function.\n",
    "\n",
    "4. To store the converted integers in a listing and to return the final list containing all of the digits.\n",
    "\n",
    "5. To create a few test cases with different styles of input strings (For example., strings with no digits, strings with mixed characters and digits)."
   ]
  },
  {
   "cell_type": "code",
   "execution_count": 5,
   "id": "72233a26",
   "metadata": {},
   "outputs": [],
   "source": [
    "def find_digits(s):\n",
    "    return [int(char) for char in s if char.isdigit()]\n",
    "\n",
    "# Test cases\n",
    "test_strings = [\n",
    "    \"Deakin6199Australia\",      # Test case 1: String with letters and digits\n",
    "    \"AbsenceofDigits\", # Test case 2: String with no digits\n",
    "    \"1234567890\",        # Test case 3: String with only digits\n",
    "]"
   ]
  },
  {
   "cell_type": "markdown",
   "id": "c26e53e7",
   "metadata": {},
   "source": [
    "### Explanation:\n",
    "\n",
    "- The digits from the string are simple extracted, these digits from string layout to integers are converted and most of these integers into a list are collected.\n",
    "\n",
    "- Using of the 'isdigit()' approach, the cutting-edge testcase is checked if its a digit or not.\n",
    "\n",
    "- If its a digit, it is converted to an integer the use of the 'int()' function.\n",
    "\n",
    "- The converted integers are stored in a listing and to return the final list containing all of the digits.\n",
    "\n",
    "- The code is tested with various for few test cases."
   ]
  },
  {
   "cell_type": "code",
   "execution_count": 6,
   "id": "dfd16878",
   "metadata": {},
   "outputs": [
    {
     "name": "stdout",
     "output_type": "stream",
     "text": [
      "{'Deakin6199Australia': [6, 1, 9, 9], 'AbsenceofDigits': [], '1234567890': [1, 2, 3, 4, 5, 6, 7, 8, 9, 0]}\n"
     ]
    }
   ],
   "source": [
    "# Running the test cases\n",
    "results = {test: find_digits(test) for test in test_strings}\n",
    "print(results)"
   ]
  },
  {
   "cell_type": "markdown",
   "id": "ef1d130e",
   "metadata": {},
   "source": [
    "### Testcases Explanation:\n",
    "\n",
    "1. In the first testcase **Deakin6199Australia**, it contains the digits 6199 and it is printed as list.\n",
    "\n",
    "2. In the first testcase **AbsenceofDigits**, it contains no digits and it is printed as blank list.\n",
    "\n",
    "3. In the first testcase **1234567890**, it contains the digits from 0-9 and it is printed as list."
   ]
  },
  {
   "cell_type": "markdown",
   "id": "82ad1e28",
   "metadata": {},
   "source": [
    "## Question 1.5\n",
    "\n",
    "\n",
    "### Write a list comprehension which solves the equation y = 2x^2 − 1 like Figure 2. Your solution should print out a list of [x, y] pairs; use the domain x ∈ [−3, 3] and the range y ∈ [0, 30]. x and y are all integers and you could use range for simulation on the x and y."
   ]
  },
  {
   "cell_type": "markdown",
   "id": "94760421",
   "metadata": {},
   "source": [
    "### Steps to be followed:\n",
    "\n",
    "1. The equation is y = 2x^2 - 1, the domain is x in [-3, 3] and range of y is [0,30]. Both x and y are integers.\n",
    "\n",
    "2. To write a list comprehension which solves the equation y = 2x^2 − 1.\n",
    "\n",
    "3. To print out a list of [x, y] pairs using the domain x ∈ [−3, 3] and the range y ∈ [0, 30] where x and y are all integers.\n",
    "\n",
    "4. To plot the pairs."
   ]
  },
  {
   "cell_type": "code",
   "execution_count": 7,
   "id": "7090da3b",
   "metadata": {},
   "outputs": [
    {
     "name": "stdout",
     "output_type": "stream",
     "text": [
      "[[-3, 17], [-2, 7], [-1, 1], [1, 1], [2, 7], [3, 17]]\n"
     ]
    }
   ],
   "source": [
    "# Equation: y = 2x^2 - 1\n",
    "# Domain: x in [-3, 3]\n",
    "# Range: y in [0, 30]\n",
    "\n",
    "pairs = [[x, y] for x in range(-3, 4) for y in range(0, 31) if y == 2 * x**2 - 1]\n",
    "\n",
    "# Print the pairs\n",
    "print(pairs)"
   ]
  },
  {
   "cell_type": "markdown",
   "id": "5a35ee4d",
   "metadata": {},
   "source": [
    "### Explanation:\n",
    "\n",
    "- The first step is to initialize the List Comprehension when the domain for x is [-3,3]. Now we iterate from x= -3 and x = 3.\n",
    "\n",
    "-  The second step is to generate possible values of 𝑦, from 0 to 30.\n",
    "\n",
    "- The condition y == 2 * x^2 - 1 ensures that only the pairs where 𝑦 satisfies the equation y = 2x^2 − 1 that are included in the list."
   ]
  },
  {
   "cell_type": "markdown",
   "id": "f8c191ec",
   "metadata": {},
   "source": [
    "### Data Visualisation of the pairs:"
   ]
  },
  {
   "cell_type": "code",
   "execution_count": 8,
   "id": "b55f9ef1",
   "metadata": {},
   "outputs": [
    {
     "data": {
      "image/png": "[encoded data removed]",
      "text/plain": [
       "<Figure size 640x480 with 1 Axes>"
      ]
     },
     "metadata": {},
     "output_type": "display_data"
    }
   ],
   "source": [
    "import matplotlib.pyplot as plt\n",
    "\n",
    "# List comprehension to generate [x, y] pairs\n",
    "pairs = [[x, y] for x in range(-3, 4) for y in range(0, 31) if y == 2 * x**2 - 1]\n",
    "\n",
    "# Separate x and y values from the pairs\n",
    "x_values = [pair[0] for pair in pairs]\n",
    "y_values = [pair[1] for pair in pairs]\n",
    "\n",
    "# Plot the pairs\n",
    "plt.scatter(x_values, y_values, color='blue', marker='o')\n",
    "\n",
    "# Adding labels and title\n",
    "plt.xlabel('x')\n",
    "plt.ylabel('y')\n",
    "plt.title('Plot of y = 2x^2 - 1 for x ∈ [-3, 3] and y ∈ [0, 30]')\n",
    "\n",
    "# Show the plot\n",
    "plt.grid(True)\n",
    "plt.show()"
   ]
  },
  {
   "cell_type": "markdown",
   "id": "e3c156c0",
   "metadata": {},
   "source": [
    "### The pairs are plotted: **[[-3, 17], [-2, 7], [-1, 1], [1, 1], [2, 7], [3, 17]]**."
   ]
  },
  {
   "cell_type": "markdown",
   "id": "2ec7b6fd",
   "metadata": {},
   "source": [
    "## Question 1.6\n",
    "\n",
    "### Collision Detection of Balls:\n",
    "\n",
    "\n",
    "### For calculating collision, we only care about a ball’s position in space, as well as its size. We can store a ball’s position with the (x, y) coordinates of its center point, and we can calculate its size if we know its radius r. Thus, we represent a ball in 2D space as a tuple of (x, y, r). To figure out if two balls are colliding, we need to compute the distance between their centers, then see if this distance is less than or equal to the sum of their radius. If so, they are colliding. Please define a function with two list as inputs (two balls’ position and radius [x,y,r]), test your function with three different cases."
   ]
  },
  {
   "cell_type": "markdown",
   "id": "c1d7f558",
   "metadata": {},
   "source": [
    "### Points to be remembered:\n",
    "\n",
    "### Steps to be followed:\n",
    "\n",
    "1) A ball is represented in the 2D space with a tuple (x, y, r), where x and y are its coordinates and r is its radius.\n",
    "\n",
    "2) Two balls are said to be colliding if the distance between them is less than or equal to the sum of their radii.\n",
    "\n",
    "3) A function will take two tuples as parameters and returns True if they are colliding, else False.\n",
    "\n",
    "4) To calculate the distance between the centers of the two balls using the distance formula, distance = math.sqrt((x2 - x1)^2 + (y2 - y1)^2).\n",
    "\n",
    "5) To compare this distance to the sum of the radii of the two balls. If the distance is less than or equal to the sum of the radii, then the balls are colliding."
   ]
  },
  {
   "cell_type": "code",
   "execution_count": 9,
   "id": "1daab344",
   "metadata": {},
   "outputs": [],
   "source": [
    "import math\n",
    "\n",
    "def check_collision(ball1, ball2):\n",
    "    # Extract out the coordinates and radii\n",
    "    x1, y1, r1 = ball1\n",
    "    x2, y2, r2 = ball2\n",
    "    \n",
    "    # to Calculate the distance between the centers\n",
    "    distance = math.sqrt((x2 - x1)**2 + (y2 - y1)**2)\n",
    "    \n",
    "    # Check for the collision condition\n",
    "    if distance <= (r1 + r2):\n",
    "        return True  # The balls are colliding\n",
    "    else:\n",
    "        return False  # The balls are not colliding\n",
    "\n",
    "# Example Test cases\n",
    "ball1 = [0, 0, 1]\n",
    "ball2 = [2, 0, 1]\n",
    "ball3 = [3, 3, 1]\n",
    "ball4 = [1, 1, 3]\n",
    "ball5 = [5, 0, 1]"
   ]
  },
  {
   "cell_type": "markdown",
   "id": "7156bb61",
   "metadata": {},
   "source": [
    "### Code Explanation:\n",
    "\n",
    "- A function **check_collision** will take two tuples as parameters and returns True if they are colliding, else False.\n",
    "\n",
    "- The distance between the centers of the two balls using the distance formula, distance = math.sqrt((x2 - x1)^2 + (y2 - y1)^2) is calculated.\n",
    "\n",
    "- The distance to the sum of the radii of the two balls. If the distance is less than or equal to the sum of the radii, then the balls are colliding."
   ]
  },
  {
   "cell_type": "code",
   "execution_count": 10,
   "id": "3a9ae013",
   "metadata": {},
   "outputs": [
    {
     "name": "stdout",
     "output_type": "stream",
     "text": [
      "True\n",
      "False\n",
      "False\n"
     ]
    }
   ],
   "source": [
    "print(check_collision(ball1, ball2))  # will True\n",
    "print(check_collision(ball1, ball3))  # will False\n",
    "print(check_collision(ball4, ball5))  # will False"
   ]
  },
  {
   "cell_type": "markdown",
   "id": "3f30dcaf",
   "metadata": {},
   "source": [
    "### Testcases Explained:\n",
    "\n",
    "1. In the first testcase ball1, ball2 are considered as tuple. The distance between the centers of the two balls using the distance formula is calculated. It is found to be lesser than or to the sum of the radii and thus balls are colliding.\n",
    "\n",
    "2. In the first testcase ball1, ball3 are considered as tuple. The distance between the centers of the two balls using the distance formula is calculated. It is found to be larger than or to the sum of the radii and thus balls are not colliding.\n",
    "\n",
    "3. In the first testcase ball4, ball5 are considered as tuple. The distance between the centers of the two balls using the distance formula is calculated. It is found to be larger than or to the sum of the radii and thus balls are not colliding."
   ]
  },
  {
   "cell_type": "markdown",
   "id": "d0ca4e9e",
   "metadata": {},
   "source": [
    "## Question 1.7\n",
    "\n",
    "\n",
    "### Scoring the words A set of score is given to you as below according to each English let\u0002ters: LETTER˙VALUES = ’a’: 1, ’b’: 1, ’c’: 5, ’d’: 6, ’e’: 1, ’f’: 4, ’g’: 2, ’h’: 4, ’i’: 1, ’j’: 8, ’k’: 6, ’l’: 1, ’m’: 4, ’n’: 1, ’o’: 1, ’p’: 3, ’q’: 11, ’r’: 1, ’s’: 1, ’t’: 1, ’u’: 1, ’v’: 5, ’w’: 4, ’x’: 8, ’y’: 6, ’z’: 10, ’ ’:100\n",
    "\n",
    "\n",
    "### Please finish the “get_word_score” function for returning the correct word score (condition is given from function comments). The necessary library is given to you for importing (not other libraries should be used). Test with “Australia”, “Deakin” and your name for three cases.\n",
    "\n",
    "***def g e t w o r d s c o r e ( word ) :\n",
    "”””\n",
    "Returns t h e s c o r e f o r a word . Assumes t h e word i s a\n",
    "v a l i d word .\n",
    "You may assume t h a t t h e i n p u t word i s alw ay s e i t h e r\n",
    "a s t r i n g o f l e t t e r s ,\n",
    "and can no t be t h e empty s t r i n g ” ” .\n",
    "You may no t assume t h a t t h e s t r i n g w i l l o nly c o n t a i n\n",
    "l ow e r c a s e l e t t e r s , so you w i l l have t o h an dle u p pe rc a se\n",
    "and mixed c a se s t r i n g s\n",
    "a p p r o p r i a t e l y .\n",
    "The s c o r e f o r a word i s t h e p r o d u c t o f two components :\n",
    "The f i r s t component i s t h e sum o f t h e p o i n t s f o r l e t t e r s\n",
    "in t h e word .\n",
    "The second component i s t h e l a r g e r o f :\n",
    "1 , or\n",
    "7∗wordlen − 3∗(20−wordlen ) ,\n",
    "where wordlen i s t h e l e n g t h o f t h e word\n",
    "L e t t e r s are s c o r e d as in LETTER VALUES .\n",
    "word : s t r i n g\n",
    "r e t u r n s : i n t >= 0\n",
    "\"\"\"***"
   ]
  },
  {
   "cell_type": "markdown",
   "id": "1d446f75",
   "metadata": {},
   "source": [
    "### Steps to be followed:\n",
    "\n",
    "1. The task is to implement a Python function get_word_score that calculates a score for a given word.\n",
    "\n",
    "2. Each letter has a predefined score, as shown in the LETTER_VALUES dictionary (e.g., 'a': 1, 'b': 1, 'c': 5, etc.).\n",
    "\n",
    "3. To calculate the word's score. The word's score is the product of two components:\n",
    "\n",
    "- The sum of the letter values for each character in the word.\n",
    "- The larger of either: 1, or 7 * wordlen - 3 * (20 - wordlen), where wordlen is the length of the word.\n",
    "\n",
    "4. The input word may contain mixed case letters (e.g., \"Australia\" or \"Deakin\"), so you need to handle both uppercase and lowercase letters."
   ]
  },
  {
   "cell_type": "code",
   "execution_count": 1,
   "id": "de203a26",
   "metadata": {},
   "outputs": [
    {
     "name": "stdout",
     "output_type": "stream",
     "text": [
      "270\n",
      "17\n",
      "920\n"
     ]
    }
   ],
   "source": [
    "# Scoring system for each letter\n",
    "LETTER_VALUES = {\n",
    "    'a': 1, 'b': 1, 'c': 5, 'd': 6, 'e': 1, 'f': 4, 'g': 2, 'h': 4,\n",
    "    'i': 1, 'j': 8, 'k': 7, 'l': 1, 'm': 4, 'n': 1, 'o': 1, 'p': 3, \n",
    "    'q': 11, 'r': 1, 's': 1, 't': 1, 'u': 1, 'v': 5, 'w': 4, 'x': 8, \n",
    "    'y': 6, 'z': 10, ' ': 100  # Assuming space has a large score as hinted\n",
    "}\n",
    "\n",
    "def get_word_score(word):\n",
    "    \"\"\"\n",
    "    Returns the score for a word. Assumes the word is a valid word.\n",
    "    \n",
    "    word: string\n",
    "    returns: int >= 0\n",
    "    \"\"\"\n",
    "    # Convert the word to lowercase to handle mixed case\n",
    "    word = word.lower()\n",
    "    \n",
    "    # Calculate Component 1: Sum of the points for letters in the word\n",
    "    letter_sum = sum(LETTER_VALUES.get(char, 0) for char in word)\n",
    "\n",
    "    # Calculate Component 2: The larger of (1) or the formula\n",
    "    wordlen = len(word)\n",
    "    component_2 = max(1, 7 * wordlen - 3 * (20 - wordlen))\n",
    "\n",
    "    # Final score is the product of the two components\n",
    "    total_score = letter_sum * component_2\n",
    "\n",
    "    return total_score\n",
    "\n",
    "# Test cases\n",
    "print(get_word_score(\"Australia\"))  # Test with \"Australia\"\n",
    "print(get_word_score(\"Deakin\"))     # Test with \"Deakin\"\n",
    "print(get_word_score(\"BPriyankaa\"))   # Test with ownname\n"
   ]
  },
  {
   "cell_type": "markdown",
   "id": "a81df41b",
   "metadata": {},
   "source": [
    "### Code and Output Explanation:\n",
    "\n",
    "- Each letter has a predefined score, as shown in the LETTER_VALUES dictionary (e.g., 'a': 1, 'b': 1, 'c': 5, etc.).\n",
    "\n",
    "- A function get_word_score is created and returns the score for a word where the word is assumed to be a valid word.\n",
    "\n",
    "- The next step is to convert the word to lowercase to handle mixed case.\n",
    "\n",
    "- The word's score is the product of two components:\n",
    "\n",
    "- The sum of the letter values for each character in the word.\n",
    "- The larger of either: 1, or 7 * wordlen - 3 * (20 - wordlen), where wordlen is the length of the word.\n",
    "\n",
    "- Final score is the product of the two components is saved into total_score variable."
   ]
  },
  {
   "cell_type": "markdown",
   "id": "231b6412",
   "metadata": {},
   "source": [
    "1. In the first testcase Australia, The word's score is the product of two components and it is calculated by formula and code and it is printed. The word's score is said to be 270.\n",
    "\n",
    "2. In the first testcase Deakin, The word's score is the product of two components and it is calculated by formula and code and it is printed. The word's score is said to be 17.\n",
    "\n",
    "3. In the first testcase BPriyankaa, The word's score is the product of two components and it is calculated by formula and code and it is printed. The word's score is said to be 920."
   ]
  },
  {
   "cell_type": "markdown",
   "id": "95f17aeb",
   "metadata": {},
   "source": [
    "## Question 1.8\n",
    "\n",
    "### Could you please use loop(s) with string character“*” to print as below Figure 3? mentioned in the assessment pdf."
   ]
  },
  {
   "cell_type": "markdown",
   "id": "c96d28b6",
   "metadata": {},
   "source": [
    "### Task: \n",
    "\n",
    "- The task in the image is to create a pattern using the * character through loops. The pattern produced is symmetric, increasing and then decreasing in the number of stars."
   ]
  },
  {
   "cell_type": "code",
   "execution_count": 11,
   "id": "b803986a",
   "metadata": {},
   "outputs": [
    {
     "name": "stdout",
     "output_type": "stream",
     "text": [
      "    *\n",
      "   **\n",
      "  ***\n",
      " ****\n",
      "*****\n",
      " ****\n",
      "  ***\n",
      "   **\n",
      "    *\n"
     ]
    }
   ],
   "source": [
    "def print_pattern():\n",
    "    n = 5\n",
    "    for i in range(1, n+1):\n",
    "        print(' ' * (n-i) + '*' * i)\n",
    "    for i in range(n-1, 0, -1):\n",
    "        print(' ' * (n-i) + '*' * i)\n",
    "\n",
    "print_pattern()\n",
    "\n"
   ]
  },
  {
   "cell_type": "markdown",
   "id": "bd59031a",
   "metadata": {},
   "source": [
    "### Code Explanation:\n",
    "\n",
    "1. The height of the pattern is n = 5. \n",
    "\n",
    "2. The First loop is used for printing the increasing pattern.\n",
    "\n",
    "3. In the First Loop (for i in range(1, n+1)):\n",
    "\n",
    "- It iterates from 1 to n (which is 5 in this case), printing a line for each i.\n",
    "- The line contains (n - i) spaces followed by i stars (*).\n",
    "- This creates an increasing pattern of stars.\n",
    "\n",
    "4. In the Second loop is used for printing the decreasing pattern.\n",
    "\n",
    "5. In the Second Loop (for i in range(n-1, 0, -1)):\n",
    "\n",
    "- It iterates from n-1 (which is 4) down to 1, reversing the process.\n",
    "- Each line contains (n - i) spaces followed by i stars.\n",
    "- This creates the decreasing pattern of stars.\n",
    "\n",
    "6. This pattern prints a pyramid-like shape and we can adjust the value of n to modify the size of the pattern."
   ]
  },
  {
   "cell_type": "code",
   "execution_count": null,
   "id": "4d0007e5",
   "metadata": {},
   "outputs": [],
   "source": []
  },
  {
   "cell_type": "code",
   "execution_count": null,
   "id": "0532e2e7",
   "metadata": {},
   "outputs": [],
   "source": []
  }
 ],
 "metadata": {
  "kernelspec": {
   "display_name": "Python 3 (ipykernel)",
   "language": "python",
   "name": "python3"
  },
  "language_info": {
   "codemirror_mode": {
    "name": "ipython",
    "version": 3
   },
   "file_extension": ".py",
   "mimetype": "text/x-python",
   "name": "python",
   "nbconvert_exporter": "python",
   "pygments_lexer": "ipython3",
   "version": "3.11.5"
  }
 },
 "nbformat": 4,
 "nbformat_minor": 5
}
