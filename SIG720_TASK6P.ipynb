{
 "cells": [
  {
   "cell_type": "markdown",
   "id": "f3bdd83a",
   "metadata": {},
   "source": [
    "# SIG720: Machine Learning "
   ]
  },
  {
   "cell_type": "markdown",
   "id": "64dab305",
   "metadata": {},
   "source": [
    "# TASK 6:\n",
    "\n",
    "## B PRIYANKAA\n",
    "\n",
    "### s224207694\n",
    "### priyayj2016@gmail.com\n",
    "\n",
    "## TARGET GRADE: PASS(P)"
   ]
  },
  {
   "cell_type": "markdown",
   "id": "a7c062d5",
   "metadata": {},
   "source": [
    "## ABSTRACT:\n",
    "\n",
    "The MNIST digits classification dataset is a well-known dataset in the field of machine learning, particularly in image processing and pattern recognition. It is often used as a benchmark for training and testing algorithms for image classification.\n",
    "\n",
    "## ABOUT THE DATASET:\n",
    "\n",
    "The dataset contains 70,000 grayscale images of handwritten digits from 0 to 9. Each image is a 28x28 pixel grid, making a total of 784 pixels. Each image is associated with a label corresponding to the digit it represents, ranging from 0 to 9.\n",
    "\n",
    "### The dataset is divided into two parts:\n",
    "\n",
    "- Training Set: 60,000 images used to train machine learning models.\n",
    "- Test Set: 10,000 images used to evaluate the performance of the trained model."
   ]
  },
  {
   "cell_type": "markdown",
   "id": "a36d2405",
   "metadata": {},
   "source": [
    "## TASKS:\n",
    "\n",
    "1. To load the MNIST Digit dataset and show the size of the training and test set.\n",
    "2. To develop a one hidden layer multi-layer perceptron model on the above training data and report the accuracy of the model.\n",
    "3. To set the number of hidden layers of the MLP model as [2,4,6,8,10] and to set the hidden layer size as 100, show the accuracies on the test set.\n",
    "4. To set the hidden layer size as [50, 100, 150, 200] and to show the accuracies on the test set for the hidden layer.\n",
    "5. To explain the key findings."
   ]
  },
  {
   "cell_type": "markdown",
   "id": "09aa1517",
   "metadata": {},
   "source": [
    "### All the necessary libraries are imported."
   ]
  },
  {
   "cell_type": "code",
   "execution_count": 1,
   "id": "bb455da9",
   "metadata": {},
   "outputs": [],
   "source": [
    "import numpy as np\n",
    "import pandas as pd\n",
    "import matplotlib.pyplot as plt\n",
    "import seaborn as sns\n",
    "import scipy.stats as stats\n",
    "import warnings\n",
    "\n",
    "from scipy.stats import zscore\n",
    "\n",
    "from sklearn.datasets import fetch_openml\n",
    "from sklearn.model_selection import train_test_split\n",
    "from sklearn.neural_network import MLPClassifier\n",
    "from sklearn.metrics import accuracy_score\n",
    "\n",
    "warnings.filterwarnings('ignore')\n",
    "%matplotlib inline"
   ]
  },
  {
   "cell_type": "markdown",
   "id": "eb1a90c6",
   "metadata": {},
   "source": [
    "# 1.Load the MNIST Digit dataset, show the size of the training and test set."
   ]
  },
  {
   "cell_type": "markdown",
   "id": "34f89466",
   "metadata": {},
   "source": [
    "### Step 1:\n",
    "\n",
    "1. To load the **mnist** dataset into the variable, \"mnist_df\". \n",
    "2. To set the target variable of mnist_data into y and data columns of mnist_data is set into X.\n",
    "3. To view the size of the training and test set."
   ]
  },
  {
   "cell_type": "code",
   "execution_count": 2,
   "id": "28d30085",
   "metadata": {},
   "outputs": [],
   "source": [
    "# Load the MNIST dataset\n",
    "\n",
    "mnist = fetch_openml('mnist_784', version=1)\n",
    "X, y = mnist[\"data\"], mnist[\"target\"]"
   ]
  },
  {
   "cell_type": "code",
   "execution_count": 3,
   "id": "08a7c80a",
   "metadata": {},
   "outputs": [
    {
     "data": {
      "text/html": [
       "<div>\n",
       "<style scoped>\n",
       "    .dataframe tbody tr th:only-of-type {\n",
       "        vertical-align: middle;\n",
       "    }\n",
       "\n",
       "    .dataframe tbody tr th {\n",
       "        vertical-align: top;\n",
       "    }\n",
       "\n",
       "    .dataframe thead th {\n",
       "        text-align: right;\n",
       "    }\n",
       "</style>\n",
       "<table border=\"1\" class=\"dataframe\">\n",
       "  <thead>\n",
       "    <tr style=\"text-align: right;\">\n",
       "      <th></th>\n",
       "      <th>pixel1</th>\n",
       "      <th>pixel2</th>\n",
       "      <th>pixel3</th>\n",
       "      <th>pixel4</th>\n",
       "      <th>pixel5</th>\n",
       "      <th>pixel6</th>\n",
       "      <th>pixel7</th>\n",
       "      <th>pixel8</th>\n",
       "      <th>pixel9</th>\n",
       "      <th>pixel10</th>\n",
       "      <th>...</th>\n",
       "      <th>pixel775</th>\n",
       "      <th>pixel776</th>\n",
       "      <th>pixel777</th>\n",
       "      <th>pixel778</th>\n",
       "      <th>pixel779</th>\n",
       "      <th>pixel780</th>\n",
       "      <th>pixel781</th>\n",
       "      <th>pixel782</th>\n",
       "      <th>pixel783</th>\n",
       "      <th>pixel784</th>\n",
       "    </tr>\n",
       "  </thead>\n",
       "  <tbody>\n",
       "    <tr>\n",
       "      <th>0</th>\n",
       "      <td>0</td>\n",
       "      <td>0</td>\n",
       "      <td>0</td>\n",
       "      <td>0</td>\n",
       "      <td>0</td>\n",
       "      <td>0</td>\n",
       "      <td>0</td>\n",
       "      <td>0</td>\n",
       "      <td>0</td>\n",
       "      <td>0</td>\n",
       "      <td>...</td>\n",
       "      <td>0</td>\n",
       "      <td>0</td>\n",
       "      <td>0</td>\n",
       "      <td>0</td>\n",
       "      <td>0</td>\n",
       "      <td>0</td>\n",
       "      <td>0</td>\n",
       "      <td>0</td>\n",
       "      <td>0</td>\n",
       "      <td>0</td>\n",
       "    </tr>\n",
       "    <tr>\n",
       "      <th>1</th>\n",
       "      <td>0</td>\n",
       "      <td>0</td>\n",
       "      <td>0</td>\n",
       "      <td>0</td>\n",
       "      <td>0</td>\n",
       "      <td>0</td>\n",
       "      <td>0</td>\n",
       "      <td>0</td>\n",
       "      <td>0</td>\n",
       "      <td>0</td>\n",
       "      <td>...</td>\n",
       "      <td>0</td>\n",
       "      <td>0</td>\n",
       "      <td>0</td>\n",
       "      <td>0</td>\n",
       "      <td>0</td>\n",
       "      <td>0</td>\n",
       "      <td>0</td>\n",
       "      <td>0</td>\n",
       "      <td>0</td>\n",
       "      <td>0</td>\n",
       "    </tr>\n",
       "    <tr>\n",
       "      <th>2</th>\n",
       "      <td>0</td>\n",
       "      <td>0</td>\n",
       "      <td>0</td>\n",
       "      <td>0</td>\n",
       "      <td>0</td>\n",
       "      <td>0</td>\n",
       "      <td>0</td>\n",
       "      <td>0</td>\n",
       "      <td>0</td>\n",
       "      <td>0</td>\n",
       "      <td>...</td>\n",
       "      <td>0</td>\n",
       "      <td>0</td>\n",
       "      <td>0</td>\n",
       "      <td>0</td>\n",
       "      <td>0</td>\n",
       "      <td>0</td>\n",
       "      <td>0</td>\n",
       "      <td>0</td>\n",
       "      <td>0</td>\n",
       "      <td>0</td>\n",
       "    </tr>\n",
       "    <tr>\n",
       "      <th>3</th>\n",
       "      <td>0</td>\n",
       "      <td>0</td>\n",
       "      <td>0</td>\n",
       "      <td>0</td>\n",
       "      <td>0</td>\n",
       "      <td>0</td>\n",
       "      <td>0</td>\n",
       "      <td>0</td>\n",
       "      <td>0</td>\n",
       "      <td>0</td>\n",
       "      <td>...</td>\n",
       "      <td>0</td>\n",
       "      <td>0</td>\n",
       "      <td>0</td>\n",
       "      <td>0</td>\n",
       "      <td>0</td>\n",
       "      <td>0</td>\n",
       "      <td>0</td>\n",
       "      <td>0</td>\n",
       "      <td>0</td>\n",
       "      <td>0</td>\n",
       "    </tr>\n",
       "    <tr>\n",
       "      <th>4</th>\n",
       "      <td>0</td>\n",
       "      <td>0</td>\n",
       "      <td>0</td>\n",
       "      <td>0</td>\n",
       "      <td>0</td>\n",
       "      <td>0</td>\n",
       "      <td>0</td>\n",
       "      <td>0</td>\n",
       "      <td>0</td>\n",
       "      <td>0</td>\n",
       "      <td>...</td>\n",
       "      <td>0</td>\n",
       "      <td>0</td>\n",
       "      <td>0</td>\n",
       "      <td>0</td>\n",
       "      <td>0</td>\n",
       "      <td>0</td>\n",
       "      <td>0</td>\n",
       "      <td>0</td>\n",
       "      <td>0</td>\n",
       "      <td>0</td>\n",
       "    </tr>\n",
       "  </tbody>\n",
       "</table>\n",
       "<p>5 rows × 784 columns</p>\n",
       "</div>"
      ],
      "text/plain": [
       "   pixel1  pixel2  pixel3  pixel4  pixel5  pixel6  pixel7  pixel8  pixel9  \\\n",
       "0       0       0       0       0       0       0       0       0       0   \n",
       "1       0       0       0       0       0       0       0       0       0   \n",
       "2       0       0       0       0       0       0       0       0       0   \n",
       "3       0       0       0       0       0       0       0       0       0   \n",
       "4       0       0       0       0       0       0       0       0       0   \n",
       "\n",
       "   pixel10  ...  pixel775  pixel776  pixel777  pixel778  pixel779  pixel780  \\\n",
       "0        0  ...         0         0         0         0         0         0   \n",
       "1        0  ...         0         0         0         0         0         0   \n",
       "2        0  ...         0         0         0         0         0         0   \n",
       "3        0  ...         0         0         0         0         0         0   \n",
       "4        0  ...         0         0         0         0         0         0   \n",
       "\n",
       "   pixel781  pixel782  pixel783  pixel784  \n",
       "0         0         0         0         0  \n",
       "1         0         0         0         0  \n",
       "2         0         0         0         0  \n",
       "3         0         0         0         0  \n",
       "4         0         0         0         0  \n",
       "\n",
       "[5 rows x 784 columns]"
      ]
     },
     "execution_count": 3,
     "metadata": {},
     "output_type": "execute_result"
    }
   ],
   "source": [
    "X.head()"
   ]
  },
  {
   "cell_type": "markdown",
   "id": "9a284498",
   "metadata": {},
   "source": [
    "### There are totally 70000 entries in the mnist_df dataset."
   ]
  },
  {
   "cell_type": "code",
   "execution_count": 4,
   "id": "7142bd64",
   "metadata": {},
   "outputs": [
    {
     "name": "stdout",
     "output_type": "stream",
     "text": [
      "<class 'pandas.core.frame.DataFrame'>\n",
      "RangeIndex: 70000 entries, 0 to 69999\n",
      "Columns: 784 entries, pixel1 to pixel784\n",
      "dtypes: int64(784)\n",
      "memory usage: 418.7 MB\n"
     ]
    }
   ],
   "source": [
    "X.info()"
   ]
  },
  {
   "cell_type": "code",
   "execution_count": 5,
   "id": "ca8b0473",
   "metadata": {},
   "outputs": [
    {
     "name": "stdout",
     "output_type": "stream",
     "text": [
      "Training set size: 56000\n",
      "Test set size: 14000\n",
      "Training set size: 56000\n",
      "Test set size: 14000\n"
     ]
    }
   ],
   "source": [
    "# Split the dataset into training and test sets\n",
    "X_train, X_test, y_train, y_test = train_test_split(X, y, test_size=0.2, random_state=42)\n",
    "\n",
    "# Show the size of the training and test set\n",
    "print(f\"Training set size: {X_train.shape[0]}\")\n",
    "print(f\"Test set size: {X_test.shape[0]}\")\n",
    "print(f\"Training set size: {y_train.shape[0]}\")\n",
    "print(f\"Test set size: {y_test.shape[0]}\")"
   ]
  },
  {
   "cell_type": "markdown",
   "id": "391127d1",
   "metadata": {},
   "source": [
    "### The training dataset for X_train, y_train is 56000 entries. The testing dataset for X_test, y_test is 14000 entries. "
   ]
  },
  {
   "cell_type": "markdown",
   "id": "61cc5ed6",
   "metadata": {},
   "source": [
    "# 2. Develop a one hidden layer multi-layer perceptron model on the above training data, report the accuracy of the model.\n"
   ]
  },
  {
   "cell_type": "markdown",
   "id": "7f5e4628",
   "metadata": {},
   "source": [
    "## MLP CLASSIFIER:\n",
    "\n",
    "An artificial neural network used in machine learning for supervised learning tasks such as classification and regression is called as Multi-Layer Perceptron (MLP). It is one of the foundational models in neural networks and deep learning. The input layer consists of nodes (or neurons) that represent the features of the input data. Each node corresponds to one feature of the input data. MLPs have one or more hidden layers between the input and output layers.\n",
    "Each neuron in a hidden layer applies a weighted sum of its inputs, passes it through an activation function, and produces an output that becomes the input to the next layer. The output layer consists of neurons that represent the possible classes or the output values."
   ]
  },
  {
   "cell_type": "markdown",
   "id": "593de1a8",
   "metadata": {},
   "source": [
    "### Step 2:\n",
    "\n",
    "1. Here we need to Develop a one hidden layer multi-layer perceptron model (MLP) on the training dataset.\n",
    "2. To report the accuracy of the model."
   ]
  },
  {
   "cell_type": "markdown",
   "id": "7099bf00",
   "metadata": {},
   "source": [
    "### MLP Classifier has several parameters.\n",
    "\n",
    "MLPClassifier(hidden_layer_sizes=(100,), activation='relu', *, solver='adam', alpha=0.0001, batch_size='auto', learning_rate='constant', learning_rate_init=0.001, power_t=0.5, max_iter=200, shuffle=True, random_state=None, tol=0.0001, verbose=False, warm_start=False, momentum=0.9, nesterovs_momentum=True, early_stopping=False, validation_fraction=0.1, beta_1=0.9, beta_2=0.999, epsilon=1e-08, n_iter_no_change=10, max_fun=15000)\n",
    "\n",
    "#### Here the max_iter is changed to 300 and random_state is set to 42. Other parameters are set to their default values.\n",
    "\n",
    "### Here the number of layers, n_layers - 2 and hidden_layer_sizes is set to 100."
   ]
  },
  {
   "cell_type": "code",
   "execution_count": 6,
   "id": "60c5c09d",
   "metadata": {},
   "outputs": [
    {
     "name": "stdout",
     "output_type": "stream",
     "text": [
      "Accuracy of the one hidden layer MLP model: 0.9614285714285714\n"
     ]
    }
   ],
   "source": [
    "mlp = MLPClassifier(hidden_layer_sizes=(100,), max_iter=300, random_state=42)\n",
    "mlp.fit(X_train, y_train)\n",
    "y_pred = mlp.predict(X_test)\n",
    "accuracy = accuracy_score(y_test, y_pred)\n",
    "print(f\"Accuracy of the one hidden layer MLP model: {accuracy}\")"
   ]
  },
  {
   "cell_type": "markdown",
   "id": "fcedcc46",
   "metadata": {},
   "source": [
    "### To report the performance:\n",
    "\n",
    "- In order to predict accuracy of the model based on the training dataset, y_pred is calculated using mlp.predict(X_test).\n",
    "- The accuracy is found using the accuracy_score function."
   ]
  },
  {
   "cell_type": "markdown",
   "id": "b31e7fdf",
   "metadata": {},
   "source": [
    "The accuracy is said to be the proportion of the total number of predictions that were correct. A high accuracy indicates that the model is making predictions that closely match the true labels for most of the inputs. Here it is said to be 96.14% on the testing data."
   ]
  },
  {
   "cell_type": "markdown",
   "id": "5b48a507",
   "metadata": {},
   "source": [
    "# 3. From question 2, set the number of hidden layers of the MLP model as [2,4,6,8,10], set the hidden layer size as 100, show the accuracies on the test set.\n"
   ]
  },
  {
   "cell_type": "markdown",
   "id": "681eac8b",
   "metadata": {},
   "source": [
    "#### The ideal number of hidden layers depends on the specific task and the nature of the data. Some tasks may require only a few layers, while others may benefit from deeper architectures. Changing the number of hidden layers in a Multi-Layer Perceptron (MLP) model can significantly impact the model's ability to learn and generalize from the data, thereby affecting its accuracy. With more hidden layers, an MLP can model more complex non-linear relationships between the input features and the output, which might not be possible with a shallower network.  When the right number of hidden layers is used, the model is more likely to generalize well to new, unseen data, improving its accuracy on the test set. As the number of layers increases, especially in very deep networks, issues like vanishing or exploding gradients can occur during training, making it harder for the model to converge to an optimal solution."
   ]
  },
  {
   "cell_type": "markdown",
   "id": "4e8ebafc",
   "metadata": {},
   "source": [
    "### MLP Classifier has several parameters.\n",
    "\n",
    "MLPClassifier(hidden_layer_sizes=(100,), activation='relu', *, solver='adam', alpha=0.0001, batch_size='auto', learning_rate='constant', learning_rate_init=0.001, power_t=0.5, max_iter=200, shuffle=True, random_state=None, tol=0.0001, verbose=False, warm_start=False, momentum=0.9, nesterovs_momentum=True, early_stopping=False, validation_fraction=0.1, beta_1=0.9, beta_2=0.999, epsilon=1e-08, n_iter_no_change=10, max_fun=15000)\n",
    "\n",
    "#### Here the max_iter is changed to 300 and random_state is set to 42. Other parameters are set to their default values.\n",
    "\n",
    "### Here the number of layers, n_layers - 2,4,6,8,10 and hidden_layer_sizes is set to 100."
   ]
  },
  {
   "cell_type": "code",
   "execution_count": 7,
   "id": "348480b3",
   "metadata": {},
   "outputs": [
    {
     "name": "stdout",
     "output_type": "stream",
     "text": [
      "Accuracy with 2 hidden layers: 0.9702142857142857\n",
      "Accuracy with 4 hidden layers: 0.9694285714285714\n",
      "Accuracy with 6 hidden layers: 0.9742857142857143\n",
      "Accuracy with 8 hidden layers: 0.9732857142857143\n",
      "Accuracy with 10 hidden layers: 0.9757142857142858\n"
     ]
    }
   ],
   "source": [
    "hidden_layers = [2, 4, 6, 8, 10]\n",
    "accuracies = []\n",
    "for layers in hidden_layers:\n",
    "    mlp = MLPClassifier(hidden_layer_sizes=(100,) * layers, max_iter=300, random_state=42)\n",
    "    mlp.fit(X_train, y_train)\n",
    "    y_pred = mlp.predict(X_test)\n",
    "    accuracy = accuracy_score(y_test, y_pred)\n",
    "    accuracies.append(accuracy)\n",
    "    print(f\"Accuracy with {layers} hidden layers: {accuracy}\")"
   ]
  },
  {
   "cell_type": "markdown",
   "id": "567962ba",
   "metadata": {},
   "source": [
    "The accuracy is said to be the proportion of the total number of predictions that were correct. A high accuracy indicates that the model is making predictions that closely match the true labels for most of the inputs. \n",
    "\n",
    "### Accuracy based on number of hidden layers:\n",
    "\n",
    "1. Accuracy with 2 hidden layers: 97%\n",
    "2. Accuracy with 4 hidden layers: 96.9%\n",
    "3. Accuracy with 6 hidden layers: 97.4%\n",
    "4. Accuracy with 8 hidden layers: 97.32%\n",
    "5. Accuracy with 10 hidden layers: 97.57%"
   ]
  },
  {
   "cell_type": "markdown",
   "id": "13ff55ee",
   "metadata": {},
   "source": [
    "# 4. From question 2, for the hidden layer set the hidden layer size as [50, 100, 150, 200], show the accuracies on the test set."
   ]
  },
  {
   "cell_type": "markdown",
   "id": "039e6ae3",
   "metadata": {},
   "source": [
    "#### The optimal size of the hidden layers is often determined through experimentation. It involves trying different sizes and evaluating how they affect model accuracy. Changing the size of hidden layers in a Multi-Layer Perceptron (MLP) model can significantly influence the model's ability to learn from the data and thus affect its accuracy. Increasing the number of neurons (units) in a hidden layer enhances the model's capacity to learn and represent more complex functions. More neurons allow the network to capture a greater variety of patterns and features from the data.  Larger hidden layers can represent more intricate non-linear relationships between the input features and the target output. Just like with adding more hidden layers, increasing the size of hidden layers can lead to overfitting, especially if the dataset is small or noisy. Increasing the size of hidden layers in an MLP model generally enhances the model's ability to learn complex patterns and improves accuracy, especially for challenging tasks. "
   ]
  },
  {
   "cell_type": "markdown",
   "id": "d2e9ad71",
   "metadata": {},
   "source": [
    "### MLP Classifier has several parameters.\n",
    "\n",
    "MLPClassifier(hidden_layer_sizes=(100,), activation='relu', *, solver='adam', alpha=0.0001, batch_size='auto', learning_rate='constant', learning_rate_init=0.001, power_t=0.5, max_iter=200, shuffle=True, random_state=None, tol=0.0001, verbose=False, warm_start=False, momentum=0.9, nesterovs_momentum=True, early_stopping=False, validation_fraction=0.1, beta_1=0.9, beta_2=0.999, epsilon=1e-08, n_iter_no_change=10, max_fun=15000)\n",
    "\n",
    "#### Here the max_iter is changed to 300 and random_state is set to 42. Other parameters are set to their default values.\n",
    "\n",
    "### Here the number of layers, n_layers - 2 and hidden_layer_sizes is set to 50, 100, 150, 200."
   ]
  },
  {
   "cell_type": "code",
   "execution_count": 8,
   "id": "ad8fb910",
   "metadata": {},
   "outputs": [
    {
     "name": "stdout",
     "output_type": "stream",
     "text": [
      "Accuracy with hidden layer size 50: 0.9545\n",
      "Accuracy with hidden layer size 100: 0.9614285714285714\n",
      "Accuracy with hidden layer size 150: 0.9685714285714285\n",
      "Accuracy with hidden layer size 200: 0.9684285714285714\n"
     ]
    }
   ],
   "source": [
    "hidden_layer_sizes = [50, 100, 150, 200]\n",
    "accuracies_size = []\n",
    "for size in hidden_layer_sizes:\n",
    "    mlp = MLPClassifier(hidden_layer_sizes=(size,), max_iter=300, random_state=42)\n",
    "    mlp.fit(X_train, y_train)\n",
    "    y_pred = mlp.predict(X_test)\n",
    "    accuracy = accuracy_score(y_test, y_pred)\n",
    "    accuracies_size.append(accuracy)\n",
    "    print(f\"Accuracy with hidden layer size {size}: {accuracy}\")"
   ]
  },
  {
   "cell_type": "markdown",
   "id": "303d6959",
   "metadata": {},
   "source": [
    "The accuracy is said to be the proportion of the total number of predictions that were correct. A high accuracy indicates that the model is making predictions that closely match the true labels for most of the inputs. \n",
    "\n",
    "### Accuracy based on hidden layer sizes:\n",
    "\n",
    "1. Accuracy with 50 hidden layer sizes: 95.45%\n",
    "2. Accuracy with 100 hidden layer sizes: 96.14%\n",
    "3. Accuracy with 150 hidden layer sizes: 96.85%\n",
    "4. Accuracy with 200 hidden layer sizes: 96.84%"
   ]
  },
  {
   "cell_type": "markdown",
   "id": "e85095ac",
   "metadata": {},
   "source": [
    "# 5. Based on question 3 and 4, explain the key findings"
   ]
  },
  {
   "cell_type": "code",
   "execution_count": 1,
   "id": "bcdfbf27",
   "metadata": {},
   "outputs": [
    {
     "name": "stdout",
     "output_type": "stream",
     "text": [
      "\n",
      "Key Findings:\n",
      "1. To improve the accuracy of the MLP model, we have to increase the number of hidden layers.\n",
      "2. To improve the accuracy, we have to increase the number of hidden layer sizes but accuracy may become plateau or decrease after a certain size.\n"
     ]
    }
   ],
   "source": [
    "print(\"\\nKey Findings:\")\n",
    "print(\"1. To improve the accuracy of the MLP model, we have to increase the number of hidden layers.\")\n",
    "print(\"2. To improve the accuracy, we have to increase the number of hidden layer sizes but accuracy may become plateau or decrease after a certain size.\")"
   ]
  },
  {
   "cell_type": "markdown",
   "id": "97c36c56",
   "metadata": {},
   "source": [
    "# REFERENCE:\n",
    "\n",
    "1. \"MLPClassifier,\" Scikit-learn: Machine Learning in Python, [Online]. Available: https://scikit-learn.org/stable/modules/generated/sklearn.neural_network.MLPClassifier.html\n",
    "\n",
    "2. \"MNIST Dataset,\" Keras Documentation, [Online]. Available: https://keras.io/api/datasets/mnist/\n"
   ]
  },
  {
   "cell_type": "code",
   "execution_count": null,
   "id": "639ae72e",
   "metadata": {},
   "outputs": [],
   "source": []
  }
 ],
 "metadata": {
  "kernelspec": {
   "display_name": "Python 3 (ipykernel)",
   "language": "python",
   "name": "python3"
  },
  "language_info": {
   "codemirror_mode": {
    "name": "ipython",
    "version": 3
   },
   "file_extension": ".py",
   "mimetype": "text/x-python",
   "name": "python",
   "nbconvert_exporter": "python",
   "pygments_lexer": "ipython3",
   "version": "3.11.5"
  }
 },
 "nbformat": 4,
 "nbformat_minor": 5
}
