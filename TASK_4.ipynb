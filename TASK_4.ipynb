{
 "cells": [
  {
   "cell_type": "markdown",
   "id": "c71e10ab",
   "metadata": {},
   "source": [
    "# TASK 4: Meteorological Data Analysis for three airports in New York\n",
    "\n",
    "## B PRIYANKAA\n",
    "\n",
    "### s224207694\n",
    "### priyayj2016@gmail.com"
   ]
  },
  {
   "cell_type": "markdown",
   "id": "2dd9cec1",
   "metadata": {},
   "source": [
    "# ABSTRACT:\n",
    "\n",
    "The purpose of this task is to plot the monthly_average_windspeed of the three airports: LGA, EWR and JFK in order to understand their windspeeds in a better manner.\n",
    "\n",
    "1. To convert temp, dewp column denotes the temperature and dew point recorded at that moment in degrees Fahrenheit to Celcius in all the 3 airports, precip denotes the precipitation in inches to millimetres recorded at that moment in all the 3 airports, visib denotes the visibility in miles to metres recorded at that moment in all the 3 airports, wind_speed and wind_gust denotes the wind speed and gust speed in metre per hour (mph) to metre per second (mps) recorded at that moment in all the 3 airports.\n",
    "\n",
    "2. To compute daily average wind speeds for the LGA airports that has a total of 365 speed values for each day and group the data by year, month and day at the same time.\n",
    "\n",
    "3. To present the daily mean wind speeds at LGA airport in a single plot using the plt() function.\n",
    "\n",
    "4. To identify and print the 10 windiest days at LGA, airport in Newyork that has the dates and its corresponding daily average wind speed.\n",
    "\n",
    "5. To compute the monthly average wind speeds for all the airports: LGA, EWR, JFK.\n",
    "\n",
    "6. To draw the monthly mean wind speeds for the three airports on the same plot."
   ]
  },
  {
   "cell_type": "markdown",
   "id": "bcf76ae9",
   "metadata": {},
   "source": [
    "## INITIAL DATA PRE-PROCESSING:"
   ]
  },
  {
   "cell_type": "code",
   "execution_count": 1,
   "id": "aea0f5f9",
   "metadata": {},
   "outputs": [],
   "source": [
    "# Importing all the libraries needed for the data analysis:\n",
    "\n",
    "import pandas as pd\n",
    "import numpy as np\n",
    "import matplotlib.pyplot as plt\n",
    "import requests, zipfile\n",
    "import datetime\n",
    "import matplotlib.dates as mdates\n",
    "\n",
    "# The first step is to read the csv file:\n",
    "\n",
    "orig_data = pd.read_csv(\"nycflights13_weather.csv.gz\", comment = \"#\")\n",
    "\n",
    "# comment = \"#\" is given in order to extract only data and avoid all the comments."
   ]
  },
  {
   "cell_type": "markdown",
   "id": "1bdbb50f",
   "metadata": {},
   "source": [
    "The dataset \"nycflights13_weather.csv.gz\" is stored on the variable name orig_data."
   ]
  },
  {
   "cell_type": "code",
   "execution_count": 2,
   "id": "6b19e6fe",
   "metadata": {},
   "outputs": [
    {
     "data": {
      "text/plain": [
       "Index(['origin', 'year', 'month', 'day', 'hour', 'temp', 'dewp', 'humid',\n",
       "       'wind_dir', 'wind_speed', 'wind_gust', 'precip', 'pressure', 'visib',\n",
       "       'time_hour'],\n",
       "      dtype='object')"
      ]
     },
     "execution_count": 2,
     "metadata": {},
     "output_type": "execute_result"
    }
   ],
   "source": [
    "orig_data.columns # Gets the columns present in the dataset."
   ]
  },
  {
   "cell_type": "markdown",
   "id": "01e746bd",
   "metadata": {},
   "source": [
    "**There are about 15 columns where:**\n",
    "\n",
    "1. **origin** where it denotes the place of origin of the airport. Here it is LGA, EWR, JFK.\n",
    "\n",
    "2. **year, month, day, hour** denotes the time of recording of the wind speed in all the 3 airports.\n",
    "\n",
    "3. **temp** denotes the temperature recorded at that moment in degrees Fahrenheit in all the 3 airports.\n",
    "\n",
    "4. **dewp** denotes the dewpoint recorded at that moment in degrees Fahrenheit in all the 3 airports.\n",
    "\n",
    "5. **humid** denotes the relative humidity recorded at that moment in all the 3 airports.\n",
    "\n",
    "6. **wind_dir** denotes the wind direction in degrees recorded at that moment in all the 3 airports.\n",
    "\n",
    "7. **wind_speed** denotes the wind speed in metre per hour (mph) recorded at that moment in all the 3 airports.\n",
    "\n",
    "8. **wind_gust** denotes the gust speed in metre per hour (mph) recorded at that moment in all the 3 airports.\n",
    "\n",
    "9. **precip** denotes the precipitation in inches recorded at that moment in all the 3 airports.\n",
    "\n",
    "10. **pressure** denotes the sea-level pressure in millibars recorded at that moment in all the 3 airports.\n",
    "\n",
    "11. **visib** denotes the visibility in miles recorded at that moment in all the 3 airports.\n",
    "\n",
    "12. **time_hour** – date and hour formatted as YYYY-mm-dd and HH:MM:SS.\n",
    "\n"
   ]
  },
  {
   "cell_type": "code",
   "execution_count": 3,
   "id": "85cd5e04",
   "metadata": {},
   "outputs": [
    {
     "data": {
      "text/plain": [
       "origin         object\n",
       "year            int64\n",
       "month           int64\n",
       "day             int64\n",
       "hour            int64\n",
       "temp          float64\n",
       "dewp          float64\n",
       "humid         float64\n",
       "wind_dir      float64\n",
       "wind_speed    float64\n",
       "wind_gust     float64\n",
       "precip        float64\n",
       "pressure      float64\n",
       "visib         float64\n",
       "time_hour      object\n",
       "dtype: object"
      ]
     },
     "execution_count": 3,
     "metadata": {},
     "output_type": "execute_result"
    }
   ],
   "source": [
    "orig_data.dtypes # helps to understand the datatype of each column in the dataset."
   ]
  },
  {
   "cell_type": "markdown",
   "id": "db244fd3",
   "metadata": {},
   "source": [
    "1. **origin**, **time_hour** contains the string values, so the datatype is object type.\n",
    "\n",
    "2. **year, month, day, hour** contains the integer values, so the datatype is object type.\n",
    "\n",
    "3. **temp, dewp, wind_dir, wind_speed, wind_gust, precip, pressure, visib, humid** contains the float values, so the datatype is object type."
   ]
  },
  {
   "cell_type": "code",
   "execution_count": 4,
   "id": "b9479c20",
   "metadata": {},
   "outputs": [
    {
     "data": {
      "text/plain": [
       "(26130, 15)"
      ]
     },
     "execution_count": 4,
     "metadata": {},
     "output_type": "execute_result"
    }
   ],
   "source": [
    "orig_data.shape # Prints the shape of the dataset."
   ]
  },
  {
   "cell_type": "code",
   "execution_count": 5,
   "id": "89b3cdcf",
   "metadata": {},
   "outputs": [
    {
     "data": {
      "text/html": [
       "<div>\n",
       "<style scoped>\n",
       "    .dataframe tbody tr th:only-of-type {\n",
       "        vertical-align: middle;\n",
       "    }\n",
       "\n",
       "    .dataframe tbody tr th {\n",
       "        vertical-align: top;\n",
       "    }\n",
       "\n",
       "    .dataframe thead th {\n",
       "        text-align: right;\n",
       "    }\n",
       "</style>\n",
       "<table border=\"1\" class=\"dataframe\">\n",
       "  <thead>\n",
       "    <tr style=\"text-align: right;\">\n",
       "      <th></th>\n",
       "      <th>origin</th>\n",
       "      <th>year</th>\n",
       "      <th>month</th>\n",
       "      <th>day</th>\n",
       "      <th>hour</th>\n",
       "      <th>temp</th>\n",
       "      <th>dewp</th>\n",
       "      <th>humid</th>\n",
       "      <th>wind_dir</th>\n",
       "      <th>wind_speed</th>\n",
       "      <th>wind_gust</th>\n",
       "      <th>precip</th>\n",
       "      <th>pressure</th>\n",
       "      <th>visib</th>\n",
       "      <th>time_hour</th>\n",
       "    </tr>\n",
       "  </thead>\n",
       "  <tbody>\n",
       "    <tr>\n",
       "      <th>0</th>\n",
       "      <td>EWR</td>\n",
       "      <td>2013</td>\n",
       "      <td>1</td>\n",
       "      <td>1</td>\n",
       "      <td>0</td>\n",
       "      <td>37.04</td>\n",
       "      <td>21.92</td>\n",
       "      <td>53.97</td>\n",
       "      <td>230.0</td>\n",
       "      <td>10.35702</td>\n",
       "      <td>11.918651</td>\n",
       "      <td>0.0</td>\n",
       "      <td>1013.9</td>\n",
       "      <td>10.0</td>\n",
       "      <td>2013-01-01 01:00:00</td>\n",
       "    </tr>\n",
       "    <tr>\n",
       "      <th>1</th>\n",
       "      <td>EWR</td>\n",
       "      <td>2013</td>\n",
       "      <td>1</td>\n",
       "      <td>1</td>\n",
       "      <td>1</td>\n",
       "      <td>37.04</td>\n",
       "      <td>21.92</td>\n",
       "      <td>53.97</td>\n",
       "      <td>230.0</td>\n",
       "      <td>13.80936</td>\n",
       "      <td>15.891535</td>\n",
       "      <td>0.0</td>\n",
       "      <td>1013.0</td>\n",
       "      <td>10.0</td>\n",
       "      <td>2013-01-01 02:00:00</td>\n",
       "    </tr>\n",
       "    <tr>\n",
       "      <th>2</th>\n",
       "      <td>EWR</td>\n",
       "      <td>2013</td>\n",
       "      <td>1</td>\n",
       "      <td>1</td>\n",
       "      <td>2</td>\n",
       "      <td>37.94</td>\n",
       "      <td>21.92</td>\n",
       "      <td>52.09</td>\n",
       "      <td>230.0</td>\n",
       "      <td>12.65858</td>\n",
       "      <td>14.567241</td>\n",
       "      <td>0.0</td>\n",
       "      <td>1012.6</td>\n",
       "      <td>10.0</td>\n",
       "      <td>2013-01-01 03:00:00</td>\n",
       "    </tr>\n",
       "    <tr>\n",
       "      <th>3</th>\n",
       "      <td>EWR</td>\n",
       "      <td>2013</td>\n",
       "      <td>1</td>\n",
       "      <td>1</td>\n",
       "      <td>3</td>\n",
       "      <td>37.94</td>\n",
       "      <td>23.00</td>\n",
       "      <td>54.51</td>\n",
       "      <td>230.0</td>\n",
       "      <td>13.80936</td>\n",
       "      <td>15.891535</td>\n",
       "      <td>0.0</td>\n",
       "      <td>1012.7</td>\n",
       "      <td>10.0</td>\n",
       "      <td>2013-01-01 04:00:00</td>\n",
       "    </tr>\n",
       "    <tr>\n",
       "      <th>4</th>\n",
       "      <td>EWR</td>\n",
       "      <td>2013</td>\n",
       "      <td>1</td>\n",
       "      <td>1</td>\n",
       "      <td>4</td>\n",
       "      <td>37.94</td>\n",
       "      <td>24.08</td>\n",
       "      <td>57.04</td>\n",
       "      <td>240.0</td>\n",
       "      <td>14.96014</td>\n",
       "      <td>17.215830</td>\n",
       "      <td>0.0</td>\n",
       "      <td>1012.8</td>\n",
       "      <td>10.0</td>\n",
       "      <td>2013-01-01 05:00:00</td>\n",
       "    </tr>\n",
       "  </tbody>\n",
       "</table>\n",
       "</div>"
      ],
      "text/plain": [
       "  origin  year  month  day  hour   temp   dewp  humid  wind_dir  wind_speed  \\\n",
       "0    EWR  2013      1    1     0  37.04  21.92  53.97     230.0    10.35702   \n",
       "1    EWR  2013      1    1     1  37.04  21.92  53.97     230.0    13.80936   \n",
       "2    EWR  2013      1    1     2  37.94  21.92  52.09     230.0    12.65858   \n",
       "3    EWR  2013      1    1     3  37.94  23.00  54.51     230.0    13.80936   \n",
       "4    EWR  2013      1    1     4  37.94  24.08  57.04     240.0    14.96014   \n",
       "\n",
       "   wind_gust  precip  pressure  visib            time_hour  \n",
       "0  11.918651     0.0    1013.9   10.0  2013-01-01 01:00:00  \n",
       "1  15.891535     0.0    1013.0   10.0  2013-01-01 02:00:00  \n",
       "2  14.567241     0.0    1012.6   10.0  2013-01-01 03:00:00  \n",
       "3  15.891535     0.0    1012.7   10.0  2013-01-01 04:00:00  \n",
       "4  17.215830     0.0    1012.8   10.0  2013-01-01 05:00:00  "
      ]
     },
     "execution_count": 5,
     "metadata": {},
     "output_type": "execute_result"
    }
   ],
   "source": [
    "orig_data.head() # Prints the first 5 rows of the dataset."
   ]
  },
  {
   "cell_type": "markdown",
   "id": "db1b21bf",
   "metadata": {},
   "source": [
    "#### Corrected the data that is shifted by 1 hour back to normal with the help of Timedelta function of pandas."
   ]
  },
  {
   "cell_type": "code",
   "execution_count": 6,
   "id": "b0eb1b1b",
   "metadata": {},
   "outputs": [],
   "source": [
    "orig_data[\"time_hour\"] = pd.to_datetime(orig_data[\"time_hour\"]) - pd.Timedelta(hours = 1)"
   ]
  },
  {
   "cell_type": "code",
   "execution_count": 7,
   "id": "d160f516",
   "metadata": {},
   "outputs": [
    {
     "data": {
      "text/html": [
       "<div>\n",
       "<style scoped>\n",
       "    .dataframe tbody tr th:only-of-type {\n",
       "        vertical-align: middle;\n",
       "    }\n",
       "\n",
       "    .dataframe tbody tr th {\n",
       "        vertical-align: top;\n",
       "    }\n",
       "\n",
       "    .dataframe thead th {\n",
       "        text-align: right;\n",
       "    }\n",
       "</style>\n",
       "<table border=\"1\" class=\"dataframe\">\n",
       "  <thead>\n",
       "    <tr style=\"text-align: right;\">\n",
       "      <th></th>\n",
       "      <th>origin</th>\n",
       "      <th>year</th>\n",
       "      <th>month</th>\n",
       "      <th>day</th>\n",
       "      <th>hour</th>\n",
       "      <th>temp</th>\n",
       "      <th>dewp</th>\n",
       "      <th>humid</th>\n",
       "      <th>wind_dir</th>\n",
       "      <th>wind_speed</th>\n",
       "      <th>wind_gust</th>\n",
       "      <th>precip</th>\n",
       "      <th>pressure</th>\n",
       "      <th>visib</th>\n",
       "      <th>time_hour</th>\n",
       "    </tr>\n",
       "  </thead>\n",
       "  <tbody>\n",
       "    <tr>\n",
       "      <th>0</th>\n",
       "      <td>EWR</td>\n",
       "      <td>2013</td>\n",
       "      <td>1</td>\n",
       "      <td>1</td>\n",
       "      <td>0</td>\n",
       "      <td>37.04</td>\n",
       "      <td>21.92</td>\n",
       "      <td>53.97</td>\n",
       "      <td>230.0</td>\n",
       "      <td>10.35702</td>\n",
       "      <td>11.918651</td>\n",
       "      <td>0.0</td>\n",
       "      <td>1013.9</td>\n",
       "      <td>10.0</td>\n",
       "      <td>2013-01-01 00:00:00</td>\n",
       "    </tr>\n",
       "    <tr>\n",
       "      <th>1</th>\n",
       "      <td>EWR</td>\n",
       "      <td>2013</td>\n",
       "      <td>1</td>\n",
       "      <td>1</td>\n",
       "      <td>1</td>\n",
       "      <td>37.04</td>\n",
       "      <td>21.92</td>\n",
       "      <td>53.97</td>\n",
       "      <td>230.0</td>\n",
       "      <td>13.80936</td>\n",
       "      <td>15.891535</td>\n",
       "      <td>0.0</td>\n",
       "      <td>1013.0</td>\n",
       "      <td>10.0</td>\n",
       "      <td>2013-01-01 01:00:00</td>\n",
       "    </tr>\n",
       "    <tr>\n",
       "      <th>2</th>\n",
       "      <td>EWR</td>\n",
       "      <td>2013</td>\n",
       "      <td>1</td>\n",
       "      <td>1</td>\n",
       "      <td>2</td>\n",
       "      <td>37.94</td>\n",
       "      <td>21.92</td>\n",
       "      <td>52.09</td>\n",
       "      <td>230.0</td>\n",
       "      <td>12.65858</td>\n",
       "      <td>14.567241</td>\n",
       "      <td>0.0</td>\n",
       "      <td>1012.6</td>\n",
       "      <td>10.0</td>\n",
       "      <td>2013-01-01 02:00:00</td>\n",
       "    </tr>\n",
       "    <tr>\n",
       "      <th>3</th>\n",
       "      <td>EWR</td>\n",
       "      <td>2013</td>\n",
       "      <td>1</td>\n",
       "      <td>1</td>\n",
       "      <td>3</td>\n",
       "      <td>37.94</td>\n",
       "      <td>23.00</td>\n",
       "      <td>54.51</td>\n",
       "      <td>230.0</td>\n",
       "      <td>13.80936</td>\n",
       "      <td>15.891535</td>\n",
       "      <td>0.0</td>\n",
       "      <td>1012.7</td>\n",
       "      <td>10.0</td>\n",
       "      <td>2013-01-01 03:00:00</td>\n",
       "    </tr>\n",
       "    <tr>\n",
       "      <th>4</th>\n",
       "      <td>EWR</td>\n",
       "      <td>2013</td>\n",
       "      <td>1</td>\n",
       "      <td>1</td>\n",
       "      <td>4</td>\n",
       "      <td>37.94</td>\n",
       "      <td>24.08</td>\n",
       "      <td>57.04</td>\n",
       "      <td>240.0</td>\n",
       "      <td>14.96014</td>\n",
       "      <td>17.215830</td>\n",
       "      <td>0.0</td>\n",
       "      <td>1012.8</td>\n",
       "      <td>10.0</td>\n",
       "      <td>2013-01-01 04:00:00</td>\n",
       "    </tr>\n",
       "  </tbody>\n",
       "</table>\n",
       "</div>"
      ],
      "text/plain": [
       "  origin  year  month  day  hour   temp   dewp  humid  wind_dir  wind_speed  \\\n",
       "0    EWR  2013      1    1     0  37.04  21.92  53.97     230.0    10.35702   \n",
       "1    EWR  2013      1    1     1  37.04  21.92  53.97     230.0    13.80936   \n",
       "2    EWR  2013      1    1     2  37.94  21.92  52.09     230.0    12.65858   \n",
       "3    EWR  2013      1    1     3  37.94  23.00  54.51     230.0    13.80936   \n",
       "4    EWR  2013      1    1     4  37.94  24.08  57.04     240.0    14.96014   \n",
       "\n",
       "   wind_gust  precip  pressure  visib           time_hour  \n",
       "0  11.918651     0.0    1013.9   10.0 2013-01-01 00:00:00  \n",
       "1  15.891535     0.0    1013.0   10.0 2013-01-01 01:00:00  \n",
       "2  14.567241     0.0    1012.6   10.0 2013-01-01 02:00:00  \n",
       "3  15.891535     0.0    1012.7   10.0 2013-01-01 03:00:00  \n",
       "4  17.215830     0.0    1012.8   10.0 2013-01-01 04:00:00  "
      ]
     },
     "execution_count": 7,
     "metadata": {},
     "output_type": "execute_result"
    }
   ],
   "source": [
    "orig_data.head(5)"
   ]
  },
  {
   "cell_type": "markdown",
   "id": "ff0cd98d",
   "metadata": {},
   "source": [
    "In the initial data processing step, \n",
    "\n",
    "**A pandas has a Timedelta function where it is mentioned hours as 1, which means the time is shifted by 1 hour.**\n",
    "\n",
    "This correction must be done due to a presence of bug in the dataset."
   ]
  },
  {
   "cell_type": "markdown",
   "id": "84be19de",
   "metadata": {},
   "source": [
    "## STEP - 1:\n",
    "\n",
    "**Purpose of Step - 1:**\n",
    "\n",
    "To convert:\n",
    "\n",
    "1. **temp, dewp** column denotes the temperature and dew point recorded at that moment **in degrees Fahrenheit to Celcius** in all the 3 airports.\n",
    "\n",
    "2. **precip** denotes the precipitation **in inches to millimetres** recorded at that moment in all the 3 airports.\n",
    "\n",
    "3.  **visib** denotes the visibility **in miles to metres** recorded at that moment in all the 3 airports.\n",
    "\n",
    "4. **wind_speed and wind_gust** denotes the wind speed and gust speed **in metre per hour (mph) to metre per second (mps)** recorded at that moment in all the 3 airports."
   ]
  },
  {
   "cell_type": "code",
   "execution_count": 8,
   "id": "83893ee4",
   "metadata": {},
   "outputs": [],
   "source": [
    "orig_data[\"temp\"] = (orig_data[\"temp\"] - 32) * 5/9 #The temperature in degrees Fahrenheit to Celcius.\n",
    "\n",
    "orig_data[\"dewp\"] = (orig_data[\"dewp\"] - 32) * 5/9 #The dewpoint in degrees Fahrenheit to Celcius.\n",
    "\n",
    "orig_data[\"precip\"] = orig_data[\"precip\"] * 25.4 #The precipitation value in inches to millimetres.\n",
    "\n",
    "orig_data[\"visib\"] = orig_data[\"visib\"] * 1609.34 #The visibility value in miles to metres.\n",
    "\n",
    "orig_data[\"wind_speed\"] = orig_data[\"wind_speed\"] * 0.447 #This denotes the wind speed converted from mph to mps.\n",
    "\n",
    "orig_data[\"wind_gust\"] = orig_data[\"wind_gust\"] * 0.447 # This denotes the gust speed converted from mph to mps."
   ]
  },
  {
   "cell_type": "code",
   "execution_count": 9,
   "id": "66efd041",
   "metadata": {},
   "outputs": [
    {
     "data": {
      "text/html": [
       "<div>\n",
       "<style scoped>\n",
       "    .dataframe tbody tr th:only-of-type {\n",
       "        vertical-align: middle;\n",
       "    }\n",
       "\n",
       "    .dataframe tbody tr th {\n",
       "        vertical-align: top;\n",
       "    }\n",
       "\n",
       "    .dataframe thead th {\n",
       "        text-align: right;\n",
       "    }\n",
       "</style>\n",
       "<table border=\"1\" class=\"dataframe\">\n",
       "  <thead>\n",
       "    <tr style=\"text-align: right;\">\n",
       "      <th></th>\n",
       "      <th>origin</th>\n",
       "      <th>year</th>\n",
       "      <th>month</th>\n",
       "      <th>day</th>\n",
       "      <th>hour</th>\n",
       "      <th>temp</th>\n",
       "      <th>dewp</th>\n",
       "      <th>humid</th>\n",
       "      <th>wind_dir</th>\n",
       "      <th>wind_speed</th>\n",
       "      <th>wind_gust</th>\n",
       "      <th>precip</th>\n",
       "      <th>pressure</th>\n",
       "      <th>visib</th>\n",
       "      <th>time_hour</th>\n",
       "    </tr>\n",
       "  </thead>\n",
       "  <tbody>\n",
       "    <tr>\n",
       "      <th>0</th>\n",
       "      <td>EWR</td>\n",
       "      <td>2013</td>\n",
       "      <td>1</td>\n",
       "      <td>1</td>\n",
       "      <td>0</td>\n",
       "      <td>2.8</td>\n",
       "      <td>-5.6</td>\n",
       "      <td>53.97</td>\n",
       "      <td>230.0</td>\n",
       "      <td>4.629588</td>\n",
       "      <td>5.327637</td>\n",
       "      <td>0.0</td>\n",
       "      <td>1013.9</td>\n",
       "      <td>16093.4</td>\n",
       "      <td>2013-01-01 00:00:00</td>\n",
       "    </tr>\n",
       "    <tr>\n",
       "      <th>1</th>\n",
       "      <td>EWR</td>\n",
       "      <td>2013</td>\n",
       "      <td>1</td>\n",
       "      <td>1</td>\n",
       "      <td>1</td>\n",
       "      <td>2.8</td>\n",
       "      <td>-5.6</td>\n",
       "      <td>53.97</td>\n",
       "      <td>230.0</td>\n",
       "      <td>6.172784</td>\n",
       "      <td>7.103516</td>\n",
       "      <td>0.0</td>\n",
       "      <td>1013.0</td>\n",
       "      <td>16093.4</td>\n",
       "      <td>2013-01-01 01:00:00</td>\n",
       "    </tr>\n",
       "    <tr>\n",
       "      <th>2</th>\n",
       "      <td>EWR</td>\n",
       "      <td>2013</td>\n",
       "      <td>1</td>\n",
       "      <td>1</td>\n",
       "      <td>2</td>\n",
       "      <td>3.3</td>\n",
       "      <td>-5.6</td>\n",
       "      <td>52.09</td>\n",
       "      <td>230.0</td>\n",
       "      <td>5.658385</td>\n",
       "      <td>6.511557</td>\n",
       "      <td>0.0</td>\n",
       "      <td>1012.6</td>\n",
       "      <td>16093.4</td>\n",
       "      <td>2013-01-01 02:00:00</td>\n",
       "    </tr>\n",
       "    <tr>\n",
       "      <th>3</th>\n",
       "      <td>EWR</td>\n",
       "      <td>2013</td>\n",
       "      <td>1</td>\n",
       "      <td>1</td>\n",
       "      <td>3</td>\n",
       "      <td>3.3</td>\n",
       "      <td>-5.0</td>\n",
       "      <td>54.51</td>\n",
       "      <td>230.0</td>\n",
       "      <td>6.172784</td>\n",
       "      <td>7.103516</td>\n",
       "      <td>0.0</td>\n",
       "      <td>1012.7</td>\n",
       "      <td>16093.4</td>\n",
       "      <td>2013-01-01 03:00:00</td>\n",
       "    </tr>\n",
       "    <tr>\n",
       "      <th>4</th>\n",
       "      <td>EWR</td>\n",
       "      <td>2013</td>\n",
       "      <td>1</td>\n",
       "      <td>1</td>\n",
       "      <td>4</td>\n",
       "      <td>3.3</td>\n",
       "      <td>-4.4</td>\n",
       "      <td>57.04</td>\n",
       "      <td>240.0</td>\n",
       "      <td>6.687183</td>\n",
       "      <td>7.695476</td>\n",
       "      <td>0.0</td>\n",
       "      <td>1012.8</td>\n",
       "      <td>16093.4</td>\n",
       "      <td>2013-01-01 04:00:00</td>\n",
       "    </tr>\n",
       "  </tbody>\n",
       "</table>\n",
       "</div>"
      ],
      "text/plain": [
       "  origin  year  month  day  hour  temp  dewp  humid  wind_dir  wind_speed  \\\n",
       "0    EWR  2013      1    1     0   2.8  -5.6  53.97     230.0    4.629588   \n",
       "1    EWR  2013      1    1     1   2.8  -5.6  53.97     230.0    6.172784   \n",
       "2    EWR  2013      1    1     2   3.3  -5.6  52.09     230.0    5.658385   \n",
       "3    EWR  2013      1    1     3   3.3  -5.0  54.51     230.0    6.172784   \n",
       "4    EWR  2013      1    1     4   3.3  -4.4  57.04     240.0    6.687183   \n",
       "\n",
       "   wind_gust  precip  pressure    visib           time_hour  \n",
       "0   5.327637     0.0    1013.9  16093.4 2013-01-01 00:00:00  \n",
       "1   7.103516     0.0    1013.0  16093.4 2013-01-01 01:00:00  \n",
       "2   6.511557     0.0    1012.6  16093.4 2013-01-01 02:00:00  \n",
       "3   7.103516     0.0    1012.7  16093.4 2013-01-01 03:00:00  \n",
       "4   7.695476     0.0    1012.8  16093.4 2013-01-01 04:00:00  "
      ]
     },
     "execution_count": 9,
     "metadata": {},
     "output_type": "execute_result"
    }
   ],
   "source": [
    "orig_data.head()"
   ]
  },
  {
   "cell_type": "markdown",
   "id": "12ef14bc",
   "metadata": {},
   "source": [
    "### Conclusion of Step 1:\n",
    "\n",
    "1. The temperature is converted from degrees Fahrenheit to Celcius.\n",
    "\n",
    "2. The dewpoint is converted from degrees Fahrenheit to Celcius.\n",
    "\n",
    "3. The precipitation value is converted from inches to millimetres.\n",
    "\n",
    "4. The visibility value is converted from miles to metres.\n",
    "\n",
    "5. The wind speed is converted from mph to mps and the gust speed is converted from mph to mps."
   ]
  },
  {
   "cell_type": "markdown",
   "id": "bb06d3ab",
   "metadata": {},
   "source": [
    "## STEP - 2:\n",
    "\n",
    "**Purpose of Step - 2:**\n",
    "\n",
    "To compute daily average wind speeds for the LGA airports that has a total of 365 speed values for each day and group the data by year, month and day at the same time. "
   ]
  },
  {
   "cell_type": "code",
   "execution_count": 10,
   "id": "864ae125",
   "metadata": {},
   "outputs": [],
   "source": [
    "weather_at_lga = orig_data[orig_data['origin'] == 'LGA'] # To group the column values of \"LGA\" from the original dataset to a separate variable."
   ]
  },
  {
   "cell_type": "code",
   "execution_count": 11,
   "id": "b28cceba",
   "metadata": {},
   "outputs": [],
   "source": [
    "lga_dailymean_windspeed = weather_at_lga.groupby([\"year\", \"month\", \"day\"])[\"wind_speed\"].mean().reset_index() # The data is grouped by year, month and day at the same time and mean is computed. "
   ]
  },
  {
   "cell_type": "code",
   "execution_count": 12,
   "id": "57e7671b",
   "metadata": {},
   "outputs": [],
   "source": [
    "lga_dailymean_windspeed['date'] = pd.to_datetime(lga_dailymean_windspeed[[\"year\", \"month\", \"day\"]]) # Returns a pandas Datatime object value."
   ]
  },
  {
   "cell_type": "code",
   "execution_count": 13,
   "id": "40b33bd9",
   "metadata": {},
   "outputs": [],
   "source": [
    "lga_dailymean_windspeed.set_index(\"date\", inplace = True) # The index is set based on the date value."
   ]
  },
  {
   "cell_type": "markdown",
   "id": "b755368c",
   "metadata": {},
   "source": [
    "### Conclusion of Step - 2:\n",
    "\n",
    "The daily average wind speeds is computed for the LGA airports that has a total of 365 speed values for each day and group the data by year, month and day at the same time. \n",
    "\n",
    " - To group the column values of \"LGA\" from the original dataset to a separate variable, \"weather_at_lga\".\n",
    " \n",
    " - The data is grouped by year, month and day at the same time and mean is computed. \n",
    " \n",
    " - Returns a pandas Datatime object value.\n",
    " \n",
    " - The index is set based on the date value.\n"
   ]
  },
  {
   "cell_type": "markdown",
   "id": "219b7ed4",
   "metadata": {},
   "source": [
    "## STEP - 3:\n",
    "\n",
    "**Purpose of Step  - 3:**\n",
    "\n",
    "To present the daily mean wind speeds at LGA airport in a single plot using the plt() function."
   ]
  },
  {
   "cell_type": "code",
   "execution_count": 14,
   "id": "27403652",
   "metadata": {},
   "outputs": [
    {
     "data": {
      "text/plain": [
       "Text(0, 0.5, 'daily average wind speed [m/s] at LGA')"
      ]
     },
     "execution_count": 14,
     "metadata": {},
     "output_type": "execute_result"
    },
    {
     "data": {
      "image/png": "[encoded data removed]",
      "text/plain": [
       "<Figure size 900x600 with 1 Axes>"
      ]
     },
     "metadata": {},
     "output_type": "display_data"
    }
   ],
   "source": [
    "plt.figure(figsize = (9,6))\n",
    "plt.plot(lga_dailymean_windspeed.index, lga_dailymean_windspeed.wind_speed, label = \"Daily Average Wind Speed\", linewidth = 1, color = 'black')\n",
    "plt.xlabel('day')\n",
    "plt.ylabel('daily average wind speed [m/s] at LGA')\n"
   ]
  },
  {
   "cell_type": "markdown",
   "id": "be055958",
   "metadata": {},
   "source": [
    "### Conclusion of Step - 3:\n",
    "\n",
    "1. \"lga_dailymean_windspeed.index\" has daily average wind speeds for the LGA airport and index is set by \"date\".\n",
    "\n",
    "2. \"lga_dailymean_windspeed.wind_speed\" has daily average wind speeds for the LGA airport.\n",
    "\n",
    "3. To set the xlabel that is \"day\" and ylabel that has \"daily average wind speed [m/s] at LGA\".\n",
    "\n",
    "4. The plt() function is used to present the daily mean wind speeds at LGA airport in m/s.\n",
    "\n",
    "### Observations:\n",
    "\n",
    "1. Daily average wind speed [m/s] is high above 10 in between 2013-11 and 2014-01.\n",
    "\n",
    "2. Daily average wind speed [m/s] is low below 2 in between 2013-11 and 2014-01."
   ]
  },
  {
   "cell_type": "markdown",
   "id": "01dc2b51",
   "metadata": {},
   "source": [
    "## STEP - 4:\n",
    "\n",
    "**Purpose of Step - 4:**\n",
    "\n",
    "To identify and print the 10 windiest days at LGA, airport in Newyork that has the dates and its corresponding daily average wind speed."
   ]
  },
  {
   "cell_type": "code",
   "execution_count": 15,
   "id": "349736ef",
   "metadata": {},
   "outputs": [],
   "source": [
    "top10_windiestdays_LGA = lga_dailymean_windspeed.nlargest(10, 'wind_speed') # To store the 10 windiest days from the average windspeed dataset in a separate variable \"top10_windiestdays_LGA\"."
   ]
  },
  {
   "cell_type": "code",
   "execution_count": 16,
   "id": "f0930e6c",
   "metadata": {},
   "outputs": [
    {
     "name": "stdout",
     "output_type": "stream",
     "text": [
      "##                        wind_speed\n",
      "## date                                                   \n",
      "## 2013-11-24        11.316771\n",
      "## 2013-01-31        10.716639\n",
      "## 2013-02-17        10.009341\n",
      "## 2013-02-21        9.192080\n",
      "## 2013-02-18        9.173443\n",
      "## 2013-03-14        9.109143\n",
      "## 2013-11-28        8.937677\n",
      "## 2013-05-26        8.851944\n",
      "## 2013-05-25        8.766210\n",
      "## 2013-02-20        8.659044\n"
     ]
    }
   ],
   "source": [
    "print(\"##                        wind_speed\")\n",
    "print(\"## date                                                   \")\n",
    "print(f\"## {top10_windiestdays_LGA.index[0].date()}        {(top10_windiestdays_LGA.wind_speed[0]):.6f}\")\n",
    "print(f\"## {top10_windiestdays_LGA.index[1].date()}        {(top10_windiestdays_LGA.wind_speed[1]):.6f}\")\n",
    "print(f\"## {top10_windiestdays_LGA.index[2].date()}        {(top10_windiestdays_LGA.wind_speed[2]):.6f}\")\n",
    "print(f\"## {top10_windiestdays_LGA.index[3].date()}        {(top10_windiestdays_LGA.wind_speed[3]):.6f}\")\n",
    "print(f\"## {top10_windiestdays_LGA.index[4].date()}        {(top10_windiestdays_LGA.wind_speed[4]):.6f}\")\n",
    "print(f\"## {top10_windiestdays_LGA.index[5].date()}        {(top10_windiestdays_LGA.wind_speed[5]):.6f}\")\n",
    "print(f\"## {top10_windiestdays_LGA.index[6].date()}        {(top10_windiestdays_LGA.wind_speed[6]):.6f}\")\n",
    "print(f\"## {top10_windiestdays_LGA.index[7].date()}        {(top10_windiestdays_LGA.wind_speed[7]):.6f}\")\n",
    "print(f\"## {top10_windiestdays_LGA.index[8].date()}        {(top10_windiestdays_LGA.wind_speed[8]):.6f}\")\n",
    "print(f\"## {top10_windiestdays_LGA.index[9].date()}        {(top10_windiestdays_LGA.wind_speed[9]):.6f}\")"
   ]
  },
  {
   "cell_type": "markdown",
   "id": "50880860",
   "metadata": {},
   "source": [
    "### Conclusion of Step - 4:\n",
    "\n",
    "1. The 10 windiest days at LGA, airport in Newyork that has the dates and its corresponding daily average wind speed is printed.\n",
    "\n",
    "2. The windiest days with dates and respective wind speeds are: 11-24, 01-31, 02-17, 02-21, 02-18, 03-14, 11-28, 05-26, 05-25, 02-20; 11.316771, 10.716639, 10.009341, 9.192080, 9.173443, 8.937677,  8.851944, 8.766210, 8.659044 of the year 2013. "
   ]
  },
  {
   "cell_type": "markdown",
   "id": "7cb00b78",
   "metadata": {},
   "source": [
    "## STEP - 5:\n",
    "\n",
    "**Purpose of Step - 5:**\n",
    "\n",
    "To compute the monthly average wind speeds for all the airports: LGA, EWR, JFK."
   ]
  },
  {
   "cell_type": "code",
   "execution_count": 17,
   "id": "9884e79f",
   "metadata": {},
   "outputs": [],
   "source": [
    "index_outlier = orig_data['wind_speed'].idxmax() # Returns a maximum value for each column."
   ]
  },
  {
   "cell_type": "code",
   "execution_count": 18,
   "id": "82da875f",
   "metadata": {},
   "outputs": [],
   "source": [
    "orig_data.at[index_outlier, 'wind_speed'] = np.nan # Returns a maximum value for each column for each missing values (Np.nan)."
   ]
  },
  {
   "cell_type": "markdown",
   "id": "57a23623",
   "metadata": {},
   "source": [
    "### The monthly windspeed is stored in a respective variable for the airports like LGA, EWR, JFK."
   ]
  },
  {
   "cell_type": "code",
   "execution_count": 19,
   "id": "4ec0478a",
   "metadata": {},
   "outputs": [],
   "source": [
    "monthly_windspeed_LGA = orig_data[orig_data['origin'] == 'LGA'].copy()\n",
    "monthly_windspeed_LGA_date = monthly_windspeed_LGA.groupby([\"year\", \"month\"])\n",
    "monthly_average_windspeed_LGA = monthly_windspeed_LGA_date.wind_speed.mean()\n",
    "\n",
    "monthly_average_windspeed_LGA = pd.DataFrame(monthly_average_windspeed_LGA)\n",
    "\n",
    "\n",
    "monthly_average_windspeed_LGA[\"date\"] = pd.to_datetime(monthly_average_windspeed_LGA.index.map(lambda x: f\"{x[0]}-{x[1]}-01\"))\n",
    "monthly_average_windspeed_LGA.set_index(\"date\", inplace = True)"
   ]
  },
  {
   "cell_type": "markdown",
   "id": "69368a55",
   "metadata": {},
   "source": [
    "1. A copy of the column of \"LGA\" airport data from the original dataset is stored at monthly_windspeed_LGA.\n",
    "\n",
    "2. The monthly average windspeed is found for the \"LGA\" airport data from the original dataset by first grouping the data by year and month and then using the mean() function.\n",
    "\n",
    "3. In the monthly average windspeed, the date is set by index into a variable variable \"monthly_average_windspeed_LGA\"."
   ]
  },
  {
   "cell_type": "code",
   "execution_count": 20,
   "id": "c9299ab2",
   "metadata": {},
   "outputs": [],
   "source": [
    "monthly_windspeed_EWR = orig_data[orig_data['origin'] == 'EWR'].copy()\n",
    "monthly_windspeed_EWR_date = monthly_windspeed_EWR.groupby([\"year\", \"month\"])\n",
    "monthly_average_windspeed_EWR = monthly_windspeed_EWR_date.wind_speed.mean()\n",
    "\n",
    "monthly_average_windspeed_EWR = pd.DataFrame(monthly_average_windspeed_EWR)\n",
    "\n",
    "\n",
    "monthly_average_windspeed_EWR[\"date\"] = pd.to_datetime(monthly_average_windspeed_EWR.index.map(lambda x: f\"{x[0]}-{x[1]}-01\"))\n",
    "monthly_average_windspeed_EWR.set_index(\"date\", inplace = True)"
   ]
  },
  {
   "cell_type": "markdown",
   "id": "7b9b8c08",
   "metadata": {},
   "source": [
    "1. A copy of the column of \"EWR\" airport data from the original dataset is stored at monthly_windspeed_EWR.\n",
    "\n",
    "2. The monthly average windspeed is found for the \"EWR\" airport data from the original dataset by first grouping the data by year and month and then using the mean() function.\n",
    "\n",
    "3. In the monthly average windspeed, the date is set by index into a variable variable \"monthly_average_windspeed_EWR\"."
   ]
  },
  {
   "cell_type": "code",
   "execution_count": 21,
   "id": "a8923987",
   "metadata": {},
   "outputs": [],
   "source": [
    "monthly_windspeed_JFK = orig_data[orig_data['origin'] == 'JFK'].copy()\n",
    "monthly_windspeed_JFK_date = monthly_windspeed_JFK.groupby([\"year\", \"month\"])\n",
    "monthly_average_windspeed_JFK = monthly_windspeed_JFK_date.wind_speed.mean()\n",
    "\n",
    "monthly_average_windspeed_JFK = pd.DataFrame(monthly_average_windspeed_JFK)\n",
    "\n",
    "\n",
    "monthly_average_windspeed_JFK[\"date\"] = pd.to_datetime(monthly_average_windspeed_JFK.index.map(lambda x: f\"{x[0]}-{x[1]}-01\"))\n",
    "monthly_average_windspeed_JFK.set_index(\"date\", inplace = True)"
   ]
  },
  {
   "cell_type": "markdown",
   "id": "432e7907",
   "metadata": {},
   "source": [
    "1. A copy of the column of \"JFK\" airport data from the original dataset is stored at monthly_windspeed_JFK.\n",
    "\n",
    "2. The monthly average windspeed is found for the \"JFK\" airport data from the original dataset by first grouping the data by year and month and then using the mean() function.\n",
    "\n",
    "3. In the monthly average windspeed, the date is set by index into a variable variable \"monthly_average_windspeed_JFK\"."
   ]
  },
  {
   "cell_type": "markdown",
   "id": "dc2b3975",
   "metadata": {},
   "source": [
    "### Conclusion of Step - 5:\n",
    "\n",
    "1. A copy of the columns of \"LGA\", \"EWR\", \"JFK\" airport data from the original dataset is stored at monthly_windspeed_LGA, monthly_windspeed_EWR, monthly_windspeed_JFK respectively.\n",
    "\n",
    "2. The monthly average windspeed is found for the \"LGA\", \"EWR\", \"JFK\" airports data from the original dataset by first grouping the data by year and month and then using the mean() function.\n",
    "\n",
    "3. In the monthly average windspeed is found for the \"LGA\", \"EWR\", \"JFK\", the date is set by index into a variable variable monthly_average_windspeed_LGA, monthly_windspeed_EWR, monthly_windspeed_JFK respectively."
   ]
  },
  {
   "cell_type": "markdown",
   "id": "96dbcf80",
   "metadata": {},
   "source": [
    "## STEP - 6:\n",
    "\n",
    "To draw the monthly mean wind speeds for the three airports on the same plot."
   ]
  },
  {
   "cell_type": "code",
   "execution_count": 22,
   "id": "81351676",
   "metadata": {},
   "outputs": [
    {
     "data": {
      "image/png": "[encoded data removed]",
      "text/plain": [
       "<Figure size 640x480 with 1 Axes>"
      ]
     },
     "metadata": {},
     "output_type": "display_data"
    }
   ],
   "source": [
    "plt.plot(monthly_average_windspeed_LGA, label = 'LGA', color = 'blue')\n",
    "plt.plot(monthly_average_windspeed_EWR, label = 'EWR', color = 'orange')\n",
    "plt.plot(monthly_average_windspeed_JFK, label = 'JFK', color = 'green')\n",
    "\n",
    "plt.xlabel('month')\n",
    "plt.ylabel('monthly average wind speed[m/s]')\n",
    "\n",
    "\n",
    "plt.legend(['LGA', 'EWR', 'JFK'], loc = \"upper right\")\n",
    "plt.show()"
   ]
  },
  {
   "cell_type": "markdown",
   "id": "c6866d53",
   "metadata": {},
   "source": [
    "### Conclusion of Step - 6:\n",
    "\n",
    "1. The monthly average windspeed is calculated from the original dataset and the date is set by index into a variable variable **\"monthly_average_windspeed_LGA\"**. It is plotted as **\"blue line\"** on the graph using the plt() function.\n",
    "\n",
    "2.  The monthly average windspeed is calculated from the original dataset and the date is set by index into a variable variable **\"monthly_average_windspeed_EWR\"**. It is plotted as **\"orange line\"** on the graph using the plt() function.\n",
    "\n",
    "3.  The monthly average windspeed is calculated from the original dataset and the date is set by index into a variable variable **\"monthly_average_windspeed_JFK\"**. It is plotted as **\"green line\"** on the graph using the plt() function.\n",
    "\n",
    "### Observations:\n",
    "\n",
    "1. The monthly_average_windspeed_LGA has reached a maximum value of 5.8 and a minimum value of 3.7.\n",
    "\n",
    "2. The monthly_average_windspeed_EWR has reached a maximum value of 5.1 and a minimum value of 3.4.\n",
    "\n",
    "3. The monthly_average_windspeed_EWR has reached a maximum value of 6.2 and a minimum value of 4.2."
   ]
  },
  {
   "cell_type": "markdown",
   "id": "233fcc97",
   "metadata": {},
   "source": [
    "## SUMMARY:\n",
    "\n",
    "The purpose of this task is to plot the monthly_average_windspeed of the three airports: LGA, EWR and JFK in order to understand their windspeeds in a better manner.\n",
    "\n",
    "1. The temperature is converted from degrees Fahrenheit to Celcius, the dewpoint is converted from degrees Fahrenheit to Celcius, the precipitation value is converted from inches to millimetres, the visibility value is converted from miles to metres and the wind speed is converted from mph to mps and the gust speed is converted from mph to mps.\n",
    "\n",
    "2. The daily average wind speeds is computed for the LGA airports that has a total of 365 speed values for each day and group the data by year, month and day at the same time.\n",
    "\n",
    "3. The plt() function is used to present the daily mean wind speeds at LGA airport in m/s.\n",
    "\n",
    "4. The 10 windiest days at LGA, airport in Newyork that has the dates and its corresponding daily average wind speed is calculated. The windiest days with dates and respective wind speeds are: 11-24, 01-31, 02-17, 02-21, 02-18, 03-14, 11-28, 05-26, 05-25, 02-20; 11.316771, 10.716639, 10.009341, 9.192080, 9.173443, 8.937677, 8.851944, 8.766210, 8.659044 of the year 2013.\n",
    "\n",
    "5. In the monthly average windspeed is calculated for the \"LGA\", \"EWR\", \"JFK\", the date is set by index into a variable variable monthly_average_windspeed_LGA, monthly_windspeed_EWR, monthly_windspeed_JFK respectively.\n",
    "\n",
    "6. The monthly average windspeed for all the 3 airports is plotted using the plt() function."
   ]
  },
  {
   "cell_type": "markdown",
   "id": "1969796a",
   "metadata": {},
   "source": [
    "## REFERENCE:\n",
    "\n",
    "Marek Gagolewski, Minimalist Data Wrangling with Python (2022)."
   ]
  },
  {
   "cell_type": "code",
   "execution_count": null,
   "id": "9ab671cd",
   "metadata": {},
   "outputs": [],
   "source": []
  },
  {
   "cell_type": "code",
   "execution_count": null,
   "id": "75e77cfd",
   "metadata": {},
   "outputs": [],
   "source": []
  }
 ],
 "metadata": {
  "kernelspec": {
   "display_name": "Python 3 (ipykernel)",
   "language": "python",
   "name": "python3"
  },
  "language_info": {
   "codemirror_mode": {
    "name": "ipython",
    "version": 3
   },
   "file_extension": ".py",
   "mimetype": "text/x-python",
   "name": "python",
   "nbconvert_exporter": "python",
   "pygments_lexer": "ipython3",
   "version": "3.11.5"
  }
 },
 "nbformat": 4,
 "nbformat_minor": 5
}
