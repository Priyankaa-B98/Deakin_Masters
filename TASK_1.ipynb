{
 "cells": [
  {
   "cell_type": "markdown",
   "id": "889b77d5",
   "metadata": {},
   "source": [
    "# TASK 1: BMI ANALYSIS\n",
    "\n",
    "## B PRIYANKAA\n",
    "\n",
    "### s224207694\n",
    "### priyayj2016@gmail.com"
   ]
  },
  {
   "cell_type": "markdown",
   "id": "e1d0df6e",
   "metadata": {},
   "source": [
    "### ABSTRACT:\n",
    "\n",
    "In order to identify the health risks associated with the BMI categories defined by WHO, Body Mass Index (BMI) is calculated as it tells about the body fat present in the person's body. This BMI is calculated by dividing the person's weight in kilograms by the square of their heights in meters. \n",
    "\n",
    "There are 3 categories in BMI, they are:\n",
    "\n",
    "- if the BMI < 18 then the person is underweight.\n",
    "\n",
    "- if the BMI is the range of: 18< BMI <25, they are in normal stage.\n",
    "\n",
    "- if the BMI > 25 then the person is overweight.\n",
    "\n",
    "## TASK:\n",
    "\n",
    "The task is to take the Python list of names of 5 family members and friends as inputs and then calculate their BMIS and categorize them based on the bmi_categories defined by WHO."
   ]
  },
  {
   "cell_type": "markdown",
   "id": "76dcf0f5",
   "metadata": {},
   "source": [
    "## STEP 1:\n",
    "\n",
    "**Purpose:** The **first step** is to give the data containing atleast names, heights, weights of 5 persons in the form of Python lists as an input where:\n",
    "\n",
    "1. names[i] tells the name of the i-th person,\n",
    "\n",
    "2. height[i] tells the height of the i-th person in centimetres and,\n",
    "\n",
    "3. weight[i] tells the weight of the i-th person in kilograms."
   ]
  },
  {
   "cell_type": "code",
   "execution_count": 10,
   "id": "350530e6",
   "metadata": {},
   "outputs": [],
   "source": [
    "# Step 1: Giving the Python list as Input Data:\n",
    "\n",
    "names = [\"Naveen\",\"Pavithra\",\"Guru\",\"VishnuPriya\",\"Sasi\",\"Christina\"]\n",
    "heights = [175, 152, 168, 158, 150, 155] # The height is in centimetres.\n",
    "weights = [103, 64, 67, 45, 52, 50] # The weight is in kilograms."
   ]
  },
  {
   "cell_type": "markdown",
   "id": "d159bab6",
   "metadata": {},
   "source": [
    "#### Conclusion of Step1:\n",
    "\n",
    "Here the names of 6 members from family/ friends are taken as inputs, I have taken names like: Naveen, Pavithra, Guru, Vishnupriya and Sasi. \n",
    "\n",
    "Their respective heights and weights are also taken as input in centimetres and kilograms."
   ]
  },
  {
   "cell_type": "markdown",
   "id": "81e9379c",
   "metadata": {},
   "source": [
    "## STEP 2:\n",
    "\n",
    "**Purpose:**\n",
    "1. To Convert the height in centimetres into metres by dividing it by 100.\n",
    "\n",
    "- The formula for BMI can be referred through this link: https://en.wikipedia.org/wiki/Body_mass_index\n",
    "\n",
    "2. Then to calculate **BMIs(bmis)** by dividing the person's weight in kilograms by the square of their heights in meters.\n",
    "\n",
    "- The formula for new_BMI can be referred in this link: https://en.wikipedia.org/wiki/Body_mass_index\n",
    "\n",
    "3. Then to calculate **NEW_BMIs(new_bmis)** by dividing the person's weight in kilograms by the their heights in meters to the power of 2.5, then multiplied by a **scaling factor 1.3**."
   ]
  },
  {
   "cell_type": "code",
   "execution_count": 11,
   "id": "78b235ac",
   "metadata": {},
   "outputs": [],
   "source": [
    "bmis = []\n",
    "new_bmis = []\n",
    "for i in range(len(names)):\n",
    "    heights_m = heights[i] / 100 # the height of respective person is converted from centimetre to metres.\n",
    "    bmi = weights[i] / (heights_m ** 2) # Calculating the BMI\n",
    "    new_bmi = 1.3* (weights[i] / (heights_m ** 2.5)) # Calculating the new_BMI \n",
    "    # Appending the bmi to bmis list and new_bmi to new_bmis\n",
    "    bmis.append(bmi)\n",
    "    new_bmis.append(new_bmi)"
   ]
  },
  {
   "cell_type": "markdown",
   "id": "c5fd4b7c",
   "metadata": {},
   "source": [
    "#### Conclusion of Step 2:\n",
    "\n",
    "1. The new list names with bmis and new_bmis are created.\n",
    "\n",
    "2. A for loop is created based on the range of length of names in order to convert the heights in centimetres of each person's name present in names list.\n",
    "\n",
    "3. In the same for loop, bmi is calculated by dividing the person's weight in kilograms by the square of their heights in meters and Then NEW_BMIs(new_bmis) are calculated by dividing the person's weight in kilograms by the their heights in meters to the power of 2.5, then multiplied by a **scaling factor 1.3**.\n",
    "\n",
    "4. The calculated BMI values, bmi are then appended to the bmis list.\n",
    "\n",
    "5. The calculated NEW_BMI values, new_bmi are then appended to the new_bmis list."
   ]
  },
  {
   "cell_type": "markdown",
   "id": "671f02e2",
   "metadata": {},
   "source": [
    "## STEP 3:\n",
    "\n",
    "**Purpose:**\n",
    "\n",
    "A **for-loop** must be used in order to print a series of strings \"{name} has BMI of {bmi} which is {bmi_category}. The new BMI index is {new_bmi}.\" \n",
    "\n",
    "And this must be based on the bmi categories defined by WHO that is, **underweight if below 18.5, normal range below 25.0, overweight below 30.0, obese otherwise.**"
   ]
  },
  {
   "cell_type": "code",
   "execution_count": 12,
   "id": "725909d0",
   "metadata": {},
   "outputs": [
    {
     "name": "stdout",
     "output_type": "stream",
     "text": [
      "Naveen     has BMI of 33.63 which is obese. The new BMI index is 33.05.\n",
      "Pavithra   has BMI of 27.70 which is overweight. The new BMI index is 29.21.\n",
      "Guru       has BMI of 23.74 which is normal. The new BMI index is 23.81.\n",
      "VishnuPriya has BMI of 18.03 which is underweight. The new BMI index is 18.64.\n",
      "Sasi       has BMI of 23.11 which is normal. The new BMI index is 24.53.\n",
      "Christina  has BMI of 20.81 which is normal. The new BMI index is 21.73.\n"
     ]
    }
   ],
   "source": [
    "bmi_categories = []\n",
    "\n",
    "for i in range(len(names)):\n",
    "    if bmis[i] < 18.5:\n",
    "        category = \"underweight\"\n",
    "    elif bmis[i] < 25:\n",
    "        category = \"normal\"\n",
    "    elif bmis[i] < 30:\n",
    "        category = \"overweight\"\n",
    "    else:\n",
    "        category = \"obese\"\n",
    "    bmi_categories.append(category)\n",
    "    \n",
    "    name_length = len(names[i])\n",
    "    spaces = \" \" * (10 - name_length)\n",
    "    print(f\"{names[i]}{spaces} has BMI of {bmis[i]:.2f} which is {category}. The new BMI index is {new_bmis[i]:.2f}.\")"
   ]
  },
  {
   "cell_type": "markdown",
   "id": "93b3aea8",
   "metadata": {},
   "source": [
    "#### Conclusion of Step 3:\n",
    "\n",
    "1. A **for-loop** must be used in order to print a series of strings that contains the person's name and the category in which they belong based on their bmis.\n",
    "\n",
    "2. If the bmis is below 18.5, then the person is underweight. If the bmis is below 25, then the person is normal. If the bmis is below 30, then the person is overweight.\n",
    "\n",
    "3. Otherwise, the person may fall into **obese** category.\n",
    "\n",
    "4. Their new BMIs are also printed.\n",
    "\n",
    "### Based on the BMI values, each person is categorized into Normal, Overweight, Underweight or Obese.\n",
    "\n",
    "Here **Naveen** has a bmi value of 33.63, new_bmi value of 33.05 and he falls into **Obese** category. \n",
    "\n",
    "Whereas **VishnuPriya** has a bmi value of 18.03, new_bmi value of 18.64 and she falls into **Underweight** category."
   ]
  },
  {
   "cell_type": "markdown",
   "id": "44fec6e7",
   "metadata": {},
   "source": [
    "## STEP 4:\n",
    "\n",
    "**Purpose:** This step is to visualise the data given as input, those members who fall into:\n",
    "\n",
    "1. under_weight category has a bar of yellow color.\n",
    "\n",
    "2. normal category has a bar of green color.\n",
    "\n",
    "3. over_weight category has a bar of orange color.\n",
    "\n",
    "4. obese category has a bar of red color.\n",
    "\n",
    "The xlabel reveals the names given in the python_list names[i]., the ylabel reveals the BMI_Categories.\n",
    "\n",
    "It has the title as 'My Friends & Family Members' based on BMI values."
   ]
  },
  {
   "cell_type": "code",
   "execution_count": 13,
   "id": "fa9ee0f8",
   "metadata": {},
   "outputs": [
    {
     "data": {
      "image/png": "[encoded data removed]",
      "text/plain": [
       "<Figure size 640x480 with 1 Axes>"
      ]
     },
     "metadata": {},
     "output_type": "display_data"
    }
   ],
   "source": [
    "import matplotlib.pyplot as plt\n",
    "\n",
    "colors = ['yellow' if b < 18.5 else 'green' if b < 25 else 'orange' if b < 30 else 'red' for b in bmis]\n",
    "plt.bar(names, bmis, color = colors)\n",
    "plt.xlabel('Names')\n",
    "plt.ylabel('BMI_Category')\n",
    "plt.title('My Friends\\' BMIs')\n",
    "plt.show()"
   ]
  },
  {
   "cell_type": "markdown",
   "id": "be7439e8",
   "metadata": {},
   "source": [
    "#### Conclusion of Step 4:\n",
    "\n",
    "Bar chart is used to visualise the data in order to understand how the people are categorized in a more pictorial manner. Also it represents the data in a most simpler form.\n",
    "\n",
    "A barplot is created using the plt.bar(), xlabels, ylabels and title is also given for this bar plot.\n",
    "\n",
    "1. Here as per the above bar chart, Guru, Sasi and Christina fall into normal category.\n",
    "\n",
    "2. VishnuPriya falls into underweight category.\n",
    "\n",
    "3. Pavithra falls into overweight category.\n",
    "\n",
    "4. Naveen falls into obese category."
   ]
  },
  {
   "cell_type": "markdown",
   "id": "f15a699d",
   "metadata": {},
   "source": [
    "## STEP - 5:\n",
    "\n",
    "### Benefits and limitations of the BMI and the new BMI from both the medical and societal perspective:\n",
    "\n",
    "**Benefits and Limitations of the BMI:**\n",
    "\n",
    "1. BMI is the widely accepted tool for identifying individuals who are underweight, normal, overweight, obese. From a medical perspective, it can be used to identify the potential health risks associated with the individuals falling into overweight and obese categories. High BMI means it can be associated to Type 2 Diabetes.\n",
    "\n",
    "2. As the BMI cannot differentiate the muscle mass and body fat. The BMI generally over estimates by 10% for taller people. This measure can also classify athletes or fitness freaks with high muscle mass as obese and those senior citizens with low muscle mass as person in the normal stage.\n",
    "\n",
    "3. From a societal perspective, the use of BMI can contribute to body shaming and stigmtization of individuals who are classified as overweight or obese, even if they are healthy. These limitations are overcome by a small change where the New_BMI is calculated by person's weight in kilograms by the of their heights in meters to the power of 2.5, which is then multiplied by 1.3 and this gives a better accurate measure of body fat with respect to that of taller or shorter individuals."
   ]
  },
  {
   "cell_type": "markdown",
   "id": "f35ab351",
   "metadata": {},
   "source": [
    "## SUMMARY:\n",
    "\n",
    "This BMI analysis is done in order to categorize people based on the BMI categories defined by World Health Organisation (WHO).\n",
    "The old BMI formula has its own limitations when it comes to categorizing the right people to the right BMI category. Thus new_BMI formula can be used to overcome the limitations of the original BMI formula used.\n",
    "\n",
    "The names of 5 person, their weights and their heights are taken into account (are given as inputs). The bmis and new_bmis are calculated based on the formulas present in the given link. The next step is to categorize people based on their bmi values:\n",
    "\n",
    "After calculating theirbmi and new_bmi values, statements are printed in a such way it states which person belongs to which bmi category. For example, the output was: \n",
    "\n",
    "**Guru       has BMI of 23.74 which is normal. The new BMI index is 23.81.**\n",
    "\n",
    "Visualisation techniques are preferred as it summaries the larger set of data in a simple visual form. Bar charts are much useful in comparing the different categories.\n",
    "\n",
    "### Here,\n",
    "\n",
    "1. Guru, Sasi and Christina fall into normal category.\n",
    "\n",
    "2. VishnuPriya falls into underweight category.\n",
    "\n",
    "3. Pavithra falls into overweight category.\n",
    "\n",
    "4. Naveen falls into obese category."
   ]
  },
  {
   "cell_type": "code",
   "execution_count": null,
   "id": "f71fa228",
   "metadata": {},
   "outputs": [],
   "source": []
  }
 ],
 "metadata": {
  "kernelspec": {
   "display_name": "Python 3 (ipykernel)",
   "language": "python",
   "name": "python3"
  },
  "language_info": {
   "codemirror_mode": {
    "name": "ipython",
    "version": 3
   },
   "file_extension": ".py",
   "mimetype": "text/x-python",
   "name": "python",
   "nbconvert_exporter": "python",
   "pygments_lexer": "ipython3",
   "version": "3.11.5"
  }
 },
 "nbformat": 4,
 "nbformat_minor": 5
}
