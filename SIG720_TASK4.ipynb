{
 "cells": [
  {
   "cell_type": "markdown",
   "id": "b6502868",
   "metadata": {},
   "source": [
    "#                                             SIG720: Machine Learning "
   ]
  },
  {
   "cell_type": "markdown",
   "id": "f1c48883",
   "metadata": {},
   "source": [
    "# TASK 4:\n",
    "\n",
    "## B PRIYANKAA\n",
    "\n",
    "### s224207694\n",
    "### priyayj2016@gmail.com\n",
    "\n",
    "## TARGET GRADE: PASS(P)"
   ]
  },
  {
   "cell_type": "markdown",
   "id": "fb06a0b1",
   "metadata": {},
   "source": [
    "## ABSTRACT:\n",
    "\n",
    "### In order to find if the electrical grid is stable or unstable based on the dataset given."
   ]
  },
  {
   "cell_type": "markdown",
   "id": "6ba3b042",
   "metadata": {},
   "source": [
    "## TASKS:\n",
    "\n",
    "1. To download Electrical Grid Stability Simulated Data dataset from the link, \"https://archive.ics.uci.edu/dataset/471/electrical+grid+stability+simulated+data\" and print the dimension of the dataset.\n",
    "\n",
    "2. To classify the \"Electrical Grid Stability Simulated Data\" (target=stabf) available in the dataset using SVM with three different kernels.\n",
    "\n",
    "    - 2.1 To select appropriate data splitting approach and performance metrics.\n",
    "    \n",
    "    - 2.2 To report the performances and the used model hyper-parameters.\n",
    "    \n",
    "    \n",
    "    \n",
    "3. To use the same training and test set, use KNN and tune K on the training set, report the performance on the test set and the optimal K.\n",
    "\n",
    "4. To use the same training and test set, use Decision Tree and tune the depth of the tree on the training set, report the performance on the test set and the optimal depth.\n",
    "\n",
    "5. To share my understanding of hyper-parameters tuning in ML model development based on the model hyper-parameters used in question 2, 3 and question 4."
   ]
  },
  {
   "cell_type": "markdown",
   "id": "1fdf2b8b",
   "metadata": {},
   "source": [
    "### All the necessary libraries are imported."
   ]
  },
  {
   "cell_type": "code",
   "execution_count": 1,
   "id": "18bc546f",
   "metadata": {},
   "outputs": [],
   "source": [
    "import numpy as np\n",
    "import pandas as pd\n",
    "import matplotlib.pyplot as plt\n",
    "import seaborn as sns\n",
    "import scipy.stats as stats\n",
    "import warnings\n",
    "warnings.filterwarnings('ignore')\n",
    "%matplotlib inline\n",
    "from scipy.stats import zscore\n",
    "from sklearn.model_selection import train_test_split"
   ]
  },
  {
   "cell_type": "markdown",
   "id": "aadb3cb3",
   "metadata": {},
   "source": [
    "# 1. Download Electrical Grid Stability Simulated Data dataset and print the dimension of the dataset."
   ]
  },
  {
   "cell_type": "markdown",
   "id": "bad6fe58",
   "metadata": {},
   "source": [
    "1. The dataset is downloaded from the \"https://archive.ics.uci.edu/dataset/471/electrical+grid+stability+simulated+data\". The zipped folder, electrical+grid+stability+simulated+data.zip.\n",
    "\n",
    "2. The zipped folder is then extracted. Then extracted folder is in the name \"electrical+grid+stability+simulated+data\".\n",
    "\n",
    "3. The csv file with the name \"Data_for_UCI_named.csv\" is then copied to Users folder of Local c drive."
   ]
  },
  {
   "cell_type": "code",
   "execution_count": 2,
   "id": "0d8053cb",
   "metadata": {},
   "outputs": [
    {
     "data": {
      "text/html": [
       "<div>\n",
       "<style scoped>\n",
       "    .dataframe tbody tr th:only-of-type {\n",
       "        vertical-align: middle;\n",
       "    }\n",
       "\n",
       "    .dataframe tbody tr th {\n",
       "        vertical-align: top;\n",
       "    }\n",
       "\n",
       "    .dataframe thead th {\n",
       "        text-align: right;\n",
       "    }\n",
       "</style>\n",
       "<table border=\"1\" class=\"dataframe\">\n",
       "  <thead>\n",
       "    <tr style=\"text-align: right;\">\n",
       "      <th></th>\n",
       "      <th>tau1</th>\n",
       "      <th>tau2</th>\n",
       "      <th>tau3</th>\n",
       "      <th>tau4</th>\n",
       "      <th>p1</th>\n",
       "      <th>p2</th>\n",
       "      <th>p3</th>\n",
       "      <th>p4</th>\n",
       "      <th>g1</th>\n",
       "      <th>g2</th>\n",
       "      <th>g3</th>\n",
       "      <th>g4</th>\n",
       "      <th>stab</th>\n",
       "      <th>stabf</th>\n",
       "    </tr>\n",
       "  </thead>\n",
       "  <tbody>\n",
       "    <tr>\n",
       "      <th>0</th>\n",
       "      <td>2.959060</td>\n",
       "      <td>3.079885</td>\n",
       "      <td>8.381025</td>\n",
       "      <td>9.780754</td>\n",
       "      <td>3.763085</td>\n",
       "      <td>-0.782604</td>\n",
       "      <td>-1.257395</td>\n",
       "      <td>-1.723086</td>\n",
       "      <td>0.650456</td>\n",
       "      <td>0.859578</td>\n",
       "      <td>0.887445</td>\n",
       "      <td>0.958034</td>\n",
       "      <td>0.055347</td>\n",
       "      <td>unstable</td>\n",
       "    </tr>\n",
       "    <tr>\n",
       "      <th>1</th>\n",
       "      <td>9.304097</td>\n",
       "      <td>4.902524</td>\n",
       "      <td>3.047541</td>\n",
       "      <td>1.369357</td>\n",
       "      <td>5.067812</td>\n",
       "      <td>-1.940058</td>\n",
       "      <td>-1.872742</td>\n",
       "      <td>-1.255012</td>\n",
       "      <td>0.413441</td>\n",
       "      <td>0.862414</td>\n",
       "      <td>0.562139</td>\n",
       "      <td>0.781760</td>\n",
       "      <td>-0.005957</td>\n",
       "      <td>stable</td>\n",
       "    </tr>\n",
       "    <tr>\n",
       "      <th>2</th>\n",
       "      <td>8.971707</td>\n",
       "      <td>8.848428</td>\n",
       "      <td>3.046479</td>\n",
       "      <td>1.214518</td>\n",
       "      <td>3.405158</td>\n",
       "      <td>-1.207456</td>\n",
       "      <td>-1.277210</td>\n",
       "      <td>-0.920492</td>\n",
       "      <td>0.163041</td>\n",
       "      <td>0.766689</td>\n",
       "      <td>0.839444</td>\n",
       "      <td>0.109853</td>\n",
       "      <td>0.003471</td>\n",
       "      <td>unstable</td>\n",
       "    </tr>\n",
       "    <tr>\n",
       "      <th>3</th>\n",
       "      <td>0.716415</td>\n",
       "      <td>7.669600</td>\n",
       "      <td>4.486641</td>\n",
       "      <td>2.340563</td>\n",
       "      <td>3.963791</td>\n",
       "      <td>-1.027473</td>\n",
       "      <td>-1.938944</td>\n",
       "      <td>-0.997374</td>\n",
       "      <td>0.446209</td>\n",
       "      <td>0.976744</td>\n",
       "      <td>0.929381</td>\n",
       "      <td>0.362718</td>\n",
       "      <td>0.028871</td>\n",
       "      <td>unstable</td>\n",
       "    </tr>\n",
       "    <tr>\n",
       "      <th>4</th>\n",
       "      <td>3.134112</td>\n",
       "      <td>7.608772</td>\n",
       "      <td>4.943759</td>\n",
       "      <td>9.857573</td>\n",
       "      <td>3.525811</td>\n",
       "      <td>-1.125531</td>\n",
       "      <td>-1.845975</td>\n",
       "      <td>-0.554305</td>\n",
       "      <td>0.797110</td>\n",
       "      <td>0.455450</td>\n",
       "      <td>0.656947</td>\n",
       "      <td>0.820923</td>\n",
       "      <td>0.049860</td>\n",
       "      <td>unstable</td>\n",
       "    </tr>\n",
       "  </tbody>\n",
       "</table>\n",
       "</div>"
      ],
      "text/plain": [
       "       tau1      tau2      tau3      tau4        p1        p2        p3  \\\n",
       "0  2.959060  3.079885  8.381025  9.780754  3.763085 -0.782604 -1.257395   \n",
       "1  9.304097  4.902524  3.047541  1.369357  5.067812 -1.940058 -1.872742   \n",
       "2  8.971707  8.848428  3.046479  1.214518  3.405158 -1.207456 -1.277210   \n",
       "3  0.716415  7.669600  4.486641  2.340563  3.963791 -1.027473 -1.938944   \n",
       "4  3.134112  7.608772  4.943759  9.857573  3.525811 -1.125531 -1.845975   \n",
       "\n",
       "         p4        g1        g2        g3        g4      stab     stabf  \n",
       "0 -1.723086  0.650456  0.859578  0.887445  0.958034  0.055347  unstable  \n",
       "1 -1.255012  0.413441  0.862414  0.562139  0.781760 -0.005957    stable  \n",
       "2 -0.920492  0.163041  0.766689  0.839444  0.109853  0.003471  unstable  \n",
       "3 -0.997374  0.446209  0.976744  0.929381  0.362718  0.028871  unstable  \n",
       "4 -0.554305  0.797110  0.455450  0.656947  0.820923  0.049860  unstable  "
      ]
     },
     "execution_count": 2,
     "metadata": {},
     "output_type": "execute_result"
    }
   ],
   "source": [
    "#Pandas library- essential for handling and manipulating data in Python\n",
    "\n",
    "import pandas as pd\n",
    "\n",
    "df = pd.read_csv(\"Data_for_UCI_named.csv\")\n",
    "\n",
    "df.head()"
   ]
  },
  {
   "cell_type": "markdown",
   "id": "0ed9e8db",
   "metadata": {},
   "source": [
    "- The first step is to download the dataset and it is stored in the variable name: df.\n",
    "\n",
    "- The dimension of the dataset is said to be 10000 rows and 14 columns."
   ]
  },
  {
   "cell_type": "code",
   "execution_count": 3,
   "id": "4d9c036a",
   "metadata": {},
   "outputs": [
    {
     "name": "stdout",
     "output_type": "stream",
     "text": [
      "The shape of the dataset (10000, 14)\n"
     ]
    }
   ],
   "source": [
    "print('The shape of the dataset',df.shape)"
   ]
  },
  {
   "cell_type": "code",
   "execution_count": 4,
   "id": "8d71157d",
   "metadata": {},
   "outputs": [
    {
     "name": "stdout",
     "output_type": "stream",
     "text": [
      "The columns present in the dataset Index(['tau1', 'tau2', 'tau3', 'tau4', 'p1', 'p2', 'p3', 'p4', 'g1', 'g2',\n",
      "       'g3', 'g4', 'stab', 'stabf'],\n",
      "      dtype='object')\n"
     ]
    }
   ],
   "source": [
    "print('The columns present in the dataset',df.columns)"
   ]
  },
  {
   "cell_type": "code",
   "execution_count": 5,
   "id": "a689d65d",
   "metadata": {},
   "outputs": [
    {
     "name": "stdout",
     "output_type": "stream",
     "text": [
      "The datatypes of the columns present are: float64    13\n",
      "object      1\n",
      "dtype: int64\n"
     ]
    }
   ],
   "source": [
    "print('The datatypes of the columns present are:',df.dtypes.value_counts())"
   ]
  },
  {
   "cell_type": "markdown",
   "id": "ee8657b9",
   "metadata": {},
   "source": [
    "#### There are totally 14 columns where 13 columns are of float64 and 1 column with the name 'stabf' of dtype object."
   ]
  },
  {
   "cell_type": "code",
   "execution_count": 6,
   "id": "ce44a68d",
   "metadata": {},
   "outputs": [
    {
     "name": "stdout",
     "output_type": "stream",
     "text": [
      "<class 'pandas.core.frame.DataFrame'>\n",
      "RangeIndex: 10000 entries, 0 to 9999\n",
      "Data columns (total 14 columns):\n",
      " #   Column  Non-Null Count  Dtype  \n",
      "---  ------  --------------  -----  \n",
      " 0   tau1    10000 non-null  float64\n",
      " 1   tau2    10000 non-null  float64\n",
      " 2   tau3    10000 non-null  float64\n",
      " 3   tau4    10000 non-null  float64\n",
      " 4   p1      10000 non-null  float64\n",
      " 5   p2      10000 non-null  float64\n",
      " 6   p3      10000 non-null  float64\n",
      " 7   p4      10000 non-null  float64\n",
      " 8   g1      10000 non-null  float64\n",
      " 9   g2      10000 non-null  float64\n",
      " 10  g3      10000 non-null  float64\n",
      " 11  g4      10000 non-null  float64\n",
      " 12  stab    10000 non-null  float64\n",
      " 13  stabf   10000 non-null  object \n",
      "dtypes: float64(13), object(1)\n",
      "memory usage: 1.1+ MB\n"
     ]
    }
   ],
   "source": [
    "df.info()"
   ]
  },
  {
   "cell_type": "code",
   "execution_count": 7,
   "id": "d1f56a54",
   "metadata": {},
   "outputs": [
    {
     "name": "stdout",
     "output_type": "stream",
     "text": [
      "tau1     0\n",
      "tau2     0\n",
      "tau3     0\n",
      "tau4     0\n",
      "p1       0\n",
      "p2       0\n",
      "p3       0\n",
      "p4       0\n",
      "g1       0\n",
      "g2       0\n",
      "g3       0\n",
      "g4       0\n",
      "stab     0\n",
      "stabf    0\n",
      "dtype: int64\n"
     ]
    }
   ],
   "source": [
    "# Print feature names with the number of missing entries\n",
    "missing_entries = df.isnull().sum()\n",
    "print(missing_entries)"
   ]
  },
  {
   "cell_type": "code",
   "execution_count": 8,
   "id": "94ea605f",
   "metadata": {},
   "outputs": [
    {
     "data": {
      "text/html": [
       "<div>\n",
       "<style scoped>\n",
       "    .dataframe tbody tr th:only-of-type {\n",
       "        vertical-align: middle;\n",
       "    }\n",
       "\n",
       "    .dataframe tbody tr th {\n",
       "        vertical-align: top;\n",
       "    }\n",
       "\n",
       "    .dataframe thead th {\n",
       "        text-align: right;\n",
       "    }\n",
       "</style>\n",
       "<table border=\"1\" class=\"dataframe\">\n",
       "  <thead>\n",
       "    <tr style=\"text-align: right;\">\n",
       "      <th></th>\n",
       "      <th>tau1</th>\n",
       "      <th>tau2</th>\n",
       "      <th>tau3</th>\n",
       "      <th>tau4</th>\n",
       "      <th>p1</th>\n",
       "      <th>p2</th>\n",
       "      <th>p3</th>\n",
       "      <th>p4</th>\n",
       "      <th>g1</th>\n",
       "      <th>g2</th>\n",
       "      <th>g3</th>\n",
       "      <th>g4</th>\n",
       "      <th>stab</th>\n",
       "    </tr>\n",
       "  </thead>\n",
       "  <tbody>\n",
       "    <tr>\n",
       "      <th>tau1</th>\n",
       "      <td>1.000000</td>\n",
       "      <td>0.015586</td>\n",
       "      <td>-0.005970</td>\n",
       "      <td>-0.017265</td>\n",
       "      <td>0.027183</td>\n",
       "      <td>-0.015485</td>\n",
       "      <td>-0.015924</td>\n",
       "      <td>-0.015807</td>\n",
       "      <td>0.010521</td>\n",
       "      <td>0.015350</td>\n",
       "      <td>-0.001279</td>\n",
       "      <td>0.005494</td>\n",
       "      <td>0.275761</td>\n",
       "    </tr>\n",
       "    <tr>\n",
       "      <th>tau2</th>\n",
       "      <td>0.015586</td>\n",
       "      <td>1.000000</td>\n",
       "      <td>0.014273</td>\n",
       "      <td>-0.001965</td>\n",
       "      <td>-0.004769</td>\n",
       "      <td>0.006573</td>\n",
       "      <td>0.007673</td>\n",
       "      <td>-0.005963</td>\n",
       "      <td>-0.001742</td>\n",
       "      <td>0.015383</td>\n",
       "      <td>0.016508</td>\n",
       "      <td>-0.011764</td>\n",
       "      <td>0.290975</td>\n",
       "    </tr>\n",
       "    <tr>\n",
       "      <th>tau3</th>\n",
       "      <td>-0.005970</td>\n",
       "      <td>0.014273</td>\n",
       "      <td>1.000000</td>\n",
       "      <td>0.004354</td>\n",
       "      <td>0.016953</td>\n",
       "      <td>-0.003134</td>\n",
       "      <td>-0.008780</td>\n",
       "      <td>-0.017531</td>\n",
       "      <td>-0.011605</td>\n",
       "      <td>0.007671</td>\n",
       "      <td>0.014702</td>\n",
       "      <td>-0.011497</td>\n",
       "      <td>0.280700</td>\n",
       "    </tr>\n",
       "    <tr>\n",
       "      <th>tau4</th>\n",
       "      <td>-0.017265</td>\n",
       "      <td>-0.001965</td>\n",
       "      <td>0.004354</td>\n",
       "      <td>1.000000</td>\n",
       "      <td>-0.003173</td>\n",
       "      <td>0.010553</td>\n",
       "      <td>0.006169</td>\n",
       "      <td>-0.011211</td>\n",
       "      <td>-0.004149</td>\n",
       "      <td>0.008431</td>\n",
       "      <td>0.003260</td>\n",
       "      <td>-0.000491</td>\n",
       "      <td>0.278576</td>\n",
       "    </tr>\n",
       "    <tr>\n",
       "      <th>p1</th>\n",
       "      <td>0.027183</td>\n",
       "      <td>-0.004769</td>\n",
       "      <td>0.016953</td>\n",
       "      <td>-0.003173</td>\n",
       "      <td>1.000000</td>\n",
       "      <td>-0.573157</td>\n",
       "      <td>-0.584554</td>\n",
       "      <td>-0.579239</td>\n",
       "      <td>0.000721</td>\n",
       "      <td>0.015405</td>\n",
       "      <td>0.001069</td>\n",
       "      <td>-0.015451</td>\n",
       "      <td>0.010278</td>\n",
       "    </tr>\n",
       "    <tr>\n",
       "      <th>p2</th>\n",
       "      <td>-0.015485</td>\n",
       "      <td>0.006573</td>\n",
       "      <td>-0.003134</td>\n",
       "      <td>0.010553</td>\n",
       "      <td>-0.573157</td>\n",
       "      <td>1.000000</td>\n",
       "      <td>0.002388</td>\n",
       "      <td>-0.006844</td>\n",
       "      <td>0.015603</td>\n",
       "      <td>-0.018032</td>\n",
       "      <td>0.007555</td>\n",
       "      <td>0.019817</td>\n",
       "      <td>0.006255</td>\n",
       "    </tr>\n",
       "    <tr>\n",
       "      <th>p3</th>\n",
       "      <td>-0.015924</td>\n",
       "      <td>0.007673</td>\n",
       "      <td>-0.008780</td>\n",
       "      <td>0.006169</td>\n",
       "      <td>-0.584554</td>\n",
       "      <td>0.002388</td>\n",
       "      <td>1.000000</td>\n",
       "      <td>0.012953</td>\n",
       "      <td>-0.003219</td>\n",
       "      <td>-0.011575</td>\n",
       "      <td>-0.005897</td>\n",
       "      <td>-0.010485</td>\n",
       "      <td>-0.003321</td>\n",
       "    </tr>\n",
       "    <tr>\n",
       "      <th>p4</th>\n",
       "      <td>-0.015807</td>\n",
       "      <td>-0.005963</td>\n",
       "      <td>-0.017531</td>\n",
       "      <td>-0.011211</td>\n",
       "      <td>-0.579239</td>\n",
       "      <td>-0.006844</td>\n",
       "      <td>0.012953</td>\n",
       "      <td>1.000000</td>\n",
       "      <td>-0.013636</td>\n",
       "      <td>0.002850</td>\n",
       "      <td>-0.003515</td>\n",
       "      <td>0.017505</td>\n",
       "      <td>-0.020786</td>\n",
       "    </tr>\n",
       "    <tr>\n",
       "      <th>g1</th>\n",
       "      <td>0.010521</td>\n",
       "      <td>-0.001742</td>\n",
       "      <td>-0.011605</td>\n",
       "      <td>-0.004149</td>\n",
       "      <td>0.000721</td>\n",
       "      <td>0.015603</td>\n",
       "      <td>-0.003219</td>\n",
       "      <td>-0.013636</td>\n",
       "      <td>1.000000</td>\n",
       "      <td>0.007559</td>\n",
       "      <td>-0.005836</td>\n",
       "      <td>0.012431</td>\n",
       "      <td>0.282774</td>\n",
       "    </tr>\n",
       "    <tr>\n",
       "      <th>g2</th>\n",
       "      <td>0.015350</td>\n",
       "      <td>0.015383</td>\n",
       "      <td>0.007671</td>\n",
       "      <td>0.008431</td>\n",
       "      <td>0.015405</td>\n",
       "      <td>-0.018032</td>\n",
       "      <td>-0.011575</td>\n",
       "      <td>0.002850</td>\n",
       "      <td>0.007559</td>\n",
       "      <td>1.000000</td>\n",
       "      <td>-0.012809</td>\n",
       "      <td>-0.014909</td>\n",
       "      <td>0.293601</td>\n",
       "    </tr>\n",
       "    <tr>\n",
       "      <th>g3</th>\n",
       "      <td>-0.001279</td>\n",
       "      <td>0.016508</td>\n",
       "      <td>0.014702</td>\n",
       "      <td>0.003260</td>\n",
       "      <td>0.001069</td>\n",
       "      <td>0.007555</td>\n",
       "      <td>-0.005897</td>\n",
       "      <td>-0.003515</td>\n",
       "      <td>-0.005836</td>\n",
       "      <td>-0.012809</td>\n",
       "      <td>1.000000</td>\n",
       "      <td>0.006900</td>\n",
       "      <td>0.308235</td>\n",
       "    </tr>\n",
       "    <tr>\n",
       "      <th>g4</th>\n",
       "      <td>0.005494</td>\n",
       "      <td>-0.011764</td>\n",
       "      <td>-0.011497</td>\n",
       "      <td>-0.000491</td>\n",
       "      <td>-0.015451</td>\n",
       "      <td>0.019817</td>\n",
       "      <td>-0.010485</td>\n",
       "      <td>0.017505</td>\n",
       "      <td>0.012431</td>\n",
       "      <td>-0.014909</td>\n",
       "      <td>0.006900</td>\n",
       "      <td>1.000000</td>\n",
       "      <td>0.279214</td>\n",
       "    </tr>\n",
       "    <tr>\n",
       "      <th>stab</th>\n",
       "      <td>0.275761</td>\n",
       "      <td>0.290975</td>\n",
       "      <td>0.280700</td>\n",
       "      <td>0.278576</td>\n",
       "      <td>0.010278</td>\n",
       "      <td>0.006255</td>\n",
       "      <td>-0.003321</td>\n",
       "      <td>-0.020786</td>\n",
       "      <td>0.282774</td>\n",
       "      <td>0.293601</td>\n",
       "      <td>0.308235</td>\n",
       "      <td>0.279214</td>\n",
       "      <td>1.000000</td>\n",
       "    </tr>\n",
       "  </tbody>\n",
       "</table>\n",
       "</div>"
      ],
      "text/plain": [
       "          tau1      tau2      tau3      tau4        p1        p2        p3  \\\n",
       "tau1  1.000000  0.015586 -0.005970 -0.017265  0.027183 -0.015485 -0.015924   \n",
       "tau2  0.015586  1.000000  0.014273 -0.001965 -0.004769  0.006573  0.007673   \n",
       "tau3 -0.005970  0.014273  1.000000  0.004354  0.016953 -0.003134 -0.008780   \n",
       "tau4 -0.017265 -0.001965  0.004354  1.000000 -0.003173  0.010553  0.006169   \n",
       "p1    0.027183 -0.004769  0.016953 -0.003173  1.000000 -0.573157 -0.584554   \n",
       "p2   -0.015485  0.006573 -0.003134  0.010553 -0.573157  1.000000  0.002388   \n",
       "p3   -0.015924  0.007673 -0.008780  0.006169 -0.584554  0.002388  1.000000   \n",
       "p4   -0.015807 -0.005963 -0.017531 -0.011211 -0.579239 -0.006844  0.012953   \n",
       "g1    0.010521 -0.001742 -0.011605 -0.004149  0.000721  0.015603 -0.003219   \n",
       "g2    0.015350  0.015383  0.007671  0.008431  0.015405 -0.018032 -0.011575   \n",
       "g3   -0.001279  0.016508  0.014702  0.003260  0.001069  0.007555 -0.005897   \n",
       "g4    0.005494 -0.011764 -0.011497 -0.000491 -0.015451  0.019817 -0.010485   \n",
       "stab  0.275761  0.290975  0.280700  0.278576  0.010278  0.006255 -0.003321   \n",
       "\n",
       "            p4        g1        g2        g3        g4      stab  \n",
       "tau1 -0.015807  0.010521  0.015350 -0.001279  0.005494  0.275761  \n",
       "tau2 -0.005963 -0.001742  0.015383  0.016508 -0.011764  0.290975  \n",
       "tau3 -0.017531 -0.011605  0.007671  0.014702 -0.011497  0.280700  \n",
       "tau4 -0.011211 -0.004149  0.008431  0.003260 -0.000491  0.278576  \n",
       "p1   -0.579239  0.000721  0.015405  0.001069 -0.015451  0.010278  \n",
       "p2   -0.006844  0.015603 -0.018032  0.007555  0.019817  0.006255  \n",
       "p3    0.012953 -0.003219 -0.011575 -0.005897 -0.010485 -0.003321  \n",
       "p4    1.000000 -0.013636  0.002850 -0.003515  0.017505 -0.020786  \n",
       "g1   -0.013636  1.000000  0.007559 -0.005836  0.012431  0.282774  \n",
       "g2    0.002850  0.007559  1.000000 -0.012809 -0.014909  0.293601  \n",
       "g3   -0.003515 -0.005836 -0.012809  1.000000  0.006900  0.308235  \n",
       "g4    0.017505  0.012431 -0.014909  0.006900  1.000000  0.279214  \n",
       "stab -0.020786  0.282774  0.293601  0.308235  0.279214  1.000000  "
      ]
     },
     "execution_count": 8,
     "metadata": {},
     "output_type": "execute_result"
    }
   ],
   "source": [
    "df.corr()"
   ]
  },
  {
   "cell_type": "markdown",
   "id": "1a1a2e31",
   "metadata": {},
   "source": [
    "### Heatmap helps in better understanding of how the features are actually correlated. Dark colours denotes negative correlation and lighter shades denotes positive correlation."
   ]
  },
  {
   "cell_type": "code",
   "execution_count": 9,
   "id": "fbdaa29b",
   "metadata": {},
   "outputs": [
    {
     "data": {
      "image/png": "[encoded data removed]",
      "text/plain": [
       "<Figure size 1000x500 with 2 Axes>"
      ]
     },
     "metadata": {},
     "output_type": "display_data"
    }
   ],
   "source": [
    "plt.figure(figsize=(10,5))\n",
    "plt.title('Heatmap')\n",
    "sns.heatmap(df.corr(), annot=True,linewidths= '.5',fmt ='.1f',cmap = 'PiYG')# corr() is used to find the correlation between features and hence visulaised\n",
    "plt.yticks(rotation = 0)\n",
    "plt.xticks(rotation = 90)\n",
    "plt.show()"
   ]
  },
  {
   "cell_type": "markdown",
   "id": "d2fcfc00",
   "metadata": {},
   "source": [
    "## INSIGHTS FROM THE ABOVE HEATMAP:\n",
    "\n",
    "### A. Features having stronger correlation with correlation value:\n",
    "\n",
    "1. tau1, tau2, tau3, tau4, g1, g2, g3, g4 has a positive correlation value of 0.3 with stab feature.\n",
    "\n",
    "### B. Features having weaker correlation with correlation value:\n",
    "\n",
    "1. p1 with respective other p2, p3, p4 values have a negative correlation value of -0.6 with eachother."
   ]
  },
  {
   "cell_type": "code",
   "execution_count": 10,
   "id": "c38fd3d0",
   "metadata": {},
   "outputs": [
    {
     "data": {
      "text/html": [
       "<div>\n",
       "<style scoped>\n",
       "    .dataframe tbody tr th:only-of-type {\n",
       "        vertical-align: middle;\n",
       "    }\n",
       "\n",
       "    .dataframe tbody tr th {\n",
       "        vertical-align: top;\n",
       "    }\n",
       "\n",
       "    .dataframe thead th {\n",
       "        text-align: right;\n",
       "    }\n",
       "</style>\n",
       "<table border=\"1\" class=\"dataframe\">\n",
       "  <thead>\n",
       "    <tr style=\"text-align: right;\">\n",
       "      <th></th>\n",
       "      <th>tau1</th>\n",
       "      <th>tau2</th>\n",
       "      <th>tau3</th>\n",
       "      <th>tau4</th>\n",
       "      <th>p1</th>\n",
       "      <th>p2</th>\n",
       "      <th>p3</th>\n",
       "      <th>p4</th>\n",
       "      <th>g1</th>\n",
       "      <th>g2</th>\n",
       "      <th>g3</th>\n",
       "      <th>g4</th>\n",
       "      <th>stab</th>\n",
       "    </tr>\n",
       "  </thead>\n",
       "  <tbody>\n",
       "    <tr>\n",
       "      <th>count</th>\n",
       "      <td>10000.000000</td>\n",
       "      <td>10000.000000</td>\n",
       "      <td>10000.000000</td>\n",
       "      <td>10000.000000</td>\n",
       "      <td>10000.000000</td>\n",
       "      <td>10000.000000</td>\n",
       "      <td>10000.000000</td>\n",
       "      <td>10000.000000</td>\n",
       "      <td>10000.000000</td>\n",
       "      <td>10000.000000</td>\n",
       "      <td>10000.000000</td>\n",
       "      <td>10000.000000</td>\n",
       "      <td>10000.000000</td>\n",
       "    </tr>\n",
       "    <tr>\n",
       "      <th>mean</th>\n",
       "      <td>5.250000</td>\n",
       "      <td>5.250001</td>\n",
       "      <td>5.250004</td>\n",
       "      <td>5.249997</td>\n",
       "      <td>3.750000</td>\n",
       "      <td>-1.250000</td>\n",
       "      <td>-1.250000</td>\n",
       "      <td>-1.250000</td>\n",
       "      <td>0.525000</td>\n",
       "      <td>0.525000</td>\n",
       "      <td>0.525000</td>\n",
       "      <td>0.525000</td>\n",
       "      <td>0.015731</td>\n",
       "    </tr>\n",
       "    <tr>\n",
       "      <th>std</th>\n",
       "      <td>2.742548</td>\n",
       "      <td>2.742549</td>\n",
       "      <td>2.742549</td>\n",
       "      <td>2.742556</td>\n",
       "      <td>0.752160</td>\n",
       "      <td>0.433035</td>\n",
       "      <td>0.433035</td>\n",
       "      <td>0.433035</td>\n",
       "      <td>0.274256</td>\n",
       "      <td>0.274255</td>\n",
       "      <td>0.274255</td>\n",
       "      <td>0.274255</td>\n",
       "      <td>0.036919</td>\n",
       "    </tr>\n",
       "    <tr>\n",
       "      <th>min</th>\n",
       "      <td>0.500793</td>\n",
       "      <td>0.500141</td>\n",
       "      <td>0.500788</td>\n",
       "      <td>0.500473</td>\n",
       "      <td>1.582590</td>\n",
       "      <td>-1.999891</td>\n",
       "      <td>-1.999945</td>\n",
       "      <td>-1.999926</td>\n",
       "      <td>0.050009</td>\n",
       "      <td>0.050053</td>\n",
       "      <td>0.050054</td>\n",
       "      <td>0.050028</td>\n",
       "      <td>-0.080760</td>\n",
       "    </tr>\n",
       "    <tr>\n",
       "      <th>25%</th>\n",
       "      <td>2.874892</td>\n",
       "      <td>2.875140</td>\n",
       "      <td>2.875522</td>\n",
       "      <td>2.874950</td>\n",
       "      <td>3.218300</td>\n",
       "      <td>-1.624901</td>\n",
       "      <td>-1.625025</td>\n",
       "      <td>-1.624960</td>\n",
       "      <td>0.287521</td>\n",
       "      <td>0.287552</td>\n",
       "      <td>0.287514</td>\n",
       "      <td>0.287494</td>\n",
       "      <td>-0.015557</td>\n",
       "    </tr>\n",
       "    <tr>\n",
       "      <th>50%</th>\n",
       "      <td>5.250004</td>\n",
       "      <td>5.249981</td>\n",
       "      <td>5.249979</td>\n",
       "      <td>5.249734</td>\n",
       "      <td>3.751025</td>\n",
       "      <td>-1.249966</td>\n",
       "      <td>-1.249974</td>\n",
       "      <td>-1.250007</td>\n",
       "      <td>0.525009</td>\n",
       "      <td>0.525003</td>\n",
       "      <td>0.525015</td>\n",
       "      <td>0.525002</td>\n",
       "      <td>0.017142</td>\n",
       "    </tr>\n",
       "    <tr>\n",
       "      <th>75%</th>\n",
       "      <td>7.624690</td>\n",
       "      <td>7.624893</td>\n",
       "      <td>7.624948</td>\n",
       "      <td>7.624838</td>\n",
       "      <td>4.282420</td>\n",
       "      <td>-0.874977</td>\n",
       "      <td>-0.875043</td>\n",
       "      <td>-0.875065</td>\n",
       "      <td>0.762435</td>\n",
       "      <td>0.762490</td>\n",
       "      <td>0.762440</td>\n",
       "      <td>0.762433</td>\n",
       "      <td>0.044878</td>\n",
       "    </tr>\n",
       "    <tr>\n",
       "      <th>max</th>\n",
       "      <td>9.999469</td>\n",
       "      <td>9.999837</td>\n",
       "      <td>9.999450</td>\n",
       "      <td>9.999443</td>\n",
       "      <td>5.864418</td>\n",
       "      <td>-0.500108</td>\n",
       "      <td>-0.500072</td>\n",
       "      <td>-0.500025</td>\n",
       "      <td>0.999937</td>\n",
       "      <td>0.999944</td>\n",
       "      <td>0.999982</td>\n",
       "      <td>0.999930</td>\n",
       "      <td>0.109403</td>\n",
       "    </tr>\n",
       "  </tbody>\n",
       "</table>\n",
       "</div>"
      ],
      "text/plain": [
       "               tau1          tau2          tau3          tau4            p1  \\\n",
       "count  10000.000000  10000.000000  10000.000000  10000.000000  10000.000000   \n",
       "mean       5.250000      5.250001      5.250004      5.249997      3.750000   \n",
       "std        2.742548      2.742549      2.742549      2.742556      0.752160   \n",
       "min        0.500793      0.500141      0.500788      0.500473      1.582590   \n",
       "25%        2.874892      2.875140      2.875522      2.874950      3.218300   \n",
       "50%        5.250004      5.249981      5.249979      5.249734      3.751025   \n",
       "75%        7.624690      7.624893      7.624948      7.624838      4.282420   \n",
       "max        9.999469      9.999837      9.999450      9.999443      5.864418   \n",
       "\n",
       "                 p2            p3            p4            g1            g2  \\\n",
       "count  10000.000000  10000.000000  10000.000000  10000.000000  10000.000000   \n",
       "mean      -1.250000     -1.250000     -1.250000      0.525000      0.525000   \n",
       "std        0.433035      0.433035      0.433035      0.274256      0.274255   \n",
       "min       -1.999891     -1.999945     -1.999926      0.050009      0.050053   \n",
       "25%       -1.624901     -1.625025     -1.624960      0.287521      0.287552   \n",
       "50%       -1.249966     -1.249974     -1.250007      0.525009      0.525003   \n",
       "75%       -0.874977     -0.875043     -0.875065      0.762435      0.762490   \n",
       "max       -0.500108     -0.500072     -0.500025      0.999937      0.999944   \n",
       "\n",
       "                 g3            g4          stab  \n",
       "count  10000.000000  10000.000000  10000.000000  \n",
       "mean       0.525000      0.525000      0.015731  \n",
       "std        0.274255      0.274255      0.036919  \n",
       "min        0.050054      0.050028     -0.080760  \n",
       "25%        0.287514      0.287494     -0.015557  \n",
       "50%        0.525015      0.525002      0.017142  \n",
       "75%        0.762440      0.762433      0.044878  \n",
       "max        0.999982      0.999930      0.109403  "
      ]
     },
     "execution_count": 10,
     "metadata": {},
     "output_type": "execute_result"
    }
   ],
   "source": [
    "df.describe()"
   ]
  },
  {
   "cell_type": "markdown",
   "id": "934de26d",
   "metadata": {},
   "source": [
    "## INSIGHTS FROM FIVE-POINT SUMMARY:\n",
    "\n",
    "1. The minimum value of tau1 - tau4 ranges almost from 0.50 to the maximum value of 9.99.\n",
    "\n",
    "2. The mean value of p1 is 3.750000 and mean values of p2, p3, p4 is -1.250000."
   ]
  },
  {
   "cell_type": "markdown",
   "id": "22559843",
   "metadata": {},
   "source": [
    "# 2. Classify the \"Electrical Grid Stability Simulated Data\" (target=stabf) available in the dataset using SVM with three different kernels. Select appropriate data splitting approach and performance metrics. Report the performances and the used model hyper-parameters."
   ]
  },
  {
   "cell_type": "markdown",
   "id": "8bb99f3e",
   "metadata": {},
   "source": [
    "#### Step 2:\n",
    "\n",
    "- To divide the dataset into features and target variables.\n",
    "- Zscale is performed on the X.\n",
    "- SVM models with various kernels are tested and their performance metrics are reported."
   ]
  },
  {
   "cell_type": "code",
   "execution_count": 11,
   "id": "ddb620af",
   "metadata": {},
   "outputs": [],
   "source": [
    "X = df.drop(columns='stabf')\n",
    "# X is an independent variable.\n",
    "y = df['stabf']\n",
    "# y is the target variable."
   ]
  },
  {
   "cell_type": "code",
   "execution_count": 12,
   "id": "e0dc0a7f",
   "metadata": {},
   "outputs": [
    {
     "data": {
      "text/html": [
       "<div>\n",
       "<style scoped>\n",
       "    .dataframe tbody tr th:only-of-type {\n",
       "        vertical-align: middle;\n",
       "    }\n",
       "\n",
       "    .dataframe tbody tr th {\n",
       "        vertical-align: top;\n",
       "    }\n",
       "\n",
       "    .dataframe thead th {\n",
       "        text-align: right;\n",
       "    }\n",
       "</style>\n",
       "<table border=\"1\" class=\"dataframe\">\n",
       "  <thead>\n",
       "    <tr style=\"text-align: right;\">\n",
       "      <th></th>\n",
       "      <th>tau1</th>\n",
       "      <th>tau2</th>\n",
       "      <th>tau3</th>\n",
       "      <th>tau4</th>\n",
       "      <th>p1</th>\n",
       "      <th>p2</th>\n",
       "      <th>p3</th>\n",
       "      <th>p4</th>\n",
       "      <th>g1</th>\n",
       "      <th>g2</th>\n",
       "      <th>g3</th>\n",
       "      <th>g4</th>\n",
       "      <th>stab</th>\n",
       "    </tr>\n",
       "  </thead>\n",
       "  <tbody>\n",
       "    <tr>\n",
       "      <th>count</th>\n",
       "      <td>10000.000000</td>\n",
       "      <td>10000.000000</td>\n",
       "      <td>10000.000000</td>\n",
       "      <td>10000.000000</td>\n",
       "      <td>10000.000000</td>\n",
       "      <td>10000.000000</td>\n",
       "      <td>10000.000000</td>\n",
       "      <td>10000.000000</td>\n",
       "      <td>10000.000000</td>\n",
       "      <td>10000.000000</td>\n",
       "      <td>10000.000000</td>\n",
       "      <td>10000.000000</td>\n",
       "      <td>10000.000000</td>\n",
       "    </tr>\n",
       "    <tr>\n",
       "      <th>mean</th>\n",
       "      <td>5.250000</td>\n",
       "      <td>5.250001</td>\n",
       "      <td>5.250004</td>\n",
       "      <td>5.249997</td>\n",
       "      <td>3.750000</td>\n",
       "      <td>-1.250000</td>\n",
       "      <td>-1.250000</td>\n",
       "      <td>-1.250000</td>\n",
       "      <td>0.525000</td>\n",
       "      <td>0.525000</td>\n",
       "      <td>0.525000</td>\n",
       "      <td>0.525000</td>\n",
       "      <td>0.015731</td>\n",
       "    </tr>\n",
       "    <tr>\n",
       "      <th>std</th>\n",
       "      <td>2.742548</td>\n",
       "      <td>2.742549</td>\n",
       "      <td>2.742549</td>\n",
       "      <td>2.742556</td>\n",
       "      <td>0.752160</td>\n",
       "      <td>0.433035</td>\n",
       "      <td>0.433035</td>\n",
       "      <td>0.433035</td>\n",
       "      <td>0.274256</td>\n",
       "      <td>0.274255</td>\n",
       "      <td>0.274255</td>\n",
       "      <td>0.274255</td>\n",
       "      <td>0.036919</td>\n",
       "    </tr>\n",
       "    <tr>\n",
       "      <th>min</th>\n",
       "      <td>0.500793</td>\n",
       "      <td>0.500141</td>\n",
       "      <td>0.500788</td>\n",
       "      <td>0.500473</td>\n",
       "      <td>1.582590</td>\n",
       "      <td>-1.999891</td>\n",
       "      <td>-1.999945</td>\n",
       "      <td>-1.999926</td>\n",
       "      <td>0.050009</td>\n",
       "      <td>0.050053</td>\n",
       "      <td>0.050054</td>\n",
       "      <td>0.050028</td>\n",
       "      <td>-0.080760</td>\n",
       "    </tr>\n",
       "    <tr>\n",
       "      <th>25%</th>\n",
       "      <td>2.874892</td>\n",
       "      <td>2.875140</td>\n",
       "      <td>2.875522</td>\n",
       "      <td>2.874950</td>\n",
       "      <td>3.218300</td>\n",
       "      <td>-1.624901</td>\n",
       "      <td>-1.625025</td>\n",
       "      <td>-1.624960</td>\n",
       "      <td>0.287521</td>\n",
       "      <td>0.287552</td>\n",
       "      <td>0.287514</td>\n",
       "      <td>0.287494</td>\n",
       "      <td>-0.015557</td>\n",
       "    </tr>\n",
       "    <tr>\n",
       "      <th>50%</th>\n",
       "      <td>5.250004</td>\n",
       "      <td>5.249981</td>\n",
       "      <td>5.249979</td>\n",
       "      <td>5.249734</td>\n",
       "      <td>3.751025</td>\n",
       "      <td>-1.249966</td>\n",
       "      <td>-1.249974</td>\n",
       "      <td>-1.250007</td>\n",
       "      <td>0.525009</td>\n",
       "      <td>0.525003</td>\n",
       "      <td>0.525015</td>\n",
       "      <td>0.525002</td>\n",
       "      <td>0.017142</td>\n",
       "    </tr>\n",
       "    <tr>\n",
       "      <th>75%</th>\n",
       "      <td>7.624690</td>\n",
       "      <td>7.624893</td>\n",
       "      <td>7.624948</td>\n",
       "      <td>7.624838</td>\n",
       "      <td>4.282420</td>\n",
       "      <td>-0.874977</td>\n",
       "      <td>-0.875043</td>\n",
       "      <td>-0.875065</td>\n",
       "      <td>0.762435</td>\n",
       "      <td>0.762490</td>\n",
       "      <td>0.762440</td>\n",
       "      <td>0.762433</td>\n",
       "      <td>0.044878</td>\n",
       "    </tr>\n",
       "    <tr>\n",
       "      <th>max</th>\n",
       "      <td>9.999469</td>\n",
       "      <td>9.999837</td>\n",
       "      <td>9.999450</td>\n",
       "      <td>9.999443</td>\n",
       "      <td>5.864418</td>\n",
       "      <td>-0.500108</td>\n",
       "      <td>-0.500072</td>\n",
       "      <td>-0.500025</td>\n",
       "      <td>0.999937</td>\n",
       "      <td>0.999944</td>\n",
       "      <td>0.999982</td>\n",
       "      <td>0.999930</td>\n",
       "      <td>0.109403</td>\n",
       "    </tr>\n",
       "  </tbody>\n",
       "</table>\n",
       "</div>"
      ],
      "text/plain": [
       "               tau1          tau2          tau3          tau4            p1  \\\n",
       "count  10000.000000  10000.000000  10000.000000  10000.000000  10000.000000   \n",
       "mean       5.250000      5.250001      5.250004      5.249997      3.750000   \n",
       "std        2.742548      2.742549      2.742549      2.742556      0.752160   \n",
       "min        0.500793      0.500141      0.500788      0.500473      1.582590   \n",
       "25%        2.874892      2.875140      2.875522      2.874950      3.218300   \n",
       "50%        5.250004      5.249981      5.249979      5.249734      3.751025   \n",
       "75%        7.624690      7.624893      7.624948      7.624838      4.282420   \n",
       "max        9.999469      9.999837      9.999450      9.999443      5.864418   \n",
       "\n",
       "                 p2            p3            p4            g1            g2  \\\n",
       "count  10000.000000  10000.000000  10000.000000  10000.000000  10000.000000   \n",
       "mean      -1.250000     -1.250000     -1.250000      0.525000      0.525000   \n",
       "std        0.433035      0.433035      0.433035      0.274256      0.274255   \n",
       "min       -1.999891     -1.999945     -1.999926      0.050009      0.050053   \n",
       "25%       -1.624901     -1.625025     -1.624960      0.287521      0.287552   \n",
       "50%       -1.249966     -1.249974     -1.250007      0.525009      0.525003   \n",
       "75%       -0.874977     -0.875043     -0.875065      0.762435      0.762490   \n",
       "max       -0.500108     -0.500072     -0.500025      0.999937      0.999944   \n",
       "\n",
       "                 g3            g4          stab  \n",
       "count  10000.000000  10000.000000  10000.000000  \n",
       "mean       0.525000      0.525000      0.015731  \n",
       "std        0.274255      0.274255      0.036919  \n",
       "min        0.050054      0.050028     -0.080760  \n",
       "25%        0.287514      0.287494     -0.015557  \n",
       "50%        0.525015      0.525002      0.017142  \n",
       "75%        0.762440      0.762433      0.044878  \n",
       "max        0.999982      0.999930      0.109403  "
      ]
     },
     "execution_count": 12,
     "metadata": {},
     "output_type": "execute_result"
    }
   ],
   "source": [
    "X.describe()"
   ]
  },
  {
   "cell_type": "code",
   "execution_count": 13,
   "id": "85f1a74d",
   "metadata": {},
   "outputs": [],
   "source": [
    "from scipy.stats import zscore\n",
    "from sklearn.model_selection import train_test_split"
   ]
  },
  {
   "cell_type": "code",
   "execution_count": 14,
   "id": "626618b2",
   "metadata": {},
   "outputs": [],
   "source": [
    "X_Scaled = X.apply(zscore)"
   ]
  },
  {
   "cell_type": "code",
   "execution_count": 15,
   "id": "90080de4",
   "metadata": {},
   "outputs": [
    {
     "data": {
      "text/plain": [
       "count        10000\n",
       "unique           2\n",
       "top       unstable\n",
       "freq          6380\n",
       "Name: stabf, dtype: object"
      ]
     },
     "execution_count": 15,
     "metadata": {},
     "output_type": "execute_result"
    }
   ],
   "source": [
    "y.describe()"
   ]
  },
  {
   "cell_type": "markdown",
   "id": "bf6743fa",
   "metadata": {},
   "source": [
    "### Scaling Independent variables by applying Z-score: Mean becomes 0 and standard deviation is 1."
   ]
  },
  {
   "cell_type": "code",
   "execution_count": 16,
   "id": "a3712a95",
   "metadata": {},
   "outputs": [
    {
     "data": {
      "text/plain": [
       "array(['unstable', 'stable'], dtype=object)"
      ]
     },
     "execution_count": 16,
     "metadata": {},
     "output_type": "execute_result"
    }
   ],
   "source": [
    "df['stabf'].unique()"
   ]
  },
  {
   "cell_type": "markdown",
   "id": "61b41427",
   "metadata": {},
   "source": [
    "- There are 2 values in the target variable y. They are: unstable, stable."
   ]
  },
  {
   "cell_type": "code",
   "execution_count": 17,
   "id": "40282f42",
   "metadata": {},
   "outputs": [],
   "source": [
    "X_train, X_test, y_train, y_test =train_test_split(X_Scaled,y, test_size=.30,random_state=42) "
   ]
  },
  {
   "cell_type": "code",
   "execution_count": 18,
   "id": "9fd5609a",
   "metadata": {},
   "outputs": [
    {
     "name": "stdout",
     "output_type": "stream",
     "text": [
      "X_train: (7000, 13)\n",
      "X_test: (3000, 13)\n",
      "y_train: (7000,)\n",
      "y_test: (3000,)\n"
     ]
    }
   ],
   "source": [
    "# Print shapes\n",
    "print(f'X_train: {X_train.shape}')\n",
    "print(f'X_test: {X_test.shape}')\n",
    "print(f'y_train: {y_train.shape}')\n",
    "print(f'y_test: {y_test.shape}')"
   ]
  },
  {
   "cell_type": "markdown",
   "id": "b5e5570b",
   "metadata": {},
   "source": [
    "Out of 10000 columns, 7000 are used for training and 3000 are used for testing the model developed."
   ]
  },
  {
   "cell_type": "markdown",
   "id": "a2a61899",
   "metadata": {},
   "source": [
    "### 1. SVM Model with kernel: 'rbf'"
   ]
  },
  {
   "cell_type": "code",
   "execution_count": 19,
   "id": "dd73e6ee",
   "metadata": {},
   "outputs": [],
   "source": [
    "from sklearn.svm import SVC\n",
    "# SVC function is imported from sklearn.\n",
    "# kernel ='rbf' specifies that there is no kernel used.\n",
    "svc_model = SVC(C=0.1, kernel='rbf', gamma=1) # Parameters are set\n",
    "\n",
    "svc_model.fit(X_train, y_train)\n",
    "# Model is fit on the Trainign Data\n",
    "prediction = svc_model.predict(X_test)\n",
    "#labels are predicted based on X_test values"
   ]
  },
  {
   "cell_type": "markdown",
   "id": "c6cb5fa0",
   "metadata": {},
   "source": [
    "### Printing the evaluation metrics for the SVM model with kernel 'rbf'\n",
    "\n",
    "1.1. Accuracy\n",
    "\n",
    "1.2. Confusion Matrix\n",
    "\n",
    "1.3. Classification Report."
   ]
  },
  {
   "cell_type": "markdown",
   "id": "cc368d4d",
   "metadata": {},
   "source": [
    "#### 1.1. Accuracy"
   ]
  },
  {
   "cell_type": "code",
   "execution_count": 20,
   "id": "9c58177e",
   "metadata": {},
   "outputs": [
    {
     "name": "stdout",
     "output_type": "stream",
     "text": [
      "The score of the model using the training dataset 0.6344285714285715\n",
      "The score of the model using the testing dataset 0.6463333333333333\n"
     ]
    }
   ],
   "source": [
    "print('The score of the model using the training dataset',svc_model.score(X_train, y_train))\n",
    "print('The score of the model using the testing dataset',svc_model.score(X_test, y_test))"
   ]
  },
  {
   "cell_type": "markdown",
   "id": "631c943e",
   "metadata": {},
   "source": [
    "#### 1.2. Confusion Matrix"
   ]
  },
  {
   "cell_type": "code",
   "execution_count": 21,
   "id": "29ed875a",
   "metadata": {},
   "outputs": [
    {
     "name": "stdout",
     "output_type": "stream",
     "text": [
      "Confusion Matrix\n"
     ]
    },
    {
     "data": {
      "text/plain": [
       "<Axes: >"
      ]
     },
     "execution_count": 21,
     "metadata": {},
     "output_type": "execute_result"
    },
    {
     "data": {
      "image/png": "[encoded data removed]",
      "text/plain": [
       "<Figure size 700x500 with 2 Axes>"
      ]
     },
     "metadata": {},
     "output_type": "display_data"
    }
   ],
   "source": [
    "from sklearn import metrics\n",
    "\n",
    "print(\"Confusion Matrix\")\n",
    "cm=metrics.confusion_matrix(prediction,y_test)\n",
    "\n",
    "df_cm = pd.DataFrame(cm, index = [i for i in [\"Unstable\",\"Stable\"]],\n",
    "                  columns = [i for i in [\"Predict Unstable\",\"Predict Stable\"]])\n",
    "plt.figure(figsize = (7,5))\n",
    "sns.heatmap(df_cm, annot=True)"
   ]
  },
  {
   "cell_type": "markdown",
   "id": "be87dc49",
   "metadata": {},
   "source": [
    "#### 1.3. Classification Report:"
   ]
  },
  {
   "cell_type": "code",
   "execution_count": 22,
   "id": "233be113",
   "metadata": {},
   "outputs": [
    {
     "name": "stdout",
     "output_type": "stream",
     "text": [
      "Classification matrix:\n",
      "               precision    recall  f1-score   support\n",
      "\n",
      "      stable       0.00      0.00      0.00         0\n",
      "    unstable       1.00      0.65      0.79      3000\n",
      "\n",
      "    accuracy                           0.65      3000\n",
      "   macro avg       0.50      0.32      0.39      3000\n",
      "weighted avg       1.00      0.65      0.79      3000\n",
      "\n"
     ]
    }
   ],
   "source": [
    "from sklearn.svm import SVC\n",
    "from sklearn.metrics import classification_report\n",
    "from sklearn import model_selection\n",
    "\n",
    "print('Classification matrix:\\n',classification_report(prediction,y_test))"
   ]
  },
  {
   "cell_type": "markdown",
   "id": "195ef1f1",
   "metadata": {},
   "source": [
    "### Conclusion for the SVM Model with kernel: 'rbf'\n",
    "\n",
    "1. The accuracy is said to be the proportion of the total number of predictions that were correct. Here it is said to 63.4% on training data and 64.6% on the testing data.\n",
    "\n",
    "2. Precision is the proportion of positive predictions that were actually correct. Here stable postitive predictions are actually correct.\n",
    "\n",
    "3. Recall is the proportion of actual positives that were correctly identified. Unstable output has a recall value of 65%.\n",
    "\n",
    "4. A high F1 score indicates the strong overall performance of a binary classification model. There is f1 score of target variable with \"unstable\" is 79%."
   ]
  },
  {
   "cell_type": "markdown",
   "id": "7ff4873b",
   "metadata": {},
   "source": [
    "### 2. SVM Model with kernel: 'poly'"
   ]
  },
  {
   "cell_type": "code",
   "execution_count": 23,
   "id": "f90a3a3f",
   "metadata": {},
   "outputs": [],
   "source": [
    "from sklearn.svm import SVC\n",
    "# SVC function is imported from sklearn.\n",
    "# kernel ='rbf' specifies that there is no kernel used.\n",
    "svc_model1 = SVC(C=0.1, kernel='poly', gamma=1) # Parameters are set\n",
    "\n",
    "svc_model1.fit(X_train, y_train)\n",
    "# Model is fir on the Trainign Data\n",
    "prediction1 = svc_model1.predict(X_test)\n",
    "#labels are predicted based on X_test values"
   ]
  },
  {
   "cell_type": "markdown",
   "id": "1f4b633c",
   "metadata": {},
   "source": [
    "### Printing the evaluation metrics for the SVM model with kernel 'ploy'\n",
    "\n",
    "2.1. Accuracy\n",
    "\n",
    "2.2. Confusion Matrix\n",
    "\n",
    "2.3. Classification Report."
   ]
  },
  {
   "cell_type": "markdown",
   "id": "8105bf52",
   "metadata": {},
   "source": [
    "#### 2.1 Accuracy:"
   ]
  },
  {
   "cell_type": "code",
   "execution_count": 24,
   "id": "b51e302c",
   "metadata": {},
   "outputs": [
    {
     "name": "stdout",
     "output_type": "stream",
     "text": [
      "The score of the model using the training dataset 0.999\n",
      "The score of the model using the testing dataset 0.9726666666666667\n"
     ]
    }
   ],
   "source": [
    "print('The score of the model using the training dataset',svc_model1.score(X_train, y_train))\n",
    "print('The score of the model using the testing dataset',svc_model1.score(X_test, y_test))"
   ]
  },
  {
   "cell_type": "markdown",
   "id": "f9b03380",
   "metadata": {},
   "source": [
    "#### 2.2. Confusion Matrix:"
   ]
  },
  {
   "cell_type": "code",
   "execution_count": 25,
   "id": "68e02b5f",
   "metadata": {},
   "outputs": [
    {
     "name": "stdout",
     "output_type": "stream",
     "text": [
      "Confusion Matrix\n"
     ]
    },
    {
     "data": {
      "text/plain": [
       "<Axes: >"
      ]
     },
     "execution_count": 25,
     "metadata": {},
     "output_type": "execute_result"
    },
    {
     "data": {
      "image/png": "[encoded data removed]",
      "text/plain": [
       "<Figure size 700x500 with 2 Axes>"
      ]
     },
     "metadata": {},
     "output_type": "display_data"
    }
   ],
   "source": [
    "from sklearn import metrics\n",
    "\n",
    "print(\"Confusion Matrix\")\n",
    "cm=metrics.confusion_matrix(prediction1,y_test)\n",
    "\n",
    "df_cm = pd.DataFrame(cm, index = [i for i in [\"Unstable\",\"Stable\"]],\n",
    "                  columns = [i for i in [\"Predict Unstable\",\"Predict Stable\"]])\n",
    "plt.figure(figsize = (7,5))\n",
    "sns.heatmap(df_cm, annot=True)"
   ]
  },
  {
   "cell_type": "markdown",
   "id": "d20f8fbc",
   "metadata": {},
   "source": [
    "#### 2.3. Classification Report:"
   ]
  },
  {
   "cell_type": "code",
   "execution_count": 26,
   "id": "d6f3e793",
   "metadata": {},
   "outputs": [
    {
     "name": "stdout",
     "output_type": "stream",
     "text": [
      "Classification matrix:\n",
      "               precision    recall  f1-score   support\n",
      "\n",
      "      stable       0.97      0.96      0.96      1073\n",
      "    unstable       0.98      0.98      0.98      1927\n",
      "\n",
      "    accuracy                           0.97      3000\n",
      "   macro avg       0.97      0.97      0.97      3000\n",
      "weighted avg       0.97      0.97      0.97      3000\n",
      "\n"
     ]
    }
   ],
   "source": [
    "print('Classification matrix:\\n',classification_report(prediction1,y_test))"
   ]
  },
  {
   "cell_type": "markdown",
   "id": "3a3fe657",
   "metadata": {},
   "source": [
    "### Conclusion for the SVM Model with kernel: 'poly'\n",
    "\n",
    "1. The accuracy is said to be the proportion of the total number of predictions that were correct. Here it is said to 99.9% on training data and 97.2% on the testing data.\n",
    "\n",
    "2. Precision is the proportion of positive predictions that were actually correct. Here stable postitive predictions are actually correct with 97% and unstable postitive predictions are actually correct with 98%.\n",
    "\n",
    "3. Recall is the proportion of actual positives that were correctly identified. Unstable output has a recall value of 98%.\n",
    "   stable output has a recall value of 96%\n",
    "\n",
    "4. A high F1 score indicates the strong overall performance of a binary classification model. There is f1 score of target variable with \"unstable\" is 98%."
   ]
  },
  {
   "cell_type": "markdown",
   "id": "dcab7838",
   "metadata": {},
   "source": [
    "### 3. SVM Model with kernel: 'sigmoid'"
   ]
  },
  {
   "cell_type": "code",
   "execution_count": 27,
   "id": "f578005b",
   "metadata": {},
   "outputs": [],
   "source": [
    "from sklearn.svm import SVC\n",
    "# SVC function is imported from sklearn.\n",
    "# kernel ='rbf' specifies that there is no kernel used.\n",
    "svc_model2 = SVC(C=0.1, kernel='sigmoid', gamma=1) # Parameters are set\n",
    "\n",
    "svc_model2.fit(X_train, y_train)\n",
    "# Model is fir on the Trainign Data\n",
    "prediction2 = svc_model2.predict(X_test)\n",
    "#labels are predicted based on X_test values"
   ]
  },
  {
   "cell_type": "markdown",
   "id": "6a1f8f0e",
   "metadata": {},
   "source": [
    "### Printing the evaluation metrics for the SVM model with kernel 'ploy'\n",
    "\n",
    "3.1. Accuracy\n",
    "\n",
    "3.2. Confusion Matrix\n",
    "\n",
    "3.3. Classification Report."
   ]
  },
  {
   "cell_type": "markdown",
   "id": "2915864f",
   "metadata": {},
   "source": [
    "#### 3.1. Accuracy"
   ]
  },
  {
   "cell_type": "code",
   "execution_count": 28,
   "id": "3576a929",
   "metadata": {},
   "outputs": [
    {
     "name": "stdout",
     "output_type": "stream",
     "text": [
      "The score of the model using the training dataset 0.8378571428571429\n",
      "The score of the model using the testing dataset 0.854\n"
     ]
    }
   ],
   "source": [
    "print('The score of the model using the training dataset',svc_model2.score(X_train, y_train))\n",
    "print('The score of the model using the testing dataset',svc_model2.score(X_test, y_test))"
   ]
  },
  {
   "cell_type": "markdown",
   "id": "9cfe1838",
   "metadata": {},
   "source": [
    "#### 3.2. Confusion Matrix"
   ]
  },
  {
   "cell_type": "code",
   "execution_count": 29,
   "id": "9128906c",
   "metadata": {},
   "outputs": [
    {
     "name": "stdout",
     "output_type": "stream",
     "text": [
      "Confusion Matrix\n"
     ]
    },
    {
     "data": {
      "text/plain": [
       "<Axes: >"
      ]
     },
     "execution_count": 29,
     "metadata": {},
     "output_type": "execute_result"
    },
    {
     "data": {
      "image/png": "[encoded data removed]",
      "text/plain": [
       "<Figure size 700x500 with 2 Axes>"
      ]
     },
     "metadata": {},
     "output_type": "display_data"
    }
   ],
   "source": [
    "from sklearn import metrics\n",
    "\n",
    "print(\"Confusion Matrix\")\n",
    "cm=metrics.confusion_matrix(prediction2,y_test)\n",
    "\n",
    "df_cm = pd.DataFrame(cm, index = [i for i in [\"Unstable\",\"Stable\"]],\n",
    "                  columns = [i for i in [\"Predict Unstable\",\"Predict Stable\"]])\n",
    "plt.figure(figsize = (7,5))\n",
    "sns.heatmap(df_cm, annot=True)"
   ]
  },
  {
   "cell_type": "markdown",
   "id": "954f6b8a",
   "metadata": {},
   "source": [
    "#### 3.3. Classification Report:"
   ]
  },
  {
   "cell_type": "code",
   "execution_count": 30,
   "id": "402d0227",
   "metadata": {},
   "outputs": [
    {
     "name": "stdout",
     "output_type": "stream",
     "text": [
      "Classification matrix:\n",
      "               precision    recall  f1-score   support\n",
      "\n",
      "      stable       0.80      0.79      0.80      1077\n",
      "    unstable       0.88      0.89      0.89      1923\n",
      "\n",
      "    accuracy                           0.85      3000\n",
      "   macro avg       0.84      0.84      0.84      3000\n",
      "weighted avg       0.85      0.85      0.85      3000\n",
      "\n"
     ]
    }
   ],
   "source": [
    "print('Classification matrix:\\n',classification_report(prediction2,y_test))"
   ]
  },
  {
   "cell_type": "markdown",
   "id": "b2e0ead4",
   "metadata": {},
   "source": [
    "### Conclusion for the SVM Model with kernel: 'sigmoid'\n",
    "\n",
    "1. The accuracy is said to be the proportion of the total number of predictions that were correct. Here it is said to 83.7% on training data and 85.4% on the testing data.\n",
    "\n",
    "2. Precision is the proportion of positive predictions that were actually correct. Here stable postitive predictions are actually correct with 80% and unstable postitive predictions are actually correct with 88%.\n",
    "\n",
    "3. Recall is the proportion of actual positives that were correctly identified. Unstable output has a recall value of 79%. stable output has a recall value of 89%.\n",
    "\n",
    "4. A high F1 score indicates the strong overall performance of a binary classification model. There is f1 score of target variable with \"unstable\" is 89% and f1 score of target variable with \"stable\" is 80%."
   ]
  },
  {
   "cell_type": "markdown",
   "id": "40bb5ef1",
   "metadata": {},
   "source": [
    "# 3. Continue from question 2, use the same training and test set, use KNN and tune K on the training set, report the performance on the test set and the optimal K."
   ]
  },
  {
   "cell_type": "markdown",
   "id": "57433e3b",
   "metadata": {},
   "source": [
    "### KneighborsClassifier is used for building the Supervised Learning Classification Base model.\n",
    "\n",
    "## KNeighborsClassifier implements learning based on number of neighbors based on fixed 'r' radius and 'r' is a floating point."
   ]
  },
  {
   "cell_type": "code",
   "execution_count": 31,
   "id": "d5a746c8",
   "metadata": {},
   "outputs": [],
   "source": [
    "from sklearn.neighbors import KNeighborsClassifier\n",
    "from sklearn.metrics import accuracy_score,confusion_matrix"
   ]
  },
  {
   "cell_type": "code",
   "execution_count": 32,
   "id": "7c3a1232",
   "metadata": {},
   "outputs": [],
   "source": [
    "KNN = KNeighborsClassifier(n_neighbors = 5, metric = 'euclidean')"
   ]
  },
  {
   "cell_type": "markdown",
   "id": "13223c5f",
   "metadata": {},
   "source": [
    "The various parameters in KNeighboursClassifier has n_neighbors, metric, algorithm, leaf, weights,p:\n",
    "\n",
    "\n",
    "1. No. of Neighbors for each query point are 5\n",
    "2. Here, The metric is \"euclidean\".\n",
    "3. The default weights is 'uniform' - All points are weighted equally."
   ]
  },
  {
   "cell_type": "code",
   "execution_count": 33,
   "id": "06a0dad2",
   "metadata": {},
   "outputs": [],
   "source": [
    "KNN.fit(X_train,y_train)\n",
    "# Fitting the KNN model on training data : X,y\n",
    "pred_labels = KNN.predict(X_test)\n",
    "#Using the X_test values as input ,labels are predicted and stored in pred_labels"
   ]
  },
  {
   "cell_type": "markdown",
   "id": "12f2cf5e",
   "metadata": {},
   "source": [
    "### Accuracy:"
   ]
  },
  {
   "cell_type": "code",
   "execution_count": 34,
   "id": "453595b4",
   "metadata": {},
   "outputs": [
    {
     "name": "stdout",
     "output_type": "stream",
     "text": [
      "Accuracy on Training Data 0.9645714285714285\n",
      "\n",
      "\n",
      "Accuracy on Testing Data 0.9326666666666666\n"
     ]
    }
   ],
   "source": [
    "print('Accuracy on Training Data',KNN.score(X_train,y_train))\n",
    "print('\\n')\n",
    "print('Accuracy on Testing Data',KNN.score(X_test,y_test))"
   ]
  },
  {
   "cell_type": "markdown",
   "id": "3326b498",
   "metadata": {},
   "source": [
    "### Confusion Matrix:"
   ]
  },
  {
   "cell_type": "code",
   "execution_count": 35,
   "id": "75776450",
   "metadata": {},
   "outputs": [
    {
     "name": "stdout",
     "output_type": "stream",
     "text": [
      "Confusion Matrix\n"
     ]
    },
    {
     "data": {
      "text/plain": [
       "<Axes: >"
      ]
     },
     "execution_count": 35,
     "metadata": {},
     "output_type": "execute_result"
    },
    {
     "data": {
      "image/png": "[encoded data removed]",
      "text/plain": [
       "<Figure size 700x500 with 2 Axes>"
      ]
     },
     "metadata": {},
     "output_type": "display_data"
    }
   ],
   "source": [
    "from sklearn import metrics\n",
    "\n",
    "print(\"Confusion Matrix\")\n",
    "cm=metrics.confusion_matrix(pred_labels,y_test)\n",
    "\n",
    "df_cm = pd.DataFrame(cm, index = [i for i in [\"Unstable\",\"Stable\"]],\n",
    "                  columns = [i for i in [\"Unstable\",\"Stable\"]])\n",
    "plt.figure(figsize = (7,5))\n",
    "sns.heatmap(df_cm, annot=True)"
   ]
  },
  {
   "cell_type": "markdown",
   "id": "76dfbd20",
   "metadata": {},
   "source": [
    "### Classification Matrix:"
   ]
  },
  {
   "cell_type": "code",
   "execution_count": 36,
   "id": "e32cd19d",
   "metadata": {},
   "outputs": [
    {
     "name": "stdout",
     "output_type": "stream",
     "text": [
      "Classification Matrix:\n",
      "               precision    recall  f1-score   support\n",
      "\n",
      "      stable       0.91      0.90      0.90      1061\n",
      "    unstable       0.94      0.95      0.95      1939\n",
      "\n",
      "    accuracy                           0.93      3000\n",
      "   macro avg       0.93      0.92      0.93      3000\n",
      "weighted avg       0.93      0.93      0.93      3000\n",
      "\n"
     ]
    }
   ],
   "source": [
    "print('Classification Matrix:\\n',classification_report(y_test,pred_labels))"
   ]
  },
  {
   "cell_type": "markdown",
   "id": "be7c6e51",
   "metadata": {},
   "source": [
    "### Finding optimal K value and printing the performance metrics:"
   ]
  },
  {
   "cell_type": "code",
   "execution_count": 37,
   "id": "af1d1818",
   "metadata": {},
   "outputs": [],
   "source": [
    "#For the range of values of 1 to 51 of k, KNN model is fit on training data :X,y\n",
    "train_score = []\n",
    "test_score = []\n",
    "for k in range(1,51):\n",
    "    KNN = KNeighborsClassifier(n_neighbors = k, metric = 'euclidean')\n",
    "    KNN.fit(X_train,y_train)\n",
    "    train_score.append(KNN.score(X_train,y_train))\n",
    "    test_score.append(KNN.score(X_test,y_test))"
   ]
  },
  {
   "cell_type": "code",
   "execution_count": 38,
   "id": "bebffe29",
   "metadata": {},
   "outputs": [
    {
     "data": {
      "image/png": "[encoded data removed]",
      "text/plain": [
       "<Figure size 640x480 with 1 Axes>"
      ]
     },
     "metadata": {},
     "output_type": "display_data"
    }
   ],
   "source": [
    "#Train Accuracy score is calculated for range of values of 1 to 51\n",
    "plt.plot(range(1,51),train_score)\n",
    "plt.show()"
   ]
  },
  {
   "cell_type": "code",
   "execution_count": 39,
   "id": "6665b127",
   "metadata": {},
   "outputs": [
    {
     "data": {
      "image/png": "[encoded data removed]",
      "text/plain": [
       "<Figure size 640x480 with 1 Axes>"
      ]
     },
     "metadata": {},
     "output_type": "display_data"
    }
   ],
   "source": [
    "#Test Accuracy score is calculated for range of values of 1 to 51\n",
    "plt.plot(range(1,51),test_score)\n",
    "plt.show()"
   ]
  },
  {
   "cell_type": "markdown",
   "id": "55f695b3",
   "metadata": {},
   "source": [
    "1. Maximum Accuracy is high, when k is less than 25.\n",
    "\n",
    "2. We will have to fix k for less than 25."
   ]
  },
  {
   "cell_type": "code",
   "execution_count": 40,
   "id": "751fae87",
   "metadata": {},
   "outputs": [
    {
     "name": "stdout",
     "output_type": "stream",
     "text": [
      "Accuracy on Training Data for k 1 is 1.0:\n",
      "Accuracy on Testing Data for k 1 is 0.8886666666666667:\n",
      "Classification matirix:\n",
      "               precision    recall  f1-score   support\n",
      "\n",
      "      stable       0.84      0.85      0.84      1061\n",
      "    unstable       0.92      0.91      0.91      1939\n",
      "\n",
      "    accuracy                           0.89      3000\n",
      "   macro avg       0.88      0.88      0.88      3000\n",
      "weighted avg       0.89      0.89      0.89      3000\n",
      "\n",
      "Accuracy on Training Data for k 3 is 0.9702857142857143:\n",
      "Accuracy on Testing Data for k 3 is 0.9166666666666666:\n",
      "Classification matirix:\n",
      "               precision    recall  f1-score   support\n",
      "\n",
      "      stable       0.89      0.88      0.88      1061\n",
      "    unstable       0.93      0.94      0.94      1939\n",
      "\n",
      "    accuracy                           0.92      3000\n",
      "   macro avg       0.91      0.91      0.91      3000\n",
      "weighted avg       0.92      0.92      0.92      3000\n",
      "\n",
      "Accuracy on Training Data for k 5 is 0.9645714285714285:\n",
      "Accuracy on Testing Data for k 5 is 0.9326666666666666:\n",
      "Classification matirix:\n",
      "               precision    recall  f1-score   support\n",
      "\n",
      "      stable       0.91      0.90      0.90      1061\n",
      "    unstable       0.94      0.95      0.95      1939\n",
      "\n",
      "    accuracy                           0.93      3000\n",
      "   macro avg       0.93      0.92      0.93      3000\n",
      "weighted avg       0.93      0.93      0.93      3000\n",
      "\n",
      "Accuracy on Training Data for k 7 is 0.9611428571428572:\n",
      "Accuracy on Testing Data for k 7 is 0.941:\n",
      "Classification matirix:\n",
      "               precision    recall  f1-score   support\n",
      "\n",
      "      stable       0.93      0.91      0.92      1061\n",
      "    unstable       0.95      0.96      0.95      1939\n",
      "\n",
      "    accuracy                           0.94      3000\n",
      "   macro avg       0.94      0.93      0.94      3000\n",
      "weighted avg       0.94      0.94      0.94      3000\n",
      "\n",
      "Accuracy on Training Data for k 9 is 0.9608571428571429:\n",
      "Accuracy on Testing Data for k 9 is 0.9396666666666667:\n",
      "Classification matirix:\n",
      "               precision    recall  f1-score   support\n",
      "\n",
      "      stable       0.93      0.90      0.91      1061\n",
      "    unstable       0.94      0.96      0.95      1939\n",
      "\n",
      "    accuracy                           0.94      3000\n",
      "   macro avg       0.94      0.93      0.93      3000\n",
      "weighted avg       0.94      0.94      0.94      3000\n",
      "\n",
      "Accuracy on Training Data for k 11 is 0.9571428571428572:\n",
      "Accuracy on Testing Data for k 11 is 0.944:\n",
      "Classification matirix:\n",
      "               precision    recall  f1-score   support\n",
      "\n",
      "      stable       0.94      0.90      0.92      1061\n",
      "    unstable       0.95      0.97      0.96      1939\n",
      "\n",
      "    accuracy                           0.94      3000\n",
      "   macro avg       0.94      0.93      0.94      3000\n",
      "weighted avg       0.94      0.94      0.94      3000\n",
      "\n",
      "Accuracy on Training Data for k 13 is 0.9572857142857143:\n",
      "Accuracy on Testing Data for k 13 is 0.9453333333333334:\n",
      "Classification matirix:\n",
      "               precision    recall  f1-score   support\n",
      "\n",
      "      stable       0.94      0.90      0.92      1061\n",
      "    unstable       0.95      0.97      0.96      1939\n",
      "\n",
      "    accuracy                           0.95      3000\n",
      "   macro avg       0.95      0.93      0.94      3000\n",
      "weighted avg       0.95      0.95      0.95      3000\n",
      "\n",
      "Accuracy on Training Data for k 15 is 0.9592857142857143:\n",
      "Accuracy on Testing Data for k 15 is 0.95:\n",
      "Classification matirix:\n",
      "               precision    recall  f1-score   support\n",
      "\n",
      "      stable       0.95      0.90      0.93      1061\n",
      "    unstable       0.95      0.98      0.96      1939\n",
      "\n",
      "    accuracy                           0.95      3000\n",
      "   macro avg       0.95      0.94      0.94      3000\n",
      "weighted avg       0.95      0.95      0.95      3000\n",
      "\n",
      "Accuracy on Training Data for k 17 is 0.9595714285714285:\n",
      "Accuracy on Testing Data for k 17 is 0.9516666666666667:\n",
      "Classification matirix:\n",
      "               precision    recall  f1-score   support\n",
      "\n",
      "      stable       0.96      0.90      0.93      1061\n",
      "    unstable       0.95      0.98      0.96      1939\n",
      "\n",
      "    accuracy                           0.95      3000\n",
      "   macro avg       0.95      0.94      0.95      3000\n",
      "weighted avg       0.95      0.95      0.95      3000\n",
      "\n",
      "Accuracy on Training Data for k 19 is 0.9582857142857143:\n",
      "Accuracy on Testing Data for k 19 is 0.9516666666666667:\n",
      "Classification matirix:\n",
      "               precision    recall  f1-score   support\n",
      "\n",
      "      stable       0.96      0.90      0.93      1061\n",
      "    unstable       0.95      0.98      0.96      1939\n",
      "\n",
      "    accuracy                           0.95      3000\n",
      "   macro avg       0.95      0.94      0.95      3000\n",
      "weighted avg       0.95      0.95      0.95      3000\n",
      "\n",
      "Accuracy on Training Data for k 21 is 0.9585714285714285:\n",
      "Accuracy on Testing Data for k 21 is 0.952:\n",
      "Classification matirix:\n",
      "               precision    recall  f1-score   support\n",
      "\n",
      "      stable       0.97      0.90      0.93      1061\n",
      "    unstable       0.95      0.98      0.96      1939\n",
      "\n",
      "    accuracy                           0.95      3000\n",
      "   macro avg       0.96      0.94      0.95      3000\n",
      "weighted avg       0.95      0.95      0.95      3000\n",
      "\n",
      "Accuracy on Training Data for k 23 is 0.9587142857142857:\n",
      "Accuracy on Testing Data for k 23 is 0.9553333333333334:\n",
      "Classification matirix:\n",
      "               precision    recall  f1-score   support\n",
      "\n",
      "      stable       0.97      0.90      0.93      1061\n",
      "    unstable       0.95      0.99      0.97      1939\n",
      "\n",
      "    accuracy                           0.96      3000\n",
      "   macro avg       0.96      0.94      0.95      3000\n",
      "weighted avg       0.96      0.96      0.95      3000\n",
      "\n",
      "Accuracy on Training Data for k 25 is 0.958:\n",
      "Accuracy on Testing Data for k 25 is 0.9566666666666667:\n",
      "Classification matirix:\n",
      "               precision    recall  f1-score   support\n",
      "\n",
      "      stable       0.97      0.90      0.94      1061\n",
      "    unstable       0.95      0.99      0.97      1939\n",
      "\n",
      "    accuracy                           0.96      3000\n",
      "   macro avg       0.96      0.94      0.95      3000\n",
      "weighted avg       0.96      0.96      0.96      3000\n",
      "\n",
      "Accuracy on Training Data for k 27 is 0.9584285714285714:\n",
      "Accuracy on Testing Data for k 27 is 0.9526666666666667:\n",
      "Classification matirix:\n",
      "               precision    recall  f1-score   support\n",
      "\n",
      "      stable       0.97      0.90      0.93      1061\n",
      "    unstable       0.95      0.98      0.96      1939\n",
      "\n",
      "    accuracy                           0.95      3000\n",
      "   macro avg       0.96      0.94      0.95      3000\n",
      "weighted avg       0.95      0.95      0.95      3000\n",
      "\n"
     ]
    }
   ],
   "source": [
    "k = [1,3,5,7,9,11,13,15,17,19,21,23,25,27]\n",
    "for i in k:\n",
    "    KNN = KNeighborsClassifier(n_neighbors = i, metric = 'euclidean')\n",
    "    KNN.fit(X_train,y_train)\n",
    "    pred_labels = KNN.predict(X_test)\n",
    "    print('Accuracy on Training Data for k {} is {}:'.format(i,KNN.score(X_train,y_train)))\n",
    "    print('Accuracy on Testing Data for k {} is {}:'.format(i,KNN.score(X_test,y_test)))\n",
    "    print('Classification matirix:\\n',classification_report(y_test,pred_labels))"
   ]
  },
  {
   "cell_type": "markdown",
   "id": "40fced25",
   "metadata": {},
   "source": [
    "### For this, to be achieved:\n",
    "\n",
    "1. When n_neighbors was 5 :\n",
    "Train Acc = 96.4% Test Acc = 93.2%\n",
    "\n",
    "2. When n_neighbors was 25:\n",
    "Train Acc = 95.8% Test Acc = 95.6%\n",
    "\n",
    "3.  Precision has improved from 91% of stable and 94% of unstable when n_neighbors was 5 to 97% of stable and 95% of unstable.\n",
    "\n",
    "Here when k is chosen as 25 then Accuracy and Precision are improved as mentioned above."
   ]
  },
  {
   "cell_type": "markdown",
   "id": "945ca689",
   "metadata": {},
   "source": [
    "# 4. Continue from question 2, use the same training and test set, use Decision Tree and tune the depth of the tree on the training set, report the performance on the test set and the optimal depth."
   ]
  },
  {
   "cell_type": "markdown",
   "id": "42f22d37",
   "metadata": {},
   "source": [
    "### Step 4:\n",
    "\n",
    "1. First work is to convert target to binary (stable: 1, unstable: 0).\n",
    "2. Dividing the dataset into Training and testing.\n",
    "3. Decision tree model is fitted on the dataset\n",
    "4. Performance Metrics are printed."
   ]
  },
  {
   "cell_type": "code",
   "execution_count": 41,
   "id": "b3050fed",
   "metadata": {},
   "outputs": [],
   "source": [
    "X_dt = df.drop('stabf', axis=1)\n",
    "y_dt = df['stabf'].apply(lambda x: 1 if x == 'stable' else 0)  # Convert target to binary (stable: 1, unstable: 0)"
   ]
  },
  {
   "cell_type": "code",
   "execution_count": 42,
   "id": "afc74ff9",
   "metadata": {},
   "outputs": [],
   "source": [
    "X_train, X_test, y_train, y_test = train_test_split(X_dt, y_dt, test_size=0.3, random_state=42)"
   ]
  },
  {
   "cell_type": "code",
   "execution_count": 43,
   "id": "6bfe236b",
   "metadata": {},
   "outputs": [
    {
     "name": "stdout",
     "output_type": "stream",
     "text": [
      "Optimal Depth: 1\n",
      "Performance Metrics with Depth=1:\n",
      "Accuracy: 0.9997\n",
      "Precision: 0.9991\n",
      "Recall: 1.0000\n",
      "F1 Score: 0.9995\n"
     ]
    }
   ],
   "source": [
    "from sklearn.tree import DecisionTreeClassifier\n",
    "from sklearn.metrics import accuracy_score, precision_score, recall_score, f1_score\n",
    "\n",
    "# Function to evaluate and print performance metrics\n",
    "def evaluate_model(model, X_test, y_test):\n",
    "    y_pred = model.predict(X_test)\n",
    "    accuracy = accuracy_score(y_test, y_pred)\n",
    "    precision = precision_score(y_test, y_pred)\n",
    "    recall = recall_score(y_test, y_pred)\n",
    "    f1 = f1_score(y_test, y_pred)\n",
    "    return accuracy, precision, recall, f1\n",
    "\n",
    "# Hyper-parameter tuning for Decision Tree\n",
    "depth_values = range(1, 21)\n",
    "best_depth = 1\n",
    "best_score = 0\n",
    "performance_metrics = {}\n",
    "\n",
    "for depth in depth_values:\n",
    "    dt = DecisionTreeClassifier(max_depth=depth, random_state=42)\n",
    "    dt.fit(X_train, y_train)\n",
    "    score = dt.score(X_test, y_test)\n",
    "    if score > best_score:\n",
    "        best_score = score\n",
    "        best_depth = depth\n",
    "    performance_metrics[depth] = evaluate_model(dt, X_test, y_test)\n",
    "\n",
    "# Print the optimal depth and its performance metrics\n",
    "print(f\"Optimal Depth: {best_depth}\")\n",
    "print(f\"Performance Metrics with Depth={best_depth}:\")\n",
    "print(f\"Accuracy: {performance_metrics[best_depth][0]:.4f}\")\n",
    "print(f\"Precision: {performance_metrics[best_depth][1]:.4f}\")\n",
    "print(f\"Recall: {performance_metrics[best_depth][2]:.4f}\")\n",
    "print(f\"F1 Score: {performance_metrics[best_depth][3]:.4f}\")"
   ]
  },
  {
   "cell_type": "markdown",
   "id": "956efc44",
   "metadata": {},
   "source": [
    "### Conclusion:\n",
    "\n",
    "1. The optimal depth is said to be 1.\n",
    "\n",
    "2. The accuracy is said to be the proportion of the total number of predictions that were correct. Here it is said to 99.7%\n",
    "\n",
    "3. Precision is the proportion of positive predictions that were actually correct. Here it is said to be 99.9%.\n",
    "\n",
    "4. Recall is the proportion of actual positives that were correctly identified. Here it is said to be 100%.\n",
    "\n",
    "5. A high F1 score indicates the strong overall performance of a binary classification model. There is f1 score of target variable is said to be 99%."
   ]
  },
  {
   "cell_type": "markdown",
   "id": "8642bda3",
   "metadata": {},
   "source": [
    "# 5. Based on the model hyper-parameters used in question 2, 3 and question 4, share your understanding of hyper-parameters tuning in ML model development."
   ]
  },
  {
   "cell_type": "markdown",
   "id": "f5d9f91d",
   "metadata": {},
   "source": [
    "# SVM MODEL CONCLUSIONS:\n",
    "\n",
    "### 1. Conclusion for the SVM Model with kernel: 'rbf'\n",
    "\n",
    "1. The accuracy is said to be the proportion of the total number of predictions that were correct. Here it is said to 63.4% on training data and 64.6% on the testing data.\n",
    "\n",
    "2. Precision is the proportion of positive predictions that were actually correct. Here stable postitive predictions are actually correct.\n",
    "\n",
    "3. Recall is the proportion of actual positives that were correctly identified. Unstable output has a recall value of 65%.\n",
    "\n",
    "4. A high F1 score indicates the strong overall performance of a binary classification model. There is f1 score of target variable with \"unstable\" is 79%.\n",
    "\n",
    "### 2. Conclusion for the SVM Model with kernel: 'poly'\n",
    "\n",
    "1. The accuracy is said to be the proportion of the total number of predictions that were correct. Here it is said to 99.9% on training data and 97.2% on the testing data.\n",
    "\n",
    "2. Precision is the proportion of positive predictions that were actually correct. Here stable postitive predictions are actually correct with 97% and unstable postitive predictions are actually correct with 98%.\n",
    "\n",
    "3. Recall is the proportion of actual positives that were correctly identified. Unstable output has a recall value of 98%.\n",
    "   stable output has a recall value of 96%\n",
    "\n",
    "4. A high F1 score indicates the strong overall performance of a binary classification model. There is f1 score of target variable with \"unstable\" is 98%.\n",
    "\n",
    "### 3. Conclusion for the SVM Model with kernel: 'sigmoid'\n",
    "\n",
    "1. The accuracy is said to be the proportion of the total number of predictions that were correct. Here it is said to 83.7% on training data and 85.4% on the testing data.\n",
    "\n",
    "2. Precision is the proportion of positive predictions that were actually correct. Here stable postitive predictions are actually correct with 80% and unstable postitive predictions are actually correct with 88%.\n",
    "\n",
    "3. Recall is the proportion of actual positives that were correctly identified. Unstable output has a recall value of 79%. stable output has a recall value of 89%.\n",
    "\n",
    "4. A high F1 score indicates the strong overall performance of a binary classification model. There is f1 score of target variable with \"unstable\" is 89% and f1 score of target variable with \"stable\" is 80%.\n",
    "\n",
    "# KNN MODEL CONCLUSIONS:\n",
    "\n",
    "1. When n_neighbors was 5 :\n",
    "Train Acc = 96.4% Test Acc = 93.2%\n",
    "\n",
    "2. When n_neighbors was 25:\n",
    "Train Acc = 95.8% Test Acc = 95.6%\n",
    "\n",
    "3.  Precision has improved from 91% of stable and 94% of unstable when n_neighbors was 5 to 97% of stable and 95% of unstable.\n",
    "\n",
    "# Decision Tree Model Conclusions:\n",
    "\n",
    "1. The optimal depth is said to be 1.\n",
    "\n",
    "2. The accuracy is said to be the proportion of the total number of predictions that were correct. Here it is said to 99.7%\n",
    "\n",
    "3. Precision is the proportion of positive predictions that were actually correct. Here it is said to be 99.9%.\n",
    "\n",
    "4. Recall is the proportion of actual positives that were correctly identified. Here it is said to be 100%.\n",
    "\n",
    "5. A high F1 score indicates the strong overall performance of a binary classification model. There is f1 score of target variable is said to be 99%."
   ]
  },
  {
   "cell_type": "markdown",
   "id": "fcdea79a",
   "metadata": {},
   "source": [
    "# REFERENCE:\n",
    "1. I. Dobson, \"Electrical Grid Stability Simulated Data,\" UCI Machine Learning Repository, Aug. 2018. [Online]. Available: https://archive.ics.uci.edu/dataset/471/electrical+grid+stability+simulated+data"
   ]
  },
  {
   "cell_type": "code",
   "execution_count": null,
   "id": "008f0b1d",
   "metadata": {},
   "outputs": [],
   "source": []
  }
 ],
 "metadata": {
  "kernelspec": {
   "display_name": "Python 3 (ipykernel)",
   "language": "python",
   "name": "python3"
  },
  "language_info": {
   "codemirror_mode": {
    "name": "ipython",
    "version": 3
   },
   "file_extension": ".py",
   "mimetype": "text/x-python",
   "name": "python",
   "nbconvert_exporter": "python",
   "pygments_lexer": "ipython3",
   "version": "3.11.5"
  }
 },
 "nbformat": 4,
 "nbformat_minor": 5
}
