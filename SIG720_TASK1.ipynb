{
 "cells": [
  {
   "cell_type": "markdown",
   "id": "f985de21",
   "metadata": {},
   "source": [
    "#                                             SIG720: Machine Learning "
   ]
  },
  {
   "cell_type": "markdown",
   "id": "b8607429",
   "metadata": {},
   "source": [
    "# TASK 1: ANALYSIS OF SENSOR READINGS EVERY 5 MINUTES AT 8 LOCATIONS.\n",
    "\n",
    "## B PRIYANKAA\n",
    "\n",
    "### s224207694\n",
    "### priyayj2016@gmail.com"
   ]
  },
  {
   "cell_type": "markdown",
   "id": "3dcda979",
   "metadata": {},
   "source": [
    "### ABSTRACT:\n",
    "\n",
    "In order to create a smart city through internet of things, Association of University Research Parks(AURP) partnered with the University of Melbourne. The aim was to develop algorithms that can help to monitor, understand and interpret real time information on city environments.The environmental sensors, measuring light levels, humidity and temperature, have been deployed. The data collected will assist the Landscapes branch to better understand and communicate the impact to the city administrators.\n",
    "\n",
    "\n",
    "## TASK:\n",
    "\n",
    "\n",
    "1. Read the Dataset and Print the Feature Name with Numbers of Missing Entries\n",
    "\n",
    "2. Fill in the Missing Entries using mean or median and also explain the choice made.\n",
    "\n",
    "3. Show Distribution of the Variable “Location” Using a Histogram.\n",
    "\n",
    "4. Encode the Categorical Variable “Location”.\n",
    "\n",
    "5. Apply Min-Max Scaling and Plot Distribution of Features.\n"
   ]
  },
  {
   "cell_type": "markdown",
   "id": "8719a973",
   "metadata": {},
   "source": [
    "# 1. Read “Sensor readings, with temperature, light, humidity every 5 minutes at 8 locations (trial, 2014 to 2015)” and print the feature name with numbers of missing entries."
   ]
  },
  {
   "cell_type": "markdown",
   "id": "789db2a1",
   "metadata": {},
   "source": [
    "#### Importing all the libraries needed for the data analysis:"
   ]
  },
  {
   "cell_type": "code",
   "execution_count": 1,
   "id": "34547a2e",
   "metadata": {},
   "outputs": [],
   "source": [
    "import numpy as np\n",
    "import pandas as pd\n",
    "import matplotlib.pyplot as plt\n",
    "import seaborn as sns\n",
    "import scipy.stats as stats\n",
    "import warnings\n",
    "warnings.filterwarnings('ignore')\n",
    "%matplotlib inline"
   ]
  },
  {
   "cell_type": "markdown",
   "id": "216b964a",
   "metadata": {},
   "source": [
    "## STEP 1:\n",
    "\n",
    "- The dataset is first downloaded from the **“Sensor readings, with temperature, light, humidity every 5 minutes at 8 locations (trial, 2014 to 2015)”** link.\n",
    "\n",
    "- The dataset is saved in the system in the name of \"sensor-readings-with-temperature-light-humidity-every-5-minutes-at-8-locations-t.csv\".\n",
    "\n",
    "- The **first step** is to Read the Dataset and Print the Feature Name with Numbers of Missing Entries."
   ]
  },
  {
   "cell_type": "code",
   "execution_count": 2,
   "id": "cc09aed3",
   "metadata": {
    "scrolled": true
   },
   "outputs": [
    {
     "data": {
      "text/html": [
       "<div>\n",
       "<style scoped>\n",
       "    .dataframe tbody tr th:only-of-type {\n",
       "        vertical-align: middle;\n",
       "    }\n",
       "\n",
       "    .dataframe tbody tr th {\n",
       "        vertical-align: top;\n",
       "    }\n",
       "\n",
       "    .dataframe thead th {\n",
       "        text-align: right;\n",
       "    }\n",
       "</style>\n",
       "<table border=\"1\" class=\"dataframe\">\n",
       "  <thead>\n",
       "    <tr style=\"text-align: right;\">\n",
       "      <th></th>\n",
       "      <th>timestamp</th>\n",
       "      <th>mac</th>\n",
       "      <th>boardtype</th>\n",
       "      <th>boardid</th>\n",
       "      <th>temp_max</th>\n",
       "      <th>temp_min</th>\n",
       "      <th>temp_avg</th>\n",
       "      <th>light_max</th>\n",
       "      <th>light_min</th>\n",
       "      <th>light_avg</th>\n",
       "      <th>...</th>\n",
       "      <th>humidity_max</th>\n",
       "      <th>humidity_avg</th>\n",
       "      <th>model</th>\n",
       "      <th>latitude</th>\n",
       "      <th>longitude</th>\n",
       "      <th>elevation</th>\n",
       "      <th>location</th>\n",
       "      <th>rowid</th>\n",
       "      <th>Position</th>\n",
       "      <th>geolocation</th>\n",
       "    </tr>\n",
       "  </thead>\n",
       "  <tbody>\n",
       "    <tr>\n",
       "      <th>0</th>\n",
       "      <td>2015-01-24T16:15:00+05:30</td>\n",
       "      <td>0013a20040b31571</td>\n",
       "      <td>1</td>\n",
       "      <td>510</td>\n",
       "      <td>19.4</td>\n",
       "      <td>19.4</td>\n",
       "      <td>19.4</td>\n",
       "      <td>0.9</td>\n",
       "      <td>0.9</td>\n",
       "      <td>0.9</td>\n",
       "      <td>...</td>\n",
       "      <td>52.7</td>\n",
       "      <td>52.7</td>\n",
       "      <td>ENV</td>\n",
       "      <td>-37.819712</td>\n",
       "      <td>144.941325</td>\n",
       "      <td>NaN</td>\n",
       "      <td>Docklands Library</td>\n",
       "      <td>510-20150124104500</td>\n",
       "      <td>NaN</td>\n",
       "      <td>-37.8197121, 144.9413253</td>\n",
       "    </tr>\n",
       "    <tr>\n",
       "      <th>1</th>\n",
       "      <td>2015-01-24T16:45:00+05:30</td>\n",
       "      <td>0013a20040b5b337</td>\n",
       "      <td>1</td>\n",
       "      <td>511</td>\n",
       "      <td>19.7</td>\n",
       "      <td>19.7</td>\n",
       "      <td>19.7</td>\n",
       "      <td>10.6</td>\n",
       "      <td>10.6</td>\n",
       "      <td>10.6</td>\n",
       "      <td>...</td>\n",
       "      <td>50.2</td>\n",
       "      <td>50.2</td>\n",
       "      <td>ENV</td>\n",
       "      <td>-37.819500</td>\n",
       "      <td>144.941889</td>\n",
       "      <td>NaN</td>\n",
       "      <td>Docklands Library</td>\n",
       "      <td>511-20150124111500</td>\n",
       "      <td>NaN</td>\n",
       "      <td>-37.8195002, 144.9418888</td>\n",
       "    </tr>\n",
       "    <tr>\n",
       "      <th>2</th>\n",
       "      <td>2015-01-24T16:45:00+05:30</td>\n",
       "      <td>0013a20040b31583</td>\n",
       "      <td>1</td>\n",
       "      <td>509</td>\n",
       "      <td>19.7</td>\n",
       "      <td>19.7</td>\n",
       "      <td>19.7</td>\n",
       "      <td>3.1</td>\n",
       "      <td>3.1</td>\n",
       "      <td>3.1</td>\n",
       "      <td>...</td>\n",
       "      <td>57.9</td>\n",
       "      <td>57.9</td>\n",
       "      <td>ENV</td>\n",
       "      <td>-37.819904</td>\n",
       "      <td>144.940485</td>\n",
       "      <td>NaN</td>\n",
       "      <td>Docklands Library</td>\n",
       "      <td>509-20150124111500</td>\n",
       "      <td>NaN</td>\n",
       "      <td>-37.8199043, 144.9404851</td>\n",
       "    </tr>\n",
       "    <tr>\n",
       "      <th>3</th>\n",
       "      <td>2015-01-24T17:25:00+05:30</td>\n",
       "      <td>0013a20040b31583</td>\n",
       "      <td>1</td>\n",
       "      <td>509</td>\n",
       "      <td>19.7</td>\n",
       "      <td>19.7</td>\n",
       "      <td>19.7</td>\n",
       "      <td>3.1</td>\n",
       "      <td>3.1</td>\n",
       "      <td>3.1</td>\n",
       "      <td>...</td>\n",
       "      <td>53.7</td>\n",
       "      <td>53.7</td>\n",
       "      <td>ENV</td>\n",
       "      <td>-37.819904</td>\n",
       "      <td>144.940485</td>\n",
       "      <td>NaN</td>\n",
       "      <td>Docklands Library</td>\n",
       "      <td>509-20150124115500</td>\n",
       "      <td>NaN</td>\n",
       "      <td>-37.8199043, 144.9404851</td>\n",
       "    </tr>\n",
       "    <tr>\n",
       "      <th>4</th>\n",
       "      <td>2015-01-24T17:25:00+05:30</td>\n",
       "      <td>0013a20040b31571</td>\n",
       "      <td>1</td>\n",
       "      <td>510</td>\n",
       "      <td>18.7</td>\n",
       "      <td>18.7</td>\n",
       "      <td>18.7</td>\n",
       "      <td>1.0</td>\n",
       "      <td>1.0</td>\n",
       "      <td>1.0</td>\n",
       "      <td>...</td>\n",
       "      <td>48.6</td>\n",
       "      <td>48.6</td>\n",
       "      <td>ENV</td>\n",
       "      <td>-37.819712</td>\n",
       "      <td>144.941325</td>\n",
       "      <td>NaN</td>\n",
       "      <td>Docklands Library</td>\n",
       "      <td>510-20150124115500</td>\n",
       "      <td>NaN</td>\n",
       "      <td>-37.8197121, 144.9413253</td>\n",
       "    </tr>\n",
       "  </tbody>\n",
       "</table>\n",
       "<p>5 rows × 21 columns</p>\n",
       "</div>"
      ],
      "text/plain": [
       "                   timestamp               mac  boardtype  boardid  temp_max  \\\n",
       "0  2015-01-24T16:15:00+05:30  0013a20040b31571          1      510      19.4   \n",
       "1  2015-01-24T16:45:00+05:30  0013a20040b5b337          1      511      19.7   \n",
       "2  2015-01-24T16:45:00+05:30  0013a20040b31583          1      509      19.7   \n",
       "3  2015-01-24T17:25:00+05:30  0013a20040b31583          1      509      19.7   \n",
       "4  2015-01-24T17:25:00+05:30  0013a20040b31571          1      510      18.7   \n",
       "\n",
       "   temp_min  temp_avg  light_max  light_min  light_avg  ...  humidity_max  \\\n",
       "0      19.4      19.4        0.9        0.9        0.9  ...          52.7   \n",
       "1      19.7      19.7       10.6       10.6       10.6  ...          50.2   \n",
       "2      19.7      19.7        3.1        3.1        3.1  ...          57.9   \n",
       "3      19.7      19.7        3.1        3.1        3.1  ...          53.7   \n",
       "4      18.7      18.7        1.0        1.0        1.0  ...          48.6   \n",
       "\n",
       "   humidity_avg  model   latitude   longitude  elevation           location  \\\n",
       "0          52.7    ENV -37.819712  144.941325        NaN  Docklands Library   \n",
       "1          50.2    ENV -37.819500  144.941889        NaN  Docklands Library   \n",
       "2          57.9    ENV -37.819904  144.940485        NaN  Docklands Library   \n",
       "3          53.7    ENV -37.819904  144.940485        NaN  Docklands Library   \n",
       "4          48.6    ENV -37.819712  144.941325        NaN  Docklands Library   \n",
       "\n",
       "                rowid Position               geolocation  \n",
       "0  510-20150124104500      NaN  -37.8197121, 144.9413253  \n",
       "1  511-20150124111500      NaN  -37.8195002, 144.9418888  \n",
       "2  509-20150124111500      NaN  -37.8199043, 144.9404851  \n",
       "3  509-20150124115500      NaN  -37.8199043, 144.9404851  \n",
       "4  510-20150124115500      NaN  -37.8197121, 144.9413253  \n",
       "\n",
       "[5 rows x 21 columns]"
      ]
     },
     "execution_count": 2,
     "metadata": {},
     "output_type": "execute_result"
    }
   ],
   "source": [
    "#Pandas library- essential for handling and manipulating data in Python\n",
    "\n",
    "import pandas as pd\n",
    "\n",
    "data = pd.read_csv(\"sensor-readings-with-temperature-light-humidity-every-5-minutes-at-8-locations-t.csv\")\n",
    "\n",
    "data.head()"
   ]
  },
  {
   "cell_type": "code",
   "execution_count": 3,
   "id": "567d4837",
   "metadata": {},
   "outputs": [
    {
     "name": "stdout",
     "output_type": "stream",
     "text": [
      "The shape of the dataset (56570, 21)\n"
     ]
    }
   ],
   "source": [
    "print('The shape of the dataset',data.shape)"
   ]
  },
  {
   "cell_type": "code",
   "execution_count": 4,
   "id": "d5093365",
   "metadata": {},
   "outputs": [
    {
     "name": "stdout",
     "output_type": "stream",
     "text": [
      "The columns present in the dataset Index(['timestamp', 'mac', 'boardtype', 'boardid', 'temp_max', 'temp_min',\n",
      "       'temp_avg', 'light_max', 'light_min', 'light_avg', 'humidity_min',\n",
      "       'humidity_max', 'humidity_avg', 'model', 'latitude', 'longitude',\n",
      "       'elevation', 'location', 'rowid', 'Position', 'geolocation'],\n",
      "      dtype='object')\n"
     ]
    }
   ],
   "source": [
    "print('The columns present in the dataset',data.columns)"
   ]
  },
  {
   "cell_type": "markdown",
   "id": "cc25090c",
   "metadata": {},
   "source": [
    "- The sensor readings tell about the **timestamp** of the reading recorded, **mac** is the mac id, **boardtype, boardid** is the type of the board and the id of the board.\n",
    "\n",
    "- The **max, min and average** values are taken for light, temperature and humidity.\n",
    "\n",
    "- The **elevation, location, latitude, longitude** values are recorded.\n",
    "\n",
    "- The **rowid, model, Position and geolocation** values are recorded."
   ]
  },
  {
   "cell_type": "code",
   "execution_count": 6,
   "id": "ebbafada",
   "metadata": {},
   "outputs": [
    {
     "name": "stdout",
     "output_type": "stream",
     "text": [
      "The datatypes of the columns present are: float64    13\n",
      "object      6\n",
      "int64       2\n",
      "dtype: int64\n"
     ]
    }
   ],
   "source": [
    "print('The datatypes of the columns present are:',data.dtypes.value_counts())"
   ]
  },
  {
   "cell_type": "code",
   "execution_count": 7,
   "id": "f70bb275",
   "metadata": {
    "scrolled": true
   },
   "outputs": [
    {
     "name": "stdout",
     "output_type": "stream",
     "text": [
      "<class 'pandas.core.frame.DataFrame'>\n",
      "RangeIndex: 56570 entries, 0 to 56569\n",
      "Data columns (total 21 columns):\n",
      " #   Column        Non-Null Count  Dtype  \n",
      "---  ------        --------------  -----  \n",
      " 0   timestamp     56570 non-null  object \n",
      " 1   mac           56570 non-null  object \n",
      " 2   boardtype     56570 non-null  int64  \n",
      " 3   boardid       56570 non-null  int64  \n",
      " 4   temp_max      56570 non-null  float64\n",
      " 5   temp_min      56570 non-null  float64\n",
      " 6   temp_avg      56570 non-null  float64\n",
      " 7   light_max     56570 non-null  float64\n",
      " 8   light_min     56570 non-null  float64\n",
      " 9   light_avg     56570 non-null  float64\n",
      " 10  humidity_min  56570 non-null  float64\n",
      " 11  humidity_max  56570 non-null  float64\n",
      " 12  humidity_avg  56570 non-null  float64\n",
      " 13  model         56570 non-null  object \n",
      " 14  latitude      56570 non-null  float64\n",
      " 15  longitude     56570 non-null  float64\n",
      " 16  elevation     34975 non-null  float64\n",
      " 17  location      56570 non-null  object \n",
      " 18  rowid         56570 non-null  object \n",
      " 19  Position      0 non-null      float64\n",
      " 20  geolocation   56570 non-null  object \n",
      "dtypes: float64(13), int64(2), object(6)\n",
      "memory usage: 9.1+ MB\n"
     ]
    }
   ],
   "source": [
    "data.info()"
   ]
  },
  {
   "cell_type": "code",
   "execution_count": 9,
   "id": "6b82c372",
   "metadata": {},
   "outputs": [],
   "source": [
    "# copy main dataframe\n",
    "df = data.copy()\n",
    "\n",
    "# make time column\n",
    "df['timestamp'] =  df['timestamp'].str.slice(start=0, stop=10, step=1)"
   ]
  },
  {
   "cell_type": "markdown",
   "id": "1d69dea2",
   "metadata": {},
   "source": [
    "- The **timestamp** column is of object datatype, it is sliced with start and stop values of 0 and 10 respectively.\n",
    "\n",
    "- Also, the time column is now changed into date format of year, month and date."
   ]
  },
  {
   "cell_type": "code",
   "execution_count": 10,
   "id": "b193061e",
   "metadata": {},
   "outputs": [],
   "source": [
    "# converting time to date format\n",
    "df['timestamp'] = pd.to_datetime(df['timestamp'], format=\"%Y/%m/%d\", errors='raise')"
   ]
  },
  {
   "cell_type": "markdown",
   "id": "b4fc9d2a",
   "metadata": {},
   "source": [
    "### The first 5 entries are printed."
   ]
  },
  {
   "cell_type": "code",
   "execution_count": 11,
   "id": "47b873ec",
   "metadata": {},
   "outputs": [
    {
     "data": {
      "text/html": [
       "<div>\n",
       "<style scoped>\n",
       "    .dataframe tbody tr th:only-of-type {\n",
       "        vertical-align: middle;\n",
       "    }\n",
       "\n",
       "    .dataframe tbody tr th {\n",
       "        vertical-align: top;\n",
       "    }\n",
       "\n",
       "    .dataframe thead th {\n",
       "        text-align: right;\n",
       "    }\n",
       "</style>\n",
       "<table border=\"1\" class=\"dataframe\">\n",
       "  <thead>\n",
       "    <tr style=\"text-align: right;\">\n",
       "      <th></th>\n",
       "      <th>timestamp</th>\n",
       "      <th>mac</th>\n",
       "      <th>boardtype</th>\n",
       "      <th>boardid</th>\n",
       "      <th>temp_max</th>\n",
       "      <th>temp_min</th>\n",
       "      <th>temp_avg</th>\n",
       "      <th>light_max</th>\n",
       "      <th>light_min</th>\n",
       "      <th>light_avg</th>\n",
       "      <th>...</th>\n",
       "      <th>humidity_max</th>\n",
       "      <th>humidity_avg</th>\n",
       "      <th>model</th>\n",
       "      <th>latitude</th>\n",
       "      <th>longitude</th>\n",
       "      <th>elevation</th>\n",
       "      <th>location</th>\n",
       "      <th>rowid</th>\n",
       "      <th>Position</th>\n",
       "      <th>geolocation</th>\n",
       "    </tr>\n",
       "  </thead>\n",
       "  <tbody>\n",
       "    <tr>\n",
       "      <th>0</th>\n",
       "      <td>2015-01-24</td>\n",
       "      <td>0013a20040b31571</td>\n",
       "      <td>1</td>\n",
       "      <td>510</td>\n",
       "      <td>19.4</td>\n",
       "      <td>19.4</td>\n",
       "      <td>19.4</td>\n",
       "      <td>0.9</td>\n",
       "      <td>0.9</td>\n",
       "      <td>0.9</td>\n",
       "      <td>...</td>\n",
       "      <td>52.7</td>\n",
       "      <td>52.7</td>\n",
       "      <td>ENV</td>\n",
       "      <td>-37.819712</td>\n",
       "      <td>144.941325</td>\n",
       "      <td>NaN</td>\n",
       "      <td>Docklands Library</td>\n",
       "      <td>510-20150124104500</td>\n",
       "      <td>NaN</td>\n",
       "      <td>-37.8197121, 144.9413253</td>\n",
       "    </tr>\n",
       "    <tr>\n",
       "      <th>1</th>\n",
       "      <td>2015-01-24</td>\n",
       "      <td>0013a20040b5b337</td>\n",
       "      <td>1</td>\n",
       "      <td>511</td>\n",
       "      <td>19.7</td>\n",
       "      <td>19.7</td>\n",
       "      <td>19.7</td>\n",
       "      <td>10.6</td>\n",
       "      <td>10.6</td>\n",
       "      <td>10.6</td>\n",
       "      <td>...</td>\n",
       "      <td>50.2</td>\n",
       "      <td>50.2</td>\n",
       "      <td>ENV</td>\n",
       "      <td>-37.819500</td>\n",
       "      <td>144.941889</td>\n",
       "      <td>NaN</td>\n",
       "      <td>Docklands Library</td>\n",
       "      <td>511-20150124111500</td>\n",
       "      <td>NaN</td>\n",
       "      <td>-37.8195002, 144.9418888</td>\n",
       "    </tr>\n",
       "    <tr>\n",
       "      <th>2</th>\n",
       "      <td>2015-01-24</td>\n",
       "      <td>0013a20040b31583</td>\n",
       "      <td>1</td>\n",
       "      <td>509</td>\n",
       "      <td>19.7</td>\n",
       "      <td>19.7</td>\n",
       "      <td>19.7</td>\n",
       "      <td>3.1</td>\n",
       "      <td>3.1</td>\n",
       "      <td>3.1</td>\n",
       "      <td>...</td>\n",
       "      <td>57.9</td>\n",
       "      <td>57.9</td>\n",
       "      <td>ENV</td>\n",
       "      <td>-37.819904</td>\n",
       "      <td>144.940485</td>\n",
       "      <td>NaN</td>\n",
       "      <td>Docklands Library</td>\n",
       "      <td>509-20150124111500</td>\n",
       "      <td>NaN</td>\n",
       "      <td>-37.8199043, 144.9404851</td>\n",
       "    </tr>\n",
       "    <tr>\n",
       "      <th>3</th>\n",
       "      <td>2015-01-24</td>\n",
       "      <td>0013a20040b31583</td>\n",
       "      <td>1</td>\n",
       "      <td>509</td>\n",
       "      <td>19.7</td>\n",
       "      <td>19.7</td>\n",
       "      <td>19.7</td>\n",
       "      <td>3.1</td>\n",
       "      <td>3.1</td>\n",
       "      <td>3.1</td>\n",
       "      <td>...</td>\n",
       "      <td>53.7</td>\n",
       "      <td>53.7</td>\n",
       "      <td>ENV</td>\n",
       "      <td>-37.819904</td>\n",
       "      <td>144.940485</td>\n",
       "      <td>NaN</td>\n",
       "      <td>Docklands Library</td>\n",
       "      <td>509-20150124115500</td>\n",
       "      <td>NaN</td>\n",
       "      <td>-37.8199043, 144.9404851</td>\n",
       "    </tr>\n",
       "    <tr>\n",
       "      <th>4</th>\n",
       "      <td>2015-01-24</td>\n",
       "      <td>0013a20040b31571</td>\n",
       "      <td>1</td>\n",
       "      <td>510</td>\n",
       "      <td>18.7</td>\n",
       "      <td>18.7</td>\n",
       "      <td>18.7</td>\n",
       "      <td>1.0</td>\n",
       "      <td>1.0</td>\n",
       "      <td>1.0</td>\n",
       "      <td>...</td>\n",
       "      <td>48.6</td>\n",
       "      <td>48.6</td>\n",
       "      <td>ENV</td>\n",
       "      <td>-37.819712</td>\n",
       "      <td>144.941325</td>\n",
       "      <td>NaN</td>\n",
       "      <td>Docklands Library</td>\n",
       "      <td>510-20150124115500</td>\n",
       "      <td>NaN</td>\n",
       "      <td>-37.8197121, 144.9413253</td>\n",
       "    </tr>\n",
       "  </tbody>\n",
       "</table>\n",
       "<p>5 rows × 21 columns</p>\n",
       "</div>"
      ],
      "text/plain": [
       "   timestamp               mac  boardtype  boardid  temp_max  temp_min  \\\n",
       "0 2015-01-24  0013a20040b31571          1      510      19.4      19.4   \n",
       "1 2015-01-24  0013a20040b5b337          1      511      19.7      19.7   \n",
       "2 2015-01-24  0013a20040b31583          1      509      19.7      19.7   \n",
       "3 2015-01-24  0013a20040b31583          1      509      19.7      19.7   \n",
       "4 2015-01-24  0013a20040b31571          1      510      18.7      18.7   \n",
       "\n",
       "   temp_avg  light_max  light_min  light_avg  ...  humidity_max  humidity_avg  \\\n",
       "0      19.4        0.9        0.9        0.9  ...          52.7          52.7   \n",
       "1      19.7       10.6       10.6       10.6  ...          50.2          50.2   \n",
       "2      19.7        3.1        3.1        3.1  ...          57.9          57.9   \n",
       "3      19.7        3.1        3.1        3.1  ...          53.7          53.7   \n",
       "4      18.7        1.0        1.0        1.0  ...          48.6          48.6   \n",
       "\n",
       "   model   latitude   longitude  elevation           location  \\\n",
       "0    ENV -37.819712  144.941325        NaN  Docklands Library   \n",
       "1    ENV -37.819500  144.941889        NaN  Docklands Library   \n",
       "2    ENV -37.819904  144.940485        NaN  Docklands Library   \n",
       "3    ENV -37.819904  144.940485        NaN  Docklands Library   \n",
       "4    ENV -37.819712  144.941325        NaN  Docklands Library   \n",
       "\n",
       "                rowid Position               geolocation  \n",
       "0  510-20150124104500      NaN  -37.8197121, 144.9413253  \n",
       "1  511-20150124111500      NaN  -37.8195002, 144.9418888  \n",
       "2  509-20150124111500      NaN  -37.8199043, 144.9404851  \n",
       "3  509-20150124115500      NaN  -37.8199043, 144.9404851  \n",
       "4  510-20150124115500      NaN  -37.8197121, 144.9413253  \n",
       "\n",
       "[5 rows x 21 columns]"
      ]
     },
     "execution_count": 11,
     "metadata": {},
     "output_type": "execute_result"
    }
   ],
   "source": [
    "df.head()"
   ]
  },
  {
   "cell_type": "markdown",
   "id": "7e2b8e5b",
   "metadata": {},
   "source": [
    "## Print feature names with the number of missing entries"
   ]
  },
  {
   "cell_type": "code",
   "execution_count": 12,
   "id": "6812dbf3",
   "metadata": {},
   "outputs": [
    {
     "name": "stdout",
     "output_type": "stream",
     "text": [
      "timestamp           0\n",
      "mac                 0\n",
      "boardtype           0\n",
      "boardid             0\n",
      "temp_max            0\n",
      "temp_min            0\n",
      "temp_avg            0\n",
      "light_max           0\n",
      "light_min           0\n",
      "light_avg           0\n",
      "humidity_min        0\n",
      "humidity_max        0\n",
      "humidity_avg        0\n",
      "model               0\n",
      "latitude            0\n",
      "longitude           0\n",
      "elevation       21595\n",
      "location            0\n",
      "rowid               0\n",
      "Position        56570\n",
      "geolocation         0\n",
      "dtype: int64\n"
     ]
    }
   ],
   "source": [
    "# Print feature names with the number of missing entries\n",
    "missing_entries = df.isnull().sum()\n",
    "print(missing_entries)"
   ]
  },
  {
   "cell_type": "markdown",
   "id": "9322d1aa",
   "metadata": {},
   "source": [
    "- The missing entries are found using isnull().sum() function applied on the dataset.\n",
    "\n",
    "- The elevation column has 21595 missing values and Position column has 56570 missing values."
   ]
  },
  {
   "cell_type": "markdown",
   "id": "45a2c882",
   "metadata": {},
   "source": [
    "# 2. Fill in the missing entries. For filling any feature, you can use either the mean or median value of the feature values from observed entries. Explain the reason behind your choice and print replacement value of each feature."
   ]
  },
  {
   "cell_type": "markdown",
   "id": "17e2b94b",
   "metadata": {},
   "source": [
    "## STEP 2:\n",
    "\n",
    "1. The missing entries are filled either with mean or median value of the features.\n",
    "\n",
    "2. The reason behind choosing mean or median has to be explained."
   ]
  },
  {
   "cell_type": "markdown",
   "id": "4a4e43d1",
   "metadata": {},
   "source": [
    "#### DATA CLEANING:\n",
    "\n",
    "- We can't derive into conclusions and start deriving relationships with EDA , when some of the data is actually missing or encoded. So before working on ,we must clean the dataset.\n",
    "\n",
    "- Pandas recognise only 'Nan' as its the standard missing value.Pandas cannot recognise non-standard missing value such as '-'.\n",
    "\n",
    "- The easiest way is to eliminate all the team records with null or missing values. But if we do so, we may end up eliminating even the important data.\n",
    "\n",
    "- Now its our choice to impute either with mean or median."
   ]
  },
  {
   "cell_type": "code",
   "execution_count": 13,
   "id": "7f257d13",
   "metadata": {},
   "outputs": [],
   "source": [
    "# Fill missing entries with the mean of the observed values\n",
    "numeric_columns = df.select_dtypes(include=['number']).columns\n",
    "\n",
    "data_filled = df.copy()  # Create a copy to avoid modifying original\n",
    "\n",
    "\n",
    "data_filled[numeric_columns] = data_filled[numeric_columns].fillna(data_filled[numeric_columns].mean())"
   ]
  },
  {
   "cell_type": "code",
   "execution_count": 14,
   "id": "0e1763af",
   "metadata": {},
   "outputs": [
    {
     "name": "stdout",
     "output_type": "stream",
     "text": [
      "Replacement values for each feature:\n",
      "boardtype         1.000000\n",
      "boardid         507.918738\n",
      "temp_max         18.522650\n",
      "temp_min         18.522650\n",
      "temp_avg         18.522650\n",
      "light_max        48.674527\n",
      "light_min        48.674527\n",
      "light_avg        48.674527\n",
      "humidity_min     49.431043\n",
      "humidity_max     49.431043\n",
      "humidity_avg     49.431043\n",
      "latitude        -37.818444\n",
      "longitude       144.950806\n",
      "elevation        12.973810\n",
      "Position               NaN\n",
      "dtype: float64\n"
     ]
    }
   ],
   "source": [
    "print(\"Replacement values for each feature:\")\n",
    "print(data_filled[numeric_columns].mean()) # Calculate mean for only numeric columns"
   ]
  },
  {
   "cell_type": "markdown",
   "id": "3be3d950",
   "metadata": {},
   "source": [
    "#### Since the **Position** column has mostly **Nan** values, it has to be removed."
   ]
  },
  {
   "cell_type": "code",
   "execution_count": 15,
   "id": "1782a125",
   "metadata": {},
   "outputs": [],
   "source": [
    "data_filled = data_filled.drop(columns=['Position'])"
   ]
  },
  {
   "cell_type": "code",
   "execution_count": 16,
   "id": "75e057ed",
   "metadata": {},
   "outputs": [
    {
     "data": {
      "text/plain": [
       "Index(['timestamp', 'mac', 'boardtype', 'boardid', 'temp_max', 'temp_min',\n",
       "       'temp_avg', 'light_max', 'light_min', 'light_avg', 'humidity_min',\n",
       "       'humidity_max', 'humidity_avg', 'model', 'latitude', 'longitude',\n",
       "       'elevation', 'location', 'rowid', 'geolocation'],\n",
       "      dtype='object')"
      ]
     },
     "execution_count": 16,
     "metadata": {},
     "output_type": "execute_result"
    }
   ],
   "source": [
    "data_filled.columns"
   ]
  },
  {
   "cell_type": "code",
   "execution_count": 17,
   "id": "dee71c47",
   "metadata": {},
   "outputs": [
    {
     "data": {
      "text/plain": [
       "(56570, 20)"
      ]
     },
     "execution_count": 17,
     "metadata": {},
     "output_type": "execute_result"
    }
   ],
   "source": [
    "data_filled.shape"
   ]
  },
  {
   "cell_type": "code",
   "execution_count": 18,
   "id": "7c7219d1",
   "metadata": {},
   "outputs": [
    {
     "data": {
      "text/plain": [
       "<Axes: xlabel='humidity_max', ylabel='Density'>"
      ]
     },
     "execution_count": 18,
     "metadata": {},
     "output_type": "execute_result"
    },
    {
     "data": {
      "image/png": "[encoded data removed]",
      "text/plain": [
       "<Figure size 640x480 with 1 Axes>"
      ]
     },
     "metadata": {},
     "output_type": "display_data"
    }
   ],
   "source": [
    "sns.distplot(data_filled['humidity_max'],kde=True)"
   ]
  },
  {
   "cell_type": "markdown",
   "id": "2935d784",
   "metadata": {},
   "source": [
    "#### The reason behind choosing the mean is that it is a quick and effective method in order to preserve the overall distribution of the data.\n",
    "\n",
    "- Mean is used here as the dataset is almost normally distributed."
   ]
  },
  {
   "cell_type": "markdown",
   "id": "dbb76c93",
   "metadata": {},
   "source": [
    "# 3. Use a histogram to show the distribution of the variable “location”. Explain the distribution and show how many locations are there in total. "
   ]
  },
  {
   "cell_type": "markdown",
   "id": "d72d0a5b",
   "metadata": {},
   "source": [
    "- A histogram is a graphical representation of the distribution of a dataset. It is a type of bar plot where each bar represents the frequency of data points that fall within specified ranges. Histograms are useful for understanding the underlying frequency distribution (shape) of a set of continuous data."
   ]
  },
  {
   "cell_type": "markdown",
   "id": "54ee71ef",
   "metadata": {},
   "source": [
    "### Step 3:\n",
    "\n",
    "- In order to plot a histogram to show the distribution of the variable “location”."
   ]
  },
  {
   "cell_type": "code",
   "execution_count": 19,
   "id": "5baf268f",
   "metadata": {},
   "outputs": [
    {
     "data": {
      "image/png": "[encoded data removed]",
      "text/plain": [
       "<Figure size 800x600 with 1 Axes>"
      ]
     },
     "metadata": {},
     "output_type": "display_data"
    },
    {
     "name": "stdout",
     "output_type": "stream",
     "text": [
      "Total number of locations: 2\n"
     ]
    }
   ],
   "source": [
    "import matplotlib.pyplot as plt\n",
    "\n",
    "# Plot histogram of 'location'\n",
    "plt.figure(figsize=(8, 6))\n",
    "data_filled['location'].hist()\n",
    "plt.title('Distribution of Locations')\n",
    "plt.xlabel('Location')\n",
    "plt.ylabel('Frequency')\n",
    "plt.grid(True)\n",
    "plt.show()\n",
    "\n",
    "# Count total number of locations\n",
    "total_locations = data_filled['location'].nunique()\n",
    "print(f\"Total number of locations: {total_locations}\")"
   ]
  },
  {
   "cell_type": "markdown",
   "id": "bbe10c9e",
   "metadata": {},
   "source": [
    "#### Conclusion:\n",
    "\n",
    "- The environmental sensors, measuring light levels, humidity and temperature are measured at 2 locations. \n",
    "\n",
    "- Those are **Docksland Library and Fitzroy Gardens**."
   ]
  },
  {
   "cell_type": "markdown",
   "id": "1f3f8977",
   "metadata": {},
   "source": [
    "# 4. Encode the categorical variable \"location\" using an appropriate encoding approach and display the encoded values. Justify your selection of encoding approaches."
   ]
  },
  {
   "cell_type": "markdown",
   "id": "a83181cb",
   "metadata": {},
   "source": [
    "### Step 4: \n",
    "\n",
    "- To encode the categorical variable \"location\" using an appropriate encoding approach and display the encoded values."
   ]
  },
  {
   "cell_type": "code",
   "execution_count": 20,
   "id": "ef2b8df1",
   "metadata": {},
   "outputs": [],
   "source": [
    "from sklearn.preprocessing import OneHotEncoder\n",
    "\n",
    "# Create an instance of the OneHotEncoder\n",
    "encoder = OneHotEncoder()"
   ]
  },
  {
   "cell_type": "markdown",
   "id": "62ebca97",
   "metadata": {},
   "source": [
    "#### OneHotEncoder is a technique used to convert categorical variables into a format that can be provided to ML algorithms to do a better job in prediction. OneHotEncoder ensures that the model does not assume any ordinal relationship between the categories. One-hot encoding allows these algorithms to interpret the categorical data effectively, leading to improved model performance."
   ]
  },
  {
   "cell_type": "code",
   "execution_count": 21,
   "id": "f25de132",
   "metadata": {},
   "outputs": [],
   "source": [
    "# Fit and transform the \"location\" column\n",
    "encoded_location = encoder.fit_transform(data_filled[[\"location\"]]).toarray()"
   ]
  },
  {
   "cell_type": "code",
   "execution_count": 22,
   "id": "9bc8fa14",
   "metadata": {},
   "outputs": [],
   "source": [
    "# Get feature names (for scikit-learn versions 0.20 and above)\n",
    "feature_names = encoder.get_feature_names_out([\"location\"])\n",
    "\n",
    "# Create a DataFrame with the encoded values\n",
    "encoded_df = pd.DataFrame(encoded_location, columns=feature_names)"
   ]
  },
  {
   "cell_type": "code",
   "execution_count": 23,
   "id": "7175f94c",
   "metadata": {},
   "outputs": [],
   "source": [
    "# Concatenate the encoded DataFrame with the original data\n",
    "data_encoded = pd.concat([data_filled, encoded_df], axis=1)"
   ]
  },
  {
   "cell_type": "code",
   "execution_count": 24,
   "id": "87296ceb",
   "metadata": {},
   "outputs": [],
   "source": [
    "# Drop the original \"location\" column\n",
    "data_encoded.drop(columns=[\"location\"], inplace=True)"
   ]
  },
  {
   "cell_type": "code",
   "execution_count": 25,
   "id": "333f5e35",
   "metadata": {},
   "outputs": [],
   "source": [
    "# Save the modified data to a new CSV file\n",
    "data_encoded.to_csv(\"sensor-readings-modified.csv\", index=False)"
   ]
  },
  {
   "cell_type": "markdown",
   "id": "bae6d2ad",
   "metadata": {},
   "source": [
    "- This OneHotEncoder() is a encoding approach. This technique is fit and transformed to array.\n",
    "\n",
    "- Feature names are taken from the \"location\" and created a DataFrame with the encoded values.\n",
    "\n",
    "- the encoded DataFrame is Concatenated with the original data.\n",
    "\n",
    "- Now the original \"location\" column is dropped and saved the **data_encoded** as **\"sensor-readings-modified\"**, .csv file."
   ]
  },
  {
   "cell_type": "markdown",
   "id": "3a25db5d",
   "metadata": {},
   "source": [
    "# 5. Apply the min-max scaling on features \"[boardtype, boardid, temp_max, temp_min, temp_avg, light_max, light_min, light_avg, humidity_min, humidity_max, humidity_avg]\". Plot distribution of first six features before and after scaling. Is there any difference? Please explain."
   ]
  },
  {
   "cell_type": "markdown",
   "id": "7cf24511",
   "metadata": {},
   "source": [
    "### Step 5: \n",
    "\n",
    "1. To apply the min-max scaling on features \"[boardtype, boardid, temp_max, temp_min, temp_avg, light_max, light_min, light_avg, humidity_min, humidity_max, humidity_avg]\".\n",
    "\n",
    "2. To Plot distribution of first six features before and after scaling."
   ]
  },
  {
   "cell_type": "markdown",
   "id": "8eba18bc",
   "metadata": {},
   "source": [
    "- Min-Max scaling is chosen to normalize the features to a range of [0, 1], which helps in algorithms that require normalized input for better performance.\n",
    "\n",
    "- Min-max scaling ensures that no single feature dominates due to its magnitude, allowing the model to learn from all features more effectively.  When features are on different scales, algorithms may take longer to converge to the optimal solution. Scaling the features helps to normalize the gradient steps, leading to faster convergence."
   ]
  },
  {
   "cell_type": "code",
   "execution_count": 26,
   "id": "dc0f0df4",
   "metadata": {},
   "outputs": [],
   "source": [
    "from sklearn.preprocessing import MinMaxScaler\n",
    "import matplotlib.pyplot as plt"
   ]
  },
  {
   "cell_type": "code",
   "execution_count": 27,
   "id": "c0ee8668",
   "metadata": {},
   "outputs": [],
   "source": [
    "# Select features for min-max scaling\n",
    "features_to_scale = [\n",
    "    'boardtype', 'boardid', 'temp_max', 'temp_min', 'temp_avg',\n",
    "    'light_max', 'light_min', 'light_avg', 'humidity_min', 'humidity_max', 'humidity_avg'\n",
    "]"
   ]
  },
  {
   "cell_type": "code",
   "execution_count": 28,
   "id": "3f0dc4f4",
   "metadata": {},
   "outputs": [],
   "source": [
    "# Create a copy of the data to avoid modifying the original data\n",
    "data_scaled = data_encoded.copy()"
   ]
  },
  {
   "cell_type": "code",
   "execution_count": 29,
   "id": "0334d67a",
   "metadata": {},
   "outputs": [],
   "source": [
    "# Initialize the MinMaxScaler\n",
    "scaler = MinMaxScaler()"
   ]
  },
  {
   "cell_type": "code",
   "execution_count": 30,
   "id": "e8bd84d6",
   "metadata": {},
   "outputs": [],
   "source": [
    "# Apply min-max scaling to the selected features\n",
    "data_scaled[features_to_scale] = scaler.fit_transform(data_encoded[features_to_scale])"
   ]
  },
  {
   "cell_type": "code",
   "execution_count": 34,
   "id": "e95f4980",
   "metadata": {},
   "outputs": [
    {
     "data": {
      "image/png": "[encoded data removed]",
      "text/plain": [
       "<Figure size 1200x600 with 6 Axes>"
      ]
     },
     "metadata": {},
     "output_type": "display_data"
    }
   ],
   "source": [
    "# Plot the distributions before and after scaling for the first six features\n",
    "plt.figure(figsize=(12, 6))\n",
    "\n",
    "for i in range(6):\n",
    "    plt.subplot(2, 3, i+1)\n",
    "    plt.hist(data_encoded[features_to_scale[i]], bins=20, alpha=0.5, label='Original', color = \"red\")\n",
    "    plt.hist(data_scaled[features_to_scale[i]], bins=20, alpha=0.5, label='Scaled', color = \"green\")\n",
    "    plt.title(features_to_scale[i])\n",
    "    plt.legend()\n",
    "\n",
    "plt.tight_layout()\n",
    "plt.show()"
   ]
  },
  {
   "cell_type": "markdown",
   "id": "18206b40",
   "metadata": {},
   "source": [
    "#### Conclusion of Step 5:\n",
    "\n",
    "1. In the plot, you will observe that the distributions before and after scaling look the same in terms of shape and spread, but the values have been transformed to the [0, 1] range. The primary goal of min-max scaling is to bring all features to a common scale, avoiding any dominance of a particular feature due to its large value range. The plot confirms that min-max scaling has been successful in achieving this goal for the selected features.\n",
    "\n",
    "After completing these steps, you should have the modified data saved in \"sensor-readings-modified.csv\" and the plot showing the distribution before and after scaling for the first six features. Make sure to upload the new CSV file as requested in your submission."
   ]
  },
  {
   "cell_type": "markdown",
   "id": "d32c5a25",
   "metadata": {},
   "source": [
    "# REFERENCE:\n",
    "\n",
    "[1] City of Melbourne, \"Sensor readings, with temperature, light, humidity every 5 minutes at 8 locations (trial, 2014 to 2015),\" [Online]. Available: https://data.melbourne.vic.gov.au/api/explore/v2.1/catalog/datasets/sensor-readings-with-temperature-light-humidity-every-5-minutes-at-8-locations-t/exports/csv?lang=en&timezone=Asia%2FKolkata&use_labels=true&delimiter=%2C."
   ]
  },
  {
   "cell_type": "code",
   "execution_count": null,
   "id": "eed43bd8",
   "metadata": {},
   "outputs": [],
   "source": []
  }
 ],
 "metadata": {
  "kernelspec": {
   "display_name": "Python 3 (ipykernel)",
   "language": "python",
   "name": "python3"
  },
  "language_info": {
   "codemirror_mode": {
    "name": "ipython",
    "version": 3
   },
   "file_extension": ".py",
   "mimetype": "text/x-python",
   "name": "python",
   "nbconvert_exporter": "python",
   "pygments_lexer": "ipython3",
   "version": "3.11.5"
  }
 },
 "nbformat": 4,
 "nbformat_minor": 5
}
